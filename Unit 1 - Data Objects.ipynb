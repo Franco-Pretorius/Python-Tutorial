{
 "cells": [
  {
   "cell_type": "markdown",
   "metadata": {},
   "source": [
    "# First Steps on Jupyter\n",
    "\n",
    "Welcome to Jupyter! The word itself is an amalgamation of Julia, Python and R and is a cell-based programming environment. Furthermore, it's very easy to learn, read and maintain. Previously, the Spyder editor was used, but with Jupyter notebooks blocks of code can be executed separately (which makes debugging much easier too)!"
   ]
  },
  {
   "cell_type": "markdown",
   "metadata": {
    "toc": true
   },
   "source": [
    "<h1>Table of Contents<span class=\"tocSkip\"></span></h1>\n",
    "<div class=\"toc\"><ul class=\"toc-item\"><li><span><a href=\"#Simple-math\" data-toc-modified-id=\"Simple-math-1\"><span class=\"toc-item-num\">1&nbsp;&nbsp;</span>Simple math</a></span><ul class=\"toc-item\"><li><span><a href=\"#Mathematical-operations\" data-toc-modified-id=\"Mathematical-operations-1.1\"><span class=\"toc-item-num\">1.1&nbsp;&nbsp;</span>Mathematical operations</a></span></li><li><span><a href=\"#Importing-a-module\" data-toc-modified-id=\"Importing-a-module-1.2\"><span class=\"toc-item-num\">1.2&nbsp;&nbsp;</span>Importing a module</a></span></li><li><span><a href=\"#Getting-help\" data-toc-modified-id=\"Getting-help-1.3\"><span class=\"toc-item-num\">1.3&nbsp;&nbsp;</span>Getting help</a></span></li></ul></li><li><span><a href=\"#Numerical-objects\" data-toc-modified-id=\"Numerical-objects-2\"><span class=\"toc-item-num\">2&nbsp;&nbsp;</span>Numerical objects</a></span><ul class=\"toc-item\"><li><span><a href=\"#Assigning-variables\" data-toc-modified-id=\"Assigning-variables-2.1\"><span class=\"toc-item-num\">2.1&nbsp;&nbsp;</span>Assigning variables</a></span></li><li><span><a href=\"#Assignment-operators\" data-toc-modified-id=\"Assignment-operators-2.2\"><span class=\"toc-item-num\">2.2&nbsp;&nbsp;</span>Assignment operators</a></span></li></ul></li><li><span><a href=\"#Data-sequences\" data-toc-modified-id=\"Data-sequences-3\"><span class=\"toc-item-num\">3&nbsp;&nbsp;</span>Data sequences</a></span><ul class=\"toc-item\"><li><span><a href=\"#Strings\" data-toc-modified-id=\"Strings-3.1\"><span class=\"toc-item-num\">3.1&nbsp;&nbsp;</span>Strings</a></span></li><li><span><a href=\"#Tuples\" data-toc-modified-id=\"Tuples-3.2\"><span class=\"toc-item-num\">3.2&nbsp;&nbsp;</span>Tuples</a></span></li><li><span><a href=\"#Lists\" data-toc-modified-id=\"Lists-3.3\"><span class=\"toc-item-num\">3.3&nbsp;&nbsp;</span>Lists</a></span></li><li><span><a href=\"#Indexing-and-changing-sequences\" data-toc-modified-id=\"Indexing-and-changing-sequences-3.4\"><span class=\"toc-item-num\">3.4&nbsp;&nbsp;</span>Indexing and changing sequences</a></span></li><li><span><a href=\"#Dictionaries\" data-toc-modified-id=\"Dictionaries-3.5\"><span class=\"toc-item-num\">3.5&nbsp;&nbsp;</span>Dictionaries</a></span></li><li><span><a href=\"#Formatted-printing\" data-toc-modified-id=\"Formatted-printing-3.6\"><span class=\"toc-item-num\">3.6&nbsp;&nbsp;</span>Formatted printing</a></span></li><li><span><a href=\"#Copying-objects\" data-toc-modified-id=\"Copying-objects-3.7\"><span class=\"toc-item-num\">3.7&nbsp;&nbsp;</span>Copying objects</a></span></li><li><span><a href=\"#Exercises\" data-toc-modified-id=\"Exercises-3.8\"><span class=\"toc-item-num\">3.8&nbsp;&nbsp;</span>Exercises</a></span></li></ul></li></ul></div>"
   ]
  },
  {
   "cell_type": "markdown",
   "metadata": {},
   "source": [
    "Blocks of text, such as this one, offer explanations and help. These are written in [_Markdown_](https://help.github.com/articles/markdown-basics/). **Double-click** these cells to see the _hidden_ formatting syntax. \n",
    "\n",
    "Code is executed in cells such as the one below. Click in the cell and then press the **Run button** in the top menu bar or use the shortcut: Shift+Enter."
   ]
  },
  {
   "cell_type": "code",
   "execution_count": null,
   "metadata": {},
   "outputs": [],
   "source": [
    "print(\"Hello, World!\")"
   ]
  },
  {
   "cell_type": "markdown",
   "metadata": {},
   "source": [
    "## Simple math \n",
    "\n",
    "### Mathematical operations \n",
    "\n",
    "Now let's see how math works. Use `*` for multiplication and `**` for exponentiation."
   ]
  },
  {
   "cell_type": "code",
   "execution_count": null,
   "metadata": {},
   "outputs": [],
   "source": [
    "2*3"
   ]
  },
  {
   "cell_type": "markdown",
   "metadata": {},
   "source": [
    "Only the very last output of cell will automatically be printed. To see other prior outputs, use the `print()` function.  Use the hash symbol before comments."
   ]
  },
  {
   "cell_type": "code",
   "execution_count": null,
   "metadata": {},
   "outputs": [],
   "source": [
    "4 - 3\n",
    "print(1 + 1)\n",
    "5**2"
   ]
  },
  {
   "cell_type": "code",
   "execution_count": null,
   "metadata": {},
   "outputs": [],
   "source": [
    "# Integer division is no longer a problem in Python 3\n",
    "17/3"
   ]
  },
  {
   "cell_type": "code",
   "execution_count": null,
   "metadata": {},
   "outputs": [],
   "source": [
    "17//3  # But you can still force integer division"
   ]
  },
  {
   "cell_type": "code",
   "execution_count": null,
   "metadata": {},
   "outputs": [],
   "source": [
    "17%3 # If you want the remainder of a division"
   ]
  },
  {
   "cell_type": "code",
   "execution_count": null,
   "metadata": {},
   "outputs": [],
   "source": [
    "pi"
   ]
  },
  {
   "cell_type": "markdown",
   "metadata": {},
   "source": [
    "### Importing a module\n",
    "\n",
    "Note the error in the previous cell. We must import a module that has the value of pi defined."
   ]
  },
  {
   "cell_type": "code",
   "execution_count": null,
   "metadata": {},
   "outputs": [],
   "source": [
    "import math\n",
    "math.pi"
   ]
  },
  {
   "cell_type": "markdown",
   "metadata": {},
   "source": [
    "Let's calculate $ \\sin(1) + \\cos(2) $:"
   ]
  },
  {
   "cell_type": "code",
   "execution_count": null,
   "metadata": {},
   "outputs": [],
   "source": [
    "# Trigonometric functions use radians by default\n",
    "math.sin(1) + math.cos(2)"
   ]
  },
  {
   "cell_type": "code",
   "execution_count": null,
   "metadata": {},
   "outputs": [],
   "source": [
    "a = math.sin(1) \n",
    "b = math.cos(2)\n",
    "a + b"
   ]
  },
  {
   "cell_type": "markdown",
   "metadata": {},
   "source": [
    "If you don't want to keep typing the name of a module, you can rename it, or simply import the functions you require (but remember to stay consistent). Note if you open a new notebook, you will have to import all the modules you would like to use again.\n",
    "\n",
    "Furthermore, wildcard imports (`from module import *`) should be avoided, as they make it unclear which names are present in the namespace, confusing both readers and many automated tools."
   ]
  },
  {
   "cell_type": "code",
   "execution_count": null,
   "metadata": {},
   "outputs": [],
   "source": [
    "from math import log10, log, e, pi, sin\n",
    "\n",
    "print(log10(1000))\n",
    "log(e)"
   ]
  },
  {
   "cell_type": "markdown",
   "metadata": {},
   "source": [
    "At this point, go back up to the 6th coding cell. `pi` will now be printed"
   ]
  },
  {
   "cell_type": "code",
   "execution_count": null,
   "metadata": {},
   "outputs": [],
   "source": [
    "import math as m\n",
    "m.sin(2.5)"
   ]
  },
  {
   "cell_type": "markdown",
   "metadata": {},
   "source": [
    "### Getting help\n",
    "\n",
    "How do we know which functions a module contains? And how do we know what these functions do?\n",
    "\n",
    "Use the `dir()` (directory) function to return a list of functions within a module. Excluding the argument displays the local variable and function names you have defined. To see the names of built-in functions and variables, import `builtins` and use it as the argument (`dir(builtins)`); however, their documentation is available [here](https://docs.python.org/3/library/functions.html).\n",
    "\n",
    "When the output of a cell is very long, click on the left column to scroll the output, or double click to hide it."
   ]
  },
  {
   "cell_type": "code",
   "execution_count": null,
   "metadata": {
    "scrolled": true
   },
   "outputs": [],
   "source": [
    "dir(math)\n",
    "# The special functions like __name__ are pronounced \"dunder name\". Dunder is short for \"double underscore\" \n",
    "# These are used when you write your own classes/modules (excluded from this tutorial)."
   ]
  },
  {
   "cell_type": "code",
   "execution_count": null,
   "metadata": {},
   "outputs": [],
   "source": [
    "# This just returns the module's name\n",
    "math.__name__"
   ]
  },
  {
   "cell_type": "markdown",
   "metadata": {},
   "source": [
    "Unhash this function by deleting the hash or by pressing ctrl+/. Type _keywords_ in the search box, and scan through the list of words **(Never use these names for files, modules, functions or variables! They will usually turn green to remind you)**. \n",
    "\n",
    "Type quit after you're done. \n",
    "\n",
    "<span style=\"color:red\"> **Warning:** </span> If there's still an asterisk in the status box after you're done, it means that the cell is still busy. At the top notebook menu bar, under Kernel, press Restart (all variable assignments will be undone)."
   ]
  },
  {
   "cell_type": "code",
   "execution_count": null,
   "metadata": {},
   "outputs": [],
   "source": [
    "# help()"
   ]
  },
  {
   "cell_type": "code",
   "execution_count": null,
   "metadata": {},
   "outputs": [],
   "source": [
    "help(math)"
   ]
  },
  {
   "cell_type": "markdown",
   "metadata": {},
   "source": [
    "What you see below is called the module's docstring. A docstring is a string literal (i.e. a string of text) that occurs as the first statement in a module, function, class, or method definition and provides a convenient way of\n",
    "associating documentation."
   ]
  },
  {
   "cell_type": "code",
   "execution_count": null,
   "metadata": {},
   "outputs": [],
   "source": [
    "# math.__doc__"
   ]
  },
  {
   "cell_type": "code",
   "execution_count": null,
   "metadata": {},
   "outputs": [],
   "source": [
    "# help(log)"
   ]
  },
  {
   "cell_type": "code",
   "execution_count": null,
   "metadata": {},
   "outputs": [],
   "source": [
    "# Try this neat shortcut!\n",
    "# sin?"
   ]
  },
  {
   "cell_type": "markdown",
   "metadata": {},
   "source": [
    "Online help is also available, including books: \n",
    "-  The official [tutorial](https://docs.python.org/3.7/tutorial/) by Guido van Rossum\n",
    "-  [Non-Programmer's Tutorial for Python 3](https://en.wikibooks.org/wiki/Non-Programmer%27s_Tutorial_for_Python_3)\n",
    "-  By Carl Sandrock: [Python page on the wiki](http://chemeng.up.ac.za/wiki/index.php/Python), [ChemEng cookbook](https://github.com/alchemyst/chemengcookbook)\n",
    "-  Introduction to programming for engineers using Python by Logan Page, Daniel Wilke, and Schalk Kok\n",
    "-  Introduction to Python for Computational Science and Engineering by Hans Fanghor\n",
    "\n",
    "Be sure to follow Carl's advice to \"Read the docs!\" before using a new module. The documentation provides more information than `help(module)`, including examples. Simply Google \"math docs python\", for [example](https://docs.python.org/3/library/math.html). Remember we're currently in Python 3.7.2, but that may update in the future. For example:\n",
    "\n",
    "\n",
    "Also under Help in the notebook menubar, you'll find links including:\n",
    " + The user interface tour\n",
    " - Keyboard shortcuts\n",
    " * Common modules' documentation\n",
    " \n",
    "Under View you can Toggle Line Numbers too.\n",
    " \n",
    "Common keyboard shortcuts: \n",
    " + Ctrl+C & Ctrl+V to copy and paste code (there is no button for this in the menubar)\n",
    " + Ctrl+Z & Ctrl+Y to undo and redo within a cell\n",
    " + Ctrl+X to cut code\n",
    " + Ctrl+F to find something on a page\n",
    " + Alt+Left/Right to move to the very start/end of a line\n",
    " + Ctrl+P to print the notebook, or save it as a pdf\n",
    " \n",
    "Other cool tips include: 😎💻\n",
    " + Ctrl+Shift+P to see keyboard shortcuts on the command palette\n",
    " + Press the left column to change it from green (edit mode) to blue (command mode)\n",
    " + (In command mode) Shift + Up to select multiple cells\n",
    " + Alt+Drag mouse+Directional arrows for **multicursor** support (edit many lines at once)\n",
    " \n",
    "Further reading:\n",
    " + [Advanced jupyter tricks](https://www.dataquest.io/blog/jupyter-notebook-tips-tricks-shortcuts/)\n",
    " + [Markdown guide](https://www.markdownguide.org/basic-syntax/)\n",
    " + [Markdown table generator](https://www.tablesgenerator.com/markdown_tables#)"
   ]
  },
  {
   "cell_type": "markdown",
   "metadata": {},
   "source": [
    "## Numerical objects\n",
    "\n",
    "### Assigning variables\n",
    "\n",
    "Now that you're comfortable with basic mathematical operations, let's investigate using variable names. \n",
    "- Firstly consider how the value of b is overriden below. \n",
    "- Secondly note how there is **no asterisk** needed for the complex number. \n",
    "- Thirdly note that a boolean can have a numerical value (e.g. `False = 0` and `True = 1`).\n",
    "\n",
    "The PEP8 variable naming conventions are available [here]( http://www.python.org/dev/peps/pep-0008/) (i.e. names should be at least 3 characters, descriptive and lowercase). Both Python and Ruby recommend UpperCamelCase for class names, CAPITALIZED_WITH_UNDERSCORES for constants, and lowercase_separated_by_underscores for other names.\n",
    "\n",
    "Common variable names you may see on the internet include: foo, bar, baz, foobar, val and vec. "
   ]
  },
  {
   "cell_type": "code",
   "execution_count": null,
   "metadata": {},
   "outputs": [],
   "source": [
    "a = -2 # integer\n",
    "b = 2.5 # float\n",
    "b = 2.9\n",
    "c = 2+5j # complex\n",
    "d = True # boolean\n",
    "\n",
    "print(a + b)\n",
    "print(b + c)\n",
    "print(d - 1)"
   ]
  },
  {
   "cell_type": "code",
   "execution_count": null,
   "metadata": {},
   "outputs": [],
   "source": [
    "type(b) # try looking at the other ones"
   ]
  },
  {
   "cell_type": "markdown",
   "metadata": {},
   "source": [
    "There are also built-in functions that can even change the type of variable."
   ]
  },
  {
   "cell_type": "code",
   "execution_count": null,
   "metadata": {},
   "outputs": [],
   "source": [
    "int(b) #note this function rounds DOWN"
   ]
  },
  {
   "cell_type": "code",
   "execution_count": null,
   "metadata": {},
   "outputs": [],
   "source": [
    "round(b)"
   ]
  },
  {
   "cell_type": "code",
   "execution_count": null,
   "metadata": {},
   "outputs": [],
   "source": [
    "abs(a)"
   ]
  },
  {
   "cell_type": "code",
   "execution_count": null,
   "metadata": {},
   "outputs": [],
   "source": [
    "float(a) "
   ]
  },
  {
   "cell_type": "code",
   "execution_count": null,
   "metadata": {},
   "outputs": [],
   "source": [
    "abs(c)"
   ]
  },
  {
   "cell_type": "markdown",
   "metadata": {},
   "source": [
    "Some Python objects have special **attributes** specific to them. To see the available attributes for an object, write out the object's name, press `.` and then Tab. If you've already started typing a name of a function, it also acts as an autocomplete."
   ]
  },
  {
   "cell_type": "code",
   "execution_count": null,
   "metadata": {},
   "outputs": [],
   "source": [
    "print(c.imag)\n",
    "print(c.real)\n",
    "c.conjugate # if the output is ever \"<function ...>\", you need to add parentheses at the end!"
   ]
  },
  {
   "cell_type": "code",
   "execution_count": null,
   "metadata": {},
   "outputs": [],
   "source": [
    "print(a, b, c, d) "
   ]
  },
  {
   "cell_type": "markdown",
   "metadata": {},
   "source": [
    "Even after all that fun with functions, the variables remain the same as when we defined them, because we didn't reassign their values. They were changed *in-place*.\n",
    "\n",
    "### Assignment operators\n",
    "But let's say we want the value of a variable to update. This shortcut works for all 5 mathematical operators. Neat!"
   ]
  },
  {
   "cell_type": "code",
   "execution_count": null,
   "metadata": {},
   "outputs": [],
   "source": [
    "val = 5\n",
    "val = val + 3\n",
    "val = val**2\n",
    "val"
   ]
  },
  {
   "cell_type": "code",
   "execution_count": null,
   "metadata": {},
   "outputs": [],
   "source": [
    "Val = 5\n",
    "Val += 3\n",
    "Val **= 2\n",
    "Val"
   ]
  },
  {
   "cell_type": "markdown",
   "metadata": {},
   "source": [
    "## Data sequences \n",
    "Strings, lists, tuples, dictionaries and sets are sequences. We’ll consider the first few here. Tuples and strings are “immutable” (which means we can’t change individual elements within the sequence), whereas lists are “mutable”.\n",
    "\n",
    "Note that ndarrays, Series and DataFrames are other special sequences which come with the NumPy and Pandas modules.\n",
    "\n",
    "### Strings\n",
    "Strings are text enclosed by quotation marks and there are 4 different ways to write them. Note the curly apostrophe (‘) copied directly from MS Word won't work. You can concatenate (add them together) with a plus."
   ]
  },
  {
   "cell_type": "code",
   "execution_count": null,
   "metadata": {},
   "outputs": [],
   "source": [
    "f = '4' # string \n",
    "g = \"Let\\'s try making a short sentence\"\n",
    "h = '''0123456789'''\n",
    "i = \"\"\"Hello, world\"\"\""
   ]
  },
  {
   "cell_type": "code",
   "execution_count": null,
   "metadata": {},
   "outputs": [],
   "source": [
    "f + i"
   ]
  },
  {
   "cell_type": "markdown",
   "metadata": {},
   "source": [
    "Strings also have unique built-in functions and attributes."
   ]
  },
  {
   "cell_type": "code",
   "execution_count": null,
   "metadata": {},
   "outputs": [],
   "source": [
    "h + str(a)"
   ]
  },
  {
   "cell_type": "code",
   "execution_count": null,
   "metadata": {},
   "outputs": [],
   "source": [
    "len(g)"
   ]
  },
  {
   "cell_type": "code",
   "execution_count": null,
   "metadata": {},
   "outputs": [],
   "source": [
    "g.upper()"
   ]
  },
  {
   "cell_type": "code",
   "execution_count": null,
   "metadata": {},
   "outputs": [],
   "source": [
    "g.split()"
   ]
  },
  {
   "cell_type": "code",
   "execution_count": null,
   "metadata": {},
   "outputs": [],
   "source": [
    "g.split('s')"
   ]
  },
  {
   "cell_type": "markdown",
   "metadata": {},
   "source": [
    "Let's say I want to replace the letter e with the letter f in string `g`. What's wrong here?"
   ]
  },
  {
   "cell_type": "code",
   "execution_count": null,
   "metadata": {},
   "outputs": [],
   "source": [
    "g.replace(e, f)"
   ]
  },
  {
   "cell_type": "code",
   "execution_count": null,
   "metadata": {},
   "outputs": [],
   "source": [
    "# Let's look at all the attributes available for string sequences:\n",
    "# dir(\"\")"
   ]
  },
  {
   "cell_type": "code",
   "execution_count": null,
   "metadata": {},
   "outputs": [],
   "source": [
    "# The method is glued to the object, even when asking for help!\n",
    "# g.replace?"
   ]
  },
  {
   "cell_type": "markdown",
   "metadata": {},
   "source": [
    "### Tuples\n",
    "\n",
    "These are immutable sequences (pronounced \"tuppels\"). Note that it is actually the comma which makes a tuple, not the parentheses. The parentheses are optional, except in the empty tuple case, or when they are needed to avoid syntactic ambiguity. They enable tuple packing (multiple assignments to a single varaible) and tuple unpacking."
   ]
  },
  {
   "cell_type": "code",
   "execution_count": null,
   "metadata": {},
   "outputs": [],
   "source": [
    "a = 1, 2, 3\n",
    "a"
   ]
  },
  {
   "cell_type": "code",
   "execution_count": null,
   "metadata": {},
   "outputs": [],
   "source": [
    "foo = (35, 36, 37, 38, 'last')\n",
    "# it also works without parentheses\n",
    "bar = 45, 46, 47, 48\n",
    "B, I, E, R = bar\n",
    "foo + bar"
   ]
  },
  {
   "cell_type": "code",
   "execution_count": null,
   "metadata": {},
   "outputs": [],
   "source": [
    "b = 1,\n",
    "type(b)"
   ]
  },
  {
   "cell_type": "code",
   "execution_count": null,
   "metadata": {},
   "outputs": [],
   "source": [
    "# dir(()) # Not much to see here"
   ]
  },
  {
   "cell_type": "markdown",
   "metadata": {},
   "source": [
    "### Lists\n",
    "Lists are some of the most used Python objects, so study them well!\n",
    "\n",
    "Here's a link to the [tutorial](https://docs.python.org/3/tutorial/datastructures.html)"
   ]
  },
  {
   "cell_type": "code",
   "execution_count": null,
   "metadata": {},
   "outputs": [],
   "source": [
    "lys = [4, -6.3, 'dog', [7, 8, 9]] #they can contain various types of variables\n",
    "lys2 = [50, 51, 52]\n",
    "lys + lys2"
   ]
  },
  {
   "cell_type": "code",
   "execution_count": null,
   "metadata": {},
   "outputs": [],
   "source": [
    "lys2.append(53)\n",
    "lys2.remove(50)\n",
    "lys2"
   ]
  },
  {
   "cell_type": "code",
   "execution_count": null,
   "metadata": {},
   "outputs": [],
   "source": [
    "print(min(lys2))\n",
    "print(max(lys2))\n",
    "print(len(lys2))"
   ]
  },
  {
   "cell_type": "code",
   "execution_count": null,
   "metadata": {},
   "outputs": [],
   "source": [
    "# dir([])"
   ]
  },
  {
   "cell_type": "markdown",
   "metadata": {},
   "source": [
    "### Indexing and changing sequences\n",
    "\n",
    "Sequences share the following operations. I would highly recommend experimenting with them and memorizing some of the syntax. Change the following example to apply to the string and tuple."
   ]
  },
  {
   "cell_type": "code",
   "execution_count": null,
   "metadata": {},
   "outputs": [],
   "source": [
    "A = [15, 16, 17, 18, 19, 20, 21]\n",
    "B = 'abcdefgh'\n",
    "C = (35, 36, 37, 38, 39)\n",
    "D = [[7, 8, 9], [\"spam\", \"eggs\", \"ham\"]]"
   ]
  },
  {
   "cell_type": "code",
   "execution_count": null,
   "metadata": {},
   "outputs": [],
   "source": [
    "print(A[0])  # call the first element\n",
    "print(A[1])  # call the second element\n",
    "print(A[-1]) # call the last element"
   ]
  },
  {
   "cell_type": "code",
   "execution_count": null,
   "metadata": {},
   "outputs": [],
   "source": [
    "# Indexing a nested list\n",
    "D[1][1]"
   ]
  },
  {
   "cell_type": "code",
   "execution_count": null,
   "metadata": {},
   "outputs": [],
   "source": [
    "list(B)"
   ]
  },
  {
   "cell_type": "code",
   "execution_count": null,
   "metadata": {},
   "outputs": [],
   "source": [
    "18 in A"
   ]
  },
  {
   "cell_type": "code",
   "execution_count": null,
   "metadata": {},
   "outputs": [],
   "source": [
    "A + [22]"
   ]
  },
  {
   "cell_type": "code",
   "execution_count": null,
   "metadata": {},
   "outputs": [],
   "source": [
    "A.append(23)\n",
    "A"
   ]
  },
  {
   "cell_type": "code",
   "execution_count": null,
   "metadata": {},
   "outputs": [],
   "source": [
    "2*A"
   ]
  },
  {
   "cell_type": "markdown",
   "metadata": {},
   "source": [
    "Note you can't concatenate two different types of sequences."
   ]
  },
  {
   "cell_type": "code",
   "execution_count": null,
   "metadata": {},
   "outputs": [],
   "source": [
    "A + C"
   ]
  },
  {
   "cell_type": "markdown",
   "metadata": {},
   "source": [
    "A very commonly used function is the `range()` function, but it only works for **integers**. Furthermore, since Python 3, it returns an iterable, not an iterator, to save memory and to enable slicing (see below). However, we can convert it to a list by the usual means. This same \"issue\" is seen with the `enumerate()` function used to index iterables (see the next Unit)."
   ]
  },
  {
   "cell_type": "code",
   "execution_count": null,
   "metadata": {},
   "outputs": [],
   "source": [
    "range(0, 10, 1) "
   ]
  },
  {
   "cell_type": "code",
   "execution_count": null,
   "metadata": {},
   "outputs": [],
   "source": [
    "list(range(0, 10, 1))"
   ]
  },
  {
   "cell_type": "code",
   "execution_count": null,
   "metadata": {},
   "outputs": [],
   "source": [
    "list(range(10)) # the start and interval are inferred"
   ]
  },
  {
   "cell_type": "code",
   "execution_count": null,
   "metadata": {},
   "outputs": [],
   "source": [
    "print(list(range(0, 10, 2)))\n",
    "list(range(10,0,-1))"
   ]
  },
  {
   "cell_type": "code",
   "execution_count": null,
   "metadata": {},
   "outputs": [],
   "source": [
    "list(enumerate([53, 12, 42, 97, 80], start=2))"
   ]
  },
  {
   "cell_type": "markdown",
   "metadata": {},
   "source": [
    "Slicing is used to cut out a piece of a sequence between certain indices in the order `[start:end:step]`. All three slice components are not required; by default, start is 0, end is the last and step is 1. Consider the following roster:\n",
    "\n",
    "![](Assets/Slicing_Roster.png)"
   ]
  },
  {
   "cell_type": "code",
   "execution_count": null,
   "metadata": {},
   "outputs": [],
   "source": [
    "A[0:7:2]"
   ]
  },
  {
   "cell_type": "code",
   "execution_count": null,
   "metadata": {},
   "outputs": [],
   "source": [
    "A[1:-1]"
   ]
  },
  {
   "cell_type": "code",
   "execution_count": null,
   "metadata": {},
   "outputs": [],
   "source": [
    "A[::3]"
   ]
  },
  {
   "cell_type": "code",
   "execution_count": null,
   "metadata": {},
   "outputs": [],
   "source": [
    "A[3:]"
   ]
  },
  {
   "cell_type": "code",
   "execution_count": null,
   "metadata": {},
   "outputs": [],
   "source": [
    "A[-2:]"
   ]
  },
  {
   "cell_type": "code",
   "execution_count": null,
   "metadata": {},
   "outputs": [],
   "source": [
    "range(20)[0:10]"
   ]
  },
  {
   "cell_type": "markdown",
   "metadata": {},
   "source": [
    "Do you remember which sequences cannot be changed?"
   ]
  },
  {
   "cell_type": "code",
   "execution_count": null,
   "metadata": {},
   "outputs": [],
   "source": [
    "A[0] = 100\n",
    "A\n",
    "# This change is permanent"
   ]
  },
  {
   "cell_type": "code",
   "execution_count": null,
   "metadata": {},
   "outputs": [],
   "source": [
    "B.replace(B[0], '100')"
   ]
  },
  {
   "cell_type": "code",
   "execution_count": null,
   "metadata": {},
   "outputs": [],
   "source": [
    "B #see how that didn't change B but instead returned a new object"
   ]
  },
  {
   "cell_type": "code",
   "execution_count": null,
   "metadata": {},
   "outputs": [],
   "source": [
    "# dir(())"
   ]
  },
  {
   "cell_type": "markdown",
   "metadata": {},
   "source": [
    "### Dictionaries\n",
    "The last sequence we'll consider here is the dictionary (aka associative arrays or hash tables). It is best to think of it as a set of _key: value_ pairs, with the requirement that the keys are unique (within one dictionary). They are unordered and sequenced by keys instead of integers. These can be used for giving legends to plots, for instance."
   ]
  },
  {
   "cell_type": "code",
   "execution_count": null,
   "metadata": {},
   "outputs": [],
   "source": [
    "phones = {'Bryan': 4231, 'Sandra': 4567, 'Fillip':4902, 'Walla':4626, 4:'oops', 5.3:[1, 2, 3]}\n",
    "phones['Bryan']"
   ]
  },
  {
   "cell_type": "code",
   "execution_count": null,
   "metadata": {},
   "outputs": [],
   "source": [
    "phones[5.3]"
   ]
  },
  {
   "cell_type": "code",
   "execution_count": null,
   "metadata": {},
   "outputs": [],
   "source": [
    "del phones[4]\n",
    "phones"
   ]
  },
  {
   "cell_type": "code",
   "execution_count": null,
   "metadata": {},
   "outputs": [],
   "source": [
    "# dir({})"
   ]
  },
  {
   "cell_type": "markdown",
   "metadata": {},
   "source": [
    "### Formatted printing\n",
    "\n",
    "Variables from the code can be printed as part of a string. The overall structure involves typing a string containing curly brackets where specific values must be placed from the `.format()` attribute. It can also be indexed."
   ]
  },
  {
   "cell_type": "code",
   "execution_count": null,
   "metadata": {},
   "outputs": [],
   "source": [
    "print(\"{} needs {} pints\".format('Peter', 4))\n",
    "print(\"{1} pints are needed by {0}\".format('Peter', 'Four'))\n",
    "\n",
    "man = 'Peter'\n",
    "val = 4\n",
    "print(f\"{man} needs {val} pints\")"
   ]
  },
  {
   "cell_type": "markdown",
   "metadata": {},
   "source": [
    "The number of digits and spacing can be specified using the {:W.DL} syntax, where the optional choices are\n",
    "+ W: the total width of the value,\n",
    "+ D: the number of decimal places, and\n",
    "+ L: a letter specifying the type of output (for floats, it can be d, e, or f)\n",
    "\n",
    "If you have opened this notebook without running the cell where pi was imported, run the following cell"
   ]
  },
  {
   "cell_type": "code",
   "execution_count": null,
   "metadata": {},
   "outputs": [],
   "source": [
    "from math import pi"
   ]
  },
  {
   "cell_type": "code",
   "execution_count": null,
   "metadata": {},
   "outputs": [],
   "source": [
    "print(pi)\n",
    "print(\"Pi is approximately {:}\".format(pi))\n",
    "print(\"Pi is approximately {:8f}\".format(pi))\n",
    "print(\"Pi is approximately {:f}\".format(pi))\n",
    "print(\"Pi is approximately {:5.4f}\".format(pi))\n",
    "print(\"Pi is approximately {:.3f}\".format(pi))"
   ]
  },
  {
   "cell_type": "markdown",
   "metadata": {},
   "source": [
    "Now let's consider $ \\sqrt{200000} $ and see effect of the different letters."
   ]
  },
  {
   "cell_type": "code",
   "execution_count": null,
   "metadata": {},
   "outputs": [],
   "source": [
    "sqr2 = 2.0e5**0.5            # scientific notation works with both e and E\n",
    "\n",
    "print(sqr2)\n",
    "print(round(sqr2, 2))\n",
    "print(\"{:f}\".format(sqr2))   # floating point\n",
    "print(\"{:14e}\".format(sqr2)) # exponential (the 14 aligns the decimal points)\n",
    "print(\"{:g}\".format(sqr2))   # shorter of %e or %f"
   ]
  },
  {
   "cell_type": "code",
   "execution_count": null,
   "metadata": {},
   "outputs": [],
   "source": [
    "value = 5.123E-3\n",
    "f\"The value I want to see is {value:7.2}\""
   ]
  },
  {
   "cell_type": "markdown",
   "metadata": {},
   "source": [
    "Note that in Python 2 the % operator was used, in case you find such examples on the internet. \n",
    "\n",
    "More can be read [here](https://docs.python.org/3/tutorial/inputoutput.html)."
   ]
  },
  {
   "cell_type": "markdown",
   "metadata": {},
   "source": [
    "### Copying objects\n",
    "\n",
    "<span style=\"color:red\"> **Warning:** </span> Be very careful when trying to make changes to a variable when you also want to keep an original copy!!"
   ]
  },
  {
   "cell_type": "code",
   "execution_count": null,
   "metadata": {},
   "outputs": [],
   "source": [
    "old_list = [1, 2, 3]\n",
    "new_list = old_list\n",
    "\n",
    "# add element to list\n",
    "new_list.append('a')\n",
    "\n",
    "print('New List:', new_list)\n",
    "print('Old List:', old_list)"
   ]
  },
  {
   "cell_type": "markdown",
   "metadata": {},
   "source": [
    "With `new_list = old_list`, you're not making a copy, you're just adding another name that points at that original list in memory.\n",
    "\n",
    "To actually copy the list, you have various possibilities. The first 4 below create _shallow_ copies.\n",
    "\n",
    "(Answer from [StackOverflow](https://stackoverflow.com/questions/2612802/how-to-clone-or-copy-a-list))."
   ]
  },
  {
   "cell_type": "code",
   "execution_count": null,
   "metadata": {},
   "outputs": [],
   "source": [
    "import copy\n",
    "\n",
    "old = [1, 2, 3, 4]\n",
    "\n",
    "a = old.copy()\n",
    "b = old[:]\n",
    "c = list(old)\n",
    "d = copy.copy(old)\n",
    "e = copy.deepcopy(old)"
   ]
  },
  {
   "cell_type": "code",
   "execution_count": null,
   "metadata": {},
   "outputs": [],
   "source": [
    "# edit last entry in original list  \n",
    "old[-1] = 'baz'\n",
    "\n",
    "print(\"original: {}\\n list.copy(): {}\\n slice: {}\\n list(): {}\\n copy: {}\\n deepcopy: {}\"\n",
    "      .format(old, a, b, c, d, e))"
   ]
  },
  {
   "cell_type": "markdown",
   "metadata": {},
   "source": [
    "Note if the object is nested (i.e. it contains lists within a list), only `deepcopy` creates a new object and recursively adds the copies of nested objects present in the original. This why this function takes the most time."
   ]
  },
  {
   "cell_type": "code",
   "execution_count": null,
   "metadata": {},
   "outputs": [],
   "source": [
    "old = [[1, 2, 3], [4, 5, 6]]\n",
    "\n",
    "a = old.copy()\n",
    "b = old[:]\n",
    "c = list(old)\n",
    "d = copy.copy(old)\n",
    "e = copy.deepcopy(old)\n",
    "\n",
    "old[0][0] = 'foo'\n",
    "\n",
    "print(\"original: {}\\n list.copy(): {}\\n slice: {}\\n list(): {}\\n copy: {}\\n deepcopy: {}\"\n",
    "      .format(old, a, b, c, d, e))"
   ]
  },
  {
   "cell_type": "markdown",
   "metadata": {},
   "source": [
    "### Exercises\n",
    "\n",
    "Go to the [Unit Exercises](Unit%20Exercises.ipynb) notebook and give the questions a try before continuing with the next unit."
   ]
  },
  {
   "cell_type": "markdown",
   "metadata": {},
   "source": [
    "# Citation\n",
    "\n",
    "If used in a scientific publication, cite Python as follows:\n",
    "\n",
    "Van Rossum, G and Drake Jr, FL (1995) _Python tutorial_, Centrum voor Wiskunde en Informatica, Amsterdam."
   ]
  },
  {
   "cell_type": "code",
   "execution_count": null,
   "metadata": {},
   "outputs": [],
   "source": []
  }
 ],
 "metadata": {
  "kernelspec": {
   "display_name": "Python 3",
   "language": "python",
   "name": "python3"
  },
  "language_info": {
   "codemirror_mode": {
    "name": "ipython",
    "version": 3
   },
   "file_extension": ".py",
   "mimetype": "text/x-python",
   "name": "python",
   "nbconvert_exporter": "python",
   "pygments_lexer": "ipython3",
   "version": "3.7.7"
  },
  "toc": {
   "base_numbering": 1,
   "nav_menu": {},
   "number_sections": true,
   "sideBar": true,
   "skip_h1_title": true,
   "title_cell": "Table of Contents",
   "title_sidebar": "Contents",
   "toc_cell": true,
   "toc_position": {},
   "toc_section_display": true,
   "toc_window_display": false
  },
  "varInspector": {
   "cols": {
    "lenName": 16,
    "lenType": 16,
    "lenVar": 40
   },
   "kernels_config": {
    "python": {
     "delete_cmd_postfix": "",
     "delete_cmd_prefix": "del ",
     "library": "var_list.py",
     "varRefreshCmd": "print(var_dic_list())"
    },
    "r": {
     "delete_cmd_postfix": ") ",
     "delete_cmd_prefix": "rm(",
     "library": "var_list.r",
     "varRefreshCmd": "cat(var_dic_list()) "
    }
   },
   "types_to_exclude": [
    "module",
    "function",
    "builtin_function_or_method",
    "instance",
    "_Feature"
   ],
   "window_display": false
  }
 },
 "nbformat": 4,
 "nbformat_minor": 2
}
