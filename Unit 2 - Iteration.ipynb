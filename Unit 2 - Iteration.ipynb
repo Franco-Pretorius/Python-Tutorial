{
 "cells": [
  {
   "cell_type": "markdown",
   "metadata": {},
   "source": [
    "# Stepping Up\n",
    "\n",
    "From the previous tutorial it is evident that iterative procedures need to be explored further. The real algorithmic thinking starts here! "
   ]
  },
  {
   "cell_type": "markdown",
   "metadata": {
    "toc": true
   },
   "source": [
    "<h1>Table of Contents<span class=\"tocSkip\"></span></h1>\n",
    "<div class=\"toc\"><ul class=\"toc-item\"><li><span><a href=\"#Looping\" data-toc-modified-id=\"Looping-1\"><span class=\"toc-item-num\">1&nbsp;&nbsp;</span>Looping</a></span><ul class=\"toc-item\"><li><span><a href=\"#Conditions\" data-toc-modified-id=\"Conditions-1.1\"><span class=\"toc-item-num\">1.1&nbsp;&nbsp;</span>Conditions</a></span></li></ul></li><li><span><a href=\"#Branching\" data-toc-modified-id=\"Branching-2\"><span class=\"toc-item-num\">2&nbsp;&nbsp;</span>Branching</a></span></li><li><span><a href=\"#Functions\" data-toc-modified-id=\"Functions-3\"><span class=\"toc-item-num\">3&nbsp;&nbsp;</span>Functions</a></span><ul class=\"toc-item\"><li><span><a href=\"#Arguments\" data-toc-modified-id=\"Arguments-3.1\"><span class=\"toc-item-num\">3.1&nbsp;&nbsp;</span>Arguments</a></span></li><li><span><a href=\"#Interactivity\" data-toc-modified-id=\"Interactivity-3.2\"><span class=\"toc-item-num\">3.2&nbsp;&nbsp;</span>Interactivity</a></span></li><li><span><a href=\"#Functional-programming\" data-toc-modified-id=\"Functional-programming-3.3\"><span class=\"toc-item-num\">3.3&nbsp;&nbsp;</span>Functional programming</a></span></li></ul></li><li><span><a href=\"#Style-guidelines\" data-toc-modified-id=\"Style-guidelines-4\"><span class=\"toc-item-num\">4&nbsp;&nbsp;</span>Style guidelines</a></span></li></ul></div>"
   ]
  },
  {
   "cell_type": "markdown",
   "metadata": {},
   "source": [
    "## Looping \n",
    "\n",
    "Let's say I want to calculate a range of tenths: 0.1, 0.2, ..., 0.9, 1.0 (remember `range()` outputs only integers).\n",
    "\n",
    "For loops are used when we know for how long to iterate. While loops are conditional and terminate after a 'False' is reported. Use Tab for the required indentation, or Shift+Tab to remove it."
   ]
  },
  {
   "cell_type": "code",
   "execution_count": null,
   "metadata": {
    "scrolled": false
   },
   "outputs": [],
   "source": [
    "for i in range(1, 11):\n",
    "    y = i/10\n",
    "    print(y)\n",
    "    # print(\"{:.20f}\".format(y))"
   ]
  },
  {
   "cell_type": "code",
   "execution_count": null,
   "metadata": {},
   "outputs": [],
   "source": [
    "i = 0\n",
    "while i <= 0.9: # Always check your terminating condition\n",
    "    i = i + 0.1\n",
    "    print(i)\n",
    "    # print(\"{:.20f}\".format(i))"
   ]
  },
  {
   "cell_type": "markdown",
   "metadata": {},
   "source": [
    "What would happen if we switched the last 2 lines in the previous cell?\n",
    "\n",
    "You can also loop over other data sequences like strings, tuples or dictionaries. Use `enumerate()` to get both the index number and the object."
   ]
  },
  {
   "cell_type": "code",
   "execution_count": null,
   "metadata": {},
   "outputs": [],
   "source": [
    "A = \"Hello, world!\"\n",
    "B = (2, 4, 6, 8)\n",
    "\n",
    "lys = []\n",
    "for i in B:\n",
    "    lys.append(i)\n",
    "print(lys)"
   ]
  },
  {
   "cell_type": "code",
   "execution_count": null,
   "metadata": {},
   "outputs": [],
   "source": [
    "C = {1:1, 3:9, 5:25, 4:16, 2:4}\n",
    "sorted(C.items())"
   ]
  },
  {
   "cell_type": "code",
   "execution_count": null,
   "metadata": {},
   "outputs": [],
   "source": [
    "for key, val in sorted(C.items()):\n",
    "    print('Key: %s has value: %s' % (key, val))"
   ]
  },
  {
   "cell_type": "code",
   "execution_count": null,
   "metadata": {},
   "outputs": [],
   "source": [
    "words = ('cool', 'wow', 'great')\n",
    "\n",
    "for index, item in enumerate(words):\n",
    "    print(index, item)"
   ]
  },
  {
   "cell_type": "markdown",
   "metadata": {},
   "source": [
    "### Conditions\n",
    "\n",
    "To check whether a while loop should continue, a condition (or tolerance) must be satisfied. Here are some of them:"
   ]
  },
  {
   "cell_type": "code",
   "execution_count": null,
   "metadata": {},
   "outputs": [],
   "source": [
    "a = 10\n",
    "b = 20\n",
    "c = 10*2\n",
    "d = 40.0//2\n",
    "d"
   ]
  },
  {
   "cell_type": "code",
   "execution_count": null,
   "metadata": {},
   "outputs": [],
   "source": [
    "print(b > a) \n",
    "print(b == d) # Is b exactly equal to c?\n",
    "print(a != b) # Is a not equal to b?\n",
    "print('')\n",
    "\n",
    "print(True and False) # Can anything be both true and false?\n",
    "print(True or False) # Is at least one of the conditions true?\n",
    "print(True and not False)\n",
    "print((a > b) or (b >= c))\n",
    "print((a > b) and (b >= c)) "
   ]
  },
  {
   "cell_type": "markdown",
   "metadata": {},
   "source": [
    "<span style=\"color:red\"> **Warning:** </span> Ill-conditioned while/for loops will get stuck in infinite loops; therefore, **never compare two floats for equality**.  Use the stop button in the menubar to interrupt the kernel."
   ]
  },
  {
   "cell_type": "code",
   "execution_count": null,
   "metadata": {},
   "outputs": [],
   "source": [
    "# Never compare two floats!\n",
    "# x = 0.0 \n",
    "# while not x == 1.0: \n",
    "#     x = x + 0.1 \n",
    "#     print(\"x=%19.17g\" % (x))"
   ]
  },
  {
   "cell_type": "markdown",
   "metadata": {},
   "source": [
    "Rather compare the absolute error, or rewrite it into a for loop:"
   ]
  },
  {
   "cell_type": "code",
   "execution_count": null,
   "metadata": {},
   "outputs": [],
   "source": [
    "x = 0.0 \n",
    "while abs(x - 1.0) > 1e-8: \n",
    "    x = x + 0.1 \n",
    "    print(\"x=%19.17g\" % (x))"
   ]
  },
  {
   "cell_type": "code",
   "execution_count": null,
   "metadata": {},
   "outputs": [],
   "source": [
    "for i in range(1, 11): \n",
    "    x = i * 0.1 \n",
    "    print(\"x=%19.17g\" % (x))"
   ]
  },
  {
   "cell_type": "markdown",
   "metadata": {},
   "source": [
    " Before running the next cell, guess if this loop will ever ﬁnish?\n",
    " \n",
    " Tip: Greek letters can also be typeset. Try writing \\gamma or \\Gamma and pressing Tab directly afterwards. "
   ]
  },
  {
   "cell_type": "code",
   "execution_count": null,
   "metadata": {},
   "outputs": [],
   "source": [
    "# ϵ = 0.5\n",
    "# while 1.0 + ϵ > 1.0: \n",
    "#     ϵ = ϵ / 2.0 \n",
    "#     print(ϵ)"
   ]
  },
  {
   "cell_type": "markdown",
   "metadata": {},
   "source": [
    "## Branching \n",
    "\n",
    "In cases where we used loop statements, _all_ the statements within the loops are repeated from top to bottom until a condition is no longer satisfied. A for loop terminates when there are no more items in a range, whereas a while loop terminates when a `False` is reported.\n",
    "\n",
    "However, if only certain commands are applicable to certain conditions (see above), branching can be used. \n",
    "\n",
    "The ordering is cardinal. To initialise a branch, ask `if`. If the first condition isn't satisfied and you have another condition to check, ask `elif` (pronounced 'else-if'). If you have a final output that depends on all the previous conditions being unmet, use `else`. An `else` has no explicit condition statement.\n",
    "\n",
    "The following will give __one or zero__ outputs: \n",
    " + `if`\n",
    " + `if, elif`\n",
    " \n",
    "The following will give __only one__ output:\n",
    " + `if, else`\n",
    " + `if, elif, else`\n",
    " + `if, elif, elif, ..., elif, else`\n",
    "\n",
    "However, this is invalid:\n",
    " + `elif, else`\n",
    " \n",
    "If you want every `True` condition to be executed, simply use a bunch of `if` statements below each other."
   ]
  },
  {
   "cell_type": "code",
   "execution_count": null,
   "metadata": {},
   "outputs": [],
   "source": [
    "a = 30\n",
    "\n",
    "if (a % 2) == 0: \n",
    "    print(\"a is divisible by 2\")\n",
    "elif (a % 3) == 0: \n",
    "    print(\"a is divisible by 3\")\n",
    "elif (a % 5) == 0:\n",
    "    print(\"a is divisible by 5\")\n",
    "else: \n",
    "    print(\"a is not a multiple of 2, 3 nor 5\")"
   ]
  },
  {
   "cell_type": "code",
   "execution_count": null,
   "metadata": {},
   "outputs": [],
   "source": [
    "a = 30\n",
    "\n",
    "if (a % 2 == 0): \n",
    "    print(\"a is divisible by 2\")\n",
    "if (a % 3 == 0): \n",
    "    print(\"a is divisible by 3\")\n",
    "if (a % 5 == 0):\n",
    "    print(\"a is divisible by 5\")\n",
    "if (a % 2 != 0) and (a % 3 != 0) and (a % 5 != 0): \n",
    "    print(\"a is not a multiple of 2, 3 nor 5\")"
   ]
  },
  {
   "cell_type": "markdown",
   "metadata": {},
   "source": [
    "Certain statements can also be used in _nested_ loops, such as:\n",
    "- `pass` (does nothing — used as a place-holder)\n",
    "- `break` (breaks out of the innermost enclosing loop)\n",
    "- `continue` (continues with the next iteration of the loop)\n",
    "\n",
    "Look at how those statements affect this example:"
   ]
  },
  {
   "cell_type": "code",
   "execution_count": null,
   "metadata": {},
   "outputs": [],
   "source": [
    "for num in range(2, 10):\n",
    "    if num % 2 == 0:\n",
    "        print(\"Even number  :\", num)\n",
    "        continue #break #try removing both\n",
    "    print(\"Uneven number:\", num)"
   ]
  },
  {
   "cell_type": "code",
   "execution_count": null,
   "metadata": {},
   "outputs": [],
   "source": [
    "for num in range(2, 10):\n",
    "    if num % 2 == 0:\n",
    "        print(\"Even number  :\", num)\n",
    "        break\n",
    "    print(\"Uneven number:\", num)"
   ]
  },
  {
   "cell_type": "code",
   "execution_count": null,
   "metadata": {},
   "outputs": [],
   "source": [
    "for num in range(2, 10):\n",
    "    if num % 2 == 0:\n",
    "        print(\"Even number  :\", num)\n",
    "        \n",
    "    print(\"Uneven number:\", num)"
   ]
  },
  {
   "cell_type": "markdown",
   "metadata": {},
   "source": [
    "Notice how an `else` may be used since the for loop acts like an `if`."
   ]
  },
  {
   "cell_type": "code",
   "execution_count": null,
   "metadata": {},
   "outputs": [],
   "source": [
    "for i in range(2,2):\n",
    "    print(i)\n",
    "else:\n",
    "    print('potato')"
   ]
  },
  {
   "cell_type": "code",
   "execution_count": null,
   "metadata": {},
   "outputs": [],
   "source": [
    "for i in range(2, 10):\n",
    "    for j in range(2, i): #if j is in this range, else print that it's a prime number\n",
    "        if i % j == 0:\n",
    "            print(i, '=', j, '*', i//j)\n",
    "            break \n",
    "    else:\n",
    "        # loop fell through without finding a factor\n",
    "        print(i, 'is a prime number')"
   ]
  },
  {
   "cell_type": "markdown",
   "metadata": {},
   "source": [
    "## Functions \n",
    "\n",
    "Functions allow us to group a number of statements into a logical block instead of copying it repeatedly. We communicate with a function through a clearly deﬁned interface, providing certain parameters to the function, and receiving some information back. It therefore acts like a \"black box\". As seen in the previous unit, some functions are built-in, whilst others are imported from modules. \n",
    "\n",
    "Let's try to write our own functions!\n",
    "\n",
    "This first one requires 2 inputs."
   ]
  },
  {
   "cell_type": "code",
   "execution_count": null,
   "metadata": {},
   "outputs": [],
   "source": [
    "def multiplier(a, b):\n",
    "    \"\"\"Return the product of a and b.\"\"\"\n",
    "    return a*b"
   ]
  },
  {
   "cell_type": "code",
   "execution_count": null,
   "metadata": {
    "scrolled": true
   },
   "outputs": [],
   "source": [
    "multiplier(5, 6)"
   ]
  },
  {
   "cell_type": "markdown",
   "metadata": {},
   "source": [
    "It's conventional to provide your functions with a **docstring**, especially if you are going to make your work public. \n",
    "\n",
    "The first line should be a sentence offering a short description, written as a command. Other standards for one-liners and multi-line docstrings are available here:\n",
    "\n",
    "-  [Docstrings for Beginners](https://www.pythonforbeginners.com/basics/python-docstrings)\n",
    "-  [Docstring Conventions](https://www.python.org/dev/peps/pep-0257/)"
   ]
  },
  {
   "cell_type": "code",
   "execution_count": null,
   "metadata": {},
   "outputs": [],
   "source": [
    "multiplier.__doc__"
   ]
  },
  {
   "cell_type": "code",
   "execution_count": null,
   "metadata": {
    "scrolled": true
   },
   "outputs": [],
   "source": [
    "help(multiplier)"
   ]
  },
  {
   "cell_type": "markdown",
   "metadata": {},
   "source": [
    "Note, functions do not _require_ arguments, a docstring, or even a return statement. It will technically then return the `None` object."
   ]
  },
  {
   "cell_type": "code",
   "execution_count": null,
   "metadata": {},
   "outputs": [],
   "source": [
    "def greeting():\n",
    "    print(\"Hello, world!\")\n",
    "\n",
    "greeting()"
   ]
  },
  {
   "cell_type": "code",
   "execution_count": null,
   "metadata": {},
   "outputs": [],
   "source": [
    "type(greeting())"
   ]
  },
  {
   "cell_type": "markdown",
   "metadata": {},
   "source": [
    "It's important to distinguish between local and global variables. Variable assignments inside a function (i.e. locally) **do not override global variables**, they exist only inside the function. However, functions can access global variables!"
   ]
  },
  {
   "cell_type": "code",
   "execution_count": null,
   "metadata": {},
   "outputs": [],
   "source": [
    "a = 12\n",
    "b = 17\n",
    "\n",
    "def my_function():\n",
    "    a = 400\n",
    "    baz = 800\n",
    "    return a, b\n",
    "\n",
    "print(a, b)\n",
    "print(my_function())\n",
    "print(baz)"
   ]
  },
  {
   "cell_type": "markdown",
   "metadata": {},
   "source": [
    "### Arguments\n",
    "\n",
    "You may define your function with keyword arguments too. For example, this enables you to specify default values of your variables, such that if the user doesn't specify them an expected output is still delivered. The following function has 3 required inputs, with both of the keyword arguments set to a default value."
   ]
  },
  {
   "cell_type": "code",
   "execution_count": null,
   "metadata": {},
   "outputs": [],
   "source": [
    "def straight_line(x, m=1, c=0):\n",
    "    y = m*x + c\n",
    "    return y\n",
    "\n",
    "straight_line(5, c=-3, m=2)"
   ]
  },
  {
   "cell_type": "markdown",
   "metadata": {},
   "source": [
    "You can infer that your argument is any type of variable when defining it. Just make sure that the user is aware of it too. Below, I assume the argument `q` is a list/tuple."
   ]
  },
  {
   "cell_type": "code",
   "execution_count": null,
   "metadata": {},
   "outputs": [],
   "source": [
    "def straight_line2(q):\n",
    "    \"\"\"Calculate the ordinate for a straight line.\n",
    "    \n",
    "    Three parameters must be given in a list in this order:\n",
    "    x: absicca value\n",
    "    m: gradient\n",
    "    c: y-intercept\n",
    "    \"\"\"\n",
    "    x, m, c = q\n",
    "    y = m*x + c\n",
    "    return y\n",
    "\n",
    "straight_line2([5, 1, 1])"
   ]
  },
  {
   "cell_type": "code",
   "execution_count": null,
   "metadata": {},
   "outputs": [],
   "source": [
    "straight_line2((5, 1, 1))"
   ]
  },
  {
   "cell_type": "markdown",
   "metadata": {},
   "source": [
    "However, you can also write a function with only keyword arguments. Consider this function that calculates whichever unspecified variable (degree of freedom) in the ideal gas law is needed, assuming consistent units. What happens when you have too many/few arguments? What happens when you don't use the keywords or change their ordering?\n",
    "\n",
    "$$ PV = nRT $$"
   ]
  },
  {
   "cell_type": "code",
   "execution_count": null,
   "metadata": {},
   "outputs": [],
   "source": [
    "def ideal_gas_law(n=None, P=None, T=None, V=None):\n",
    "    \"\"\"Return a tuple of the missing degree of freedom for the IGL.\n",
    "    \n",
    "    Requires exactly 3 inputs.\n",
    "\n",
    "    Keyword arguments:\n",
    "    n -- moles of gas (kmol)\n",
    "    P -- absolute pressure (kPaa)\n",
    "    T -- absolute temperature (K)\n",
    "    V -- volume (m^3)\n",
    "    \n",
    "    Parameters:\n",
    "    R -- universal gas constant (kJ/kmol.K)\n",
    "    \"\"\"\n",
    "    R = 8.314 \n",
    "    \n",
    "    if n == None:\n",
    "        return 'n = ', P*V/(R*T), ' kmol'\n",
    "    elif P == None:\n",
    "        return 'P = ', n*R*T/V, ' kPaa'\n",
    "    elif T == None:\n",
    "        return 'T = ', P*V/(n*R), ' K'\n",
    "    elif V == None:\n",
    "        return 'V = ', n*R*T/P, ' m³'\n",
    "    else:\n",
    "        print('The system is overspecified. Remove 1 input.')"
   ]
  },
  {
   "cell_type": "code",
   "execution_count": null,
   "metadata": {},
   "outputs": [],
   "source": [
    "ideal_gas_law(T=273, n=1, P=101)"
   ]
  },
  {
   "cell_type": "code",
   "execution_count": null,
   "metadata": {},
   "outputs": [],
   "source": [
    "# ideal_gas_law(T=273, P=101)\n",
    "# ideal_gas_law(T=273, n=1, P=101, V=22.5)\n",
    "# ideal_gas_law(273, 1, 101)"
   ]
  },
  {
   "cell_type": "markdown",
   "metadata": {},
   "source": [
    "If you want to allow an **_unknown_ number of arguments** to a function, use the magic variables `*args` ('positional arguments') and `**kwargs` ('keyword arguments'). The difference between the two is that `*args` is a **tuple of positional arguments** (i.e. in position after the required arguments), whereas `**kwargs` is a **dictionary of keyword arguments** (written after the required keywords). Note you could have also written `*var` and `**vars`, but the convention improves understanding. \n",
    "\n",
    "<span style=\"color:red\"> **Warning:** </span> Keyword arguments always follow _after positional arguments_ (whether they are of a known or unknown number)."
   ]
  },
  {
   "cell_type": "code",
   "execution_count": null,
   "metadata": {},
   "outputs": [],
   "source": [
    "def func(required_arg1, required_arg2, *args, kw=0, **kwargs):\n",
    "    \n",
    "    # The only required arguments are the first 2 inputs.\n",
    "    print(required_arg1)\n",
    "    print(required_arg2)\n",
    "    \n",
    "    # *args means that any number of variables after the required inputs will be accepted too\n",
    "    if args: # If args is not empty.\n",
    "        print(args)\n",
    "    \n",
    "    # The keyword 'kw' has a default value, but can also be set by the user.\n",
    "    print(kw)\n",
    "    \n",
    "    # *kwargs means that any number of variables after the required keyword inputs will be accepted too\n",
    "    if kwargs: # If kwargs is not empty.\n",
    "        print(kwargs)"
   ]
  },
  {
   "cell_type": "code",
   "execution_count": null,
   "metadata": {},
   "outputs": [],
   "source": [
    "func(\"required argument\", \"also required\", \"not required\", 1, 2, 3, keyword1=4, keyword2=\"foo\")"
   ]
  },
  {
   "cell_type": "code",
   "execution_count": null,
   "metadata": {},
   "outputs": [],
   "source": [
    "func(a, b)"
   ]
  },
  {
   "cell_type": "code",
   "execution_count": null,
   "metadata": {},
   "outputs": [],
   "source": [
    "func(1, 2, 3, 4, kw=5)"
   ]
  },
  {
   "cell_type": "markdown",
   "metadata": {},
   "source": [
    "### Interactivity\n",
    "\n",
    "We can make functions interactive by using the `input()` statement to ask the user a question. Anything that the user types will be taken as a string. Alternatively, we can add a slider widget from the `ipywidgets` module."
   ]
  },
  {
   "cell_type": "code",
   "execution_count": null,
   "metadata": {},
   "outputs": [],
   "source": [
    "def square(num):\n",
    "    print(\"{} squared is {}\".format(num, num*num))"
   ]
  },
  {
   "cell_type": "code",
   "execution_count": null,
   "metadata": {},
   "outputs": [],
   "source": [
    "answer = input('What number would you like to square? ')\n",
    "square(float(answer))"
   ]
  },
  {
   "cell_type": "code",
   "execution_count": null,
   "metadata": {},
   "outputs": [],
   "source": [
    "from ipywidgets import interact\n",
    "interact(square, num=5)"
   ]
  },
  {
   "cell_type": "markdown",
   "metadata": {},
   "source": [
    "### Functional programming\n",
    "\n",
    "This last section is used mainly by advanced programmers. Instead of writing long functions, these tools enable you to write code that executes faster and is shorter (thus reduces the number of errors per line)."
   ]
  },
  {
   "cell_type": "markdown",
   "metadata": {},
   "source": [
    "Sometimes, we need to deﬁne a function that is only used once, or we want to create a function but don’t need a name for it. In Python, the `lambda` keyword can create an anonymous function. They follow this syntax:\n",
    "\n",
    "> **lambda** arguments : expression"
   ]
  },
  {
   "cell_type": "code",
   "execution_count": null,
   "metadata": {},
   "outputs": [],
   "source": [
    "radius = lambda x, y: (x**2 + y**2)**0.5\n",
    "radius(2,2)"
   ]
  },
  {
   "cell_type": "code",
   "execution_count": null,
   "metadata": {},
   "outputs": [],
   "source": [
    "(lambda x, y: (x**2 + y**2)**0.5)(2,2)"
   ]
  },
  {
   "cell_type": "markdown",
   "metadata": {},
   "source": [
    "The `map()` function applies a function f to all elements in a sequence s. \n",
    "> list2 = map(f, s)"
   ]
  },
  {
   "cell_type": "code",
   "execution_count": null,
   "metadata": {},
   "outputs": [],
   "source": [
    "def f(x): \n",
    "    return x**2 \n",
    "\n",
    "y = map(f, range(10)) # the same characteristic of the list not printing is observed as with the range function\n",
    "list(y)               # thus we force it into a list to display"
   ]
  },
  {
   "cell_type": "code",
   "execution_count": null,
   "metadata": {},
   "outputs": [],
   "source": [
    "map(lambda x: x**2, range(10))"
   ]
  },
  {
   "cell_type": "markdown",
   "metadata": {},
   "source": [
    "The `filter()` function works just like `map()`, but the function must only return booleans."
   ]
  },
  {
   "cell_type": "code",
   "execution_count": null,
   "metadata": {},
   "outputs": [],
   "source": [
    "list(filter(lambda x: x > 5, range(11))) "
   ]
  },
  {
   "cell_type": "markdown",
   "metadata": {},
   "source": [
    "List comprehensions provide a concise way to create and modify lists without resorting to use of `map()`, `ﬁlter()` nor `lambda`. Each list comprehension consists of an expression followed by a for clause, then zero or more for or if clauses. \n",
    "> [expression **for** i **in** list]"
   ]
  },
  {
   "cell_type": "code",
   "execution_count": null,
   "metadata": {},
   "outputs": [],
   "source": [
    "vec = [2, 4, 6, 8] \n",
    "[x**2 for x in vec]"
   ]
  },
  {
   "cell_type": "code",
   "execution_count": null,
   "metadata": {},
   "outputs": [],
   "source": [
    "[[x, x**2] for x in vec if x < 8] "
   ]
  },
  {
   "cell_type": "markdown",
   "metadata": {},
   "source": [
    "## Style guidelines\n",
    "\n",
    "At this point you may want to revisit the Python style guidelines. One of Guido van Rossum's key insights is that code is read much more often than it is written. The guidelines are intended to improve the readability of code and make it consistent across the wide spectrum of Python code. For instance, avoid using extraneous whitespace like `print( (1 + 2) )` - this is explicitly mentioned in [PEP 8](https://www.python.org/dev/peps/pep-0008/#pet-peeves).\n",
    "\n",
    "However, know when to be inconsistent -- sometimes style guide recommendations just aren't applicable. When in doubt, use your best judgment. Look at other examples and decide what looks best. And don't hesitate to ask!"
   ]
  },
  {
   "cell_type": "code",
   "execution_count": null,
   "metadata": {},
   "outputs": [],
   "source": []
  }
 ],
 "metadata": {
  "kernelspec": {
   "display_name": "Python 3",
   "language": "python",
   "name": "python3"
  },
  "language_info": {
   "codemirror_mode": {
    "name": "ipython",
    "version": 3
   },
   "file_extension": ".py",
   "mimetype": "text/x-python",
   "name": "python",
   "nbconvert_exporter": "python",
   "pygments_lexer": "ipython3",
   "version": "3.8.5"
  },
  "toc": {
   "base_numbering": 1,
   "nav_menu": {},
   "number_sections": true,
   "sideBar": false,
   "skip_h1_title": true,
   "title_cell": "Table of Contents",
   "title_sidebar": "Contents",
   "toc_cell": true,
   "toc_position": {},
   "toc_section_display": false,
   "toc_window_display": false
  },
  "varInspector": {
   "cols": {
    "lenName": 16,
    "lenType": 16,
    "lenVar": 40
   },
   "kernels_config": {
    "python": {
     "delete_cmd_postfix": "",
     "delete_cmd_prefix": "del ",
     "library": "var_list.py",
     "varRefreshCmd": "print(var_dic_list())"
    },
    "r": {
     "delete_cmd_postfix": ") ",
     "delete_cmd_prefix": "rm(",
     "library": "var_list.r",
     "varRefreshCmd": "cat(var_dic_list()) "
    }
   },
   "types_to_exclude": [
    "module",
    "function",
    "builtin_function_or_method",
    "instance",
    "_Feature"
   ],
   "window_display": false
  }
 },
 "nbformat": 4,
 "nbformat_minor": 2
}
