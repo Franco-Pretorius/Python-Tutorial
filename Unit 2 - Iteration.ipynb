{
 "cells": [
  {
   "cell_type": "markdown",
   "metadata": {},
   "source": [
    "# Stepping Up\n",
    "\n",
    "From the previous tutorial it is evident that iterative procedures need to be explored further. The real algorithmic thinking starts here! "
   ]
  },
  {
   "cell_type": "markdown",
   "metadata": {
    "toc": true
   },
   "source": [
    "<h1>Table of Contents<span class=\"tocSkip\"></span></h1>\n",
    "<div class=\"toc\"><ul class=\"toc-item\"><li><span><a href=\"#Looping\" data-toc-modified-id=\"Looping-1\"><span class=\"toc-item-num\">1&nbsp;&nbsp;</span>Looping</a></span><ul class=\"toc-item\"><li><span><a href=\"#Conditions\" data-toc-modified-id=\"Conditions-1.1\"><span class=\"toc-item-num\">1.1&nbsp;&nbsp;</span>Conditions</a></span></li></ul></li><li><span><a href=\"#Branching\" data-toc-modified-id=\"Branching-2\"><span class=\"toc-item-num\">2&nbsp;&nbsp;</span>Branching</a></span><ul class=\"toc-item\"><li><span><a href=\"#Nested-loops\" data-toc-modified-id=\"Nested-loops-2.1\"><span class=\"toc-item-num\">2.1&nbsp;&nbsp;</span>Nested loops</a></span></li></ul></li><li><span><a href=\"#Functions\" data-toc-modified-id=\"Functions-3\"><span class=\"toc-item-num\">3&nbsp;&nbsp;</span>Functions</a></span><ul class=\"toc-item\"><li><span><a href=\"#Scopes\" data-toc-modified-id=\"Scopes-3.1\"><span class=\"toc-item-num\">3.1&nbsp;&nbsp;</span>Scopes</a></span></li><li><span><a href=\"#Parameters\" data-toc-modified-id=\"Parameters-3.2\"><span class=\"toc-item-num\">3.2&nbsp;&nbsp;</span>Parameters</a></span></li><li><span><a href=\"#Interactivity\" data-toc-modified-id=\"Interactivity-3.3\"><span class=\"toc-item-num\">3.3&nbsp;&nbsp;</span>Interactivity</a></span></li><li><span><a href=\"#Functional-tools*\" data-toc-modified-id=\"Functional-tools*-3.4\"><span class=\"toc-item-num\">3.4&nbsp;&nbsp;</span>Functional tools*</a></span></li></ul></li><li><span><a href=\"#Style-guidelines\" data-toc-modified-id=\"Style-guidelines-4\"><span class=\"toc-item-num\">4&nbsp;&nbsp;</span>Style guidelines</a></span></li></ul></div>"
   ]
  },
  {
   "cell_type": "markdown",
   "metadata": {},
   "source": [
    "## Looping \n",
    "\n",
    "Let's say I want to calculate a range of tenths: 0.1, 0.2, ..., 0.5 (remember `range()` outputs only integers).\n",
    "\n",
    "If we know for how long to iterate, use a _for loop_. _While loops_ are conditional and terminate after a 'False' is reported. Use <kbd>Tab</kbd> for the required indentation, or <kbd>Shift</kbd>+<kbd>Tab</kbd> to remove it."
   ]
  },
  {
   "cell_type": "code",
   "execution_count": null,
   "metadata": {
    "scrolled": false
   },
   "outputs": [],
   "source": [
    "for i in range(1, 5+1):\n",
    "    y = i/10\n",
    "    print(y)\n",
    "#     print(\"{:.25f}\".format(y))"
   ]
  },
  {
   "cell_type": "markdown",
   "metadata": {},
   "source": [
    "If you unhash the last line above you'll see that some of the numbers aren't exact. This is because floating-point numbers are represented in computer hardware as base 2 (binary) fractions. Just remember, even though the printed result looks like the exact value of 1/10, the actual stored value is the nearest representable binary fraction. You can read more about floating point arithmetic issues [here](https://docs.python.org/3/tutorial/floatingpoint.html)."
   ]
  },
  {
   "cell_type": "code",
   "execution_count": null,
   "metadata": {},
   "outputs": [],
   "source": [
    "i = 0\n",
    "while i <= 0.4: # Always check your terminating condition\n",
    "    i = i + 0.1\n",
    "    print(i)\n",
    "#     print(\"{:.25f}\".format(i))"
   ]
  },
  {
   "cell_type": "markdown",
   "metadata": {},
   "source": [
    "You can also loop over other data sequences like strings, tuples or dictionaries. Use `enumerate()` to get both the index number and the object."
   ]
  },
  {
   "cell_type": "code",
   "execution_count": null,
   "metadata": {},
   "outputs": [],
   "source": [
    "words = ('cool', 'wow', 'great')\n",
    "\n",
    "for index, item in enumerate(words):\n",
    "    print(index, item)"
   ]
  },
  {
   "cell_type": "code",
   "execution_count": null,
   "metadata": {},
   "outputs": [],
   "source": [
    "A = \"Cool\"\n",
    "\n",
    "lys = [] # create an empty list\n",
    "for i in A:\n",
    "    lys.append(i)\n",
    "print(lys)"
   ]
  },
  {
   "cell_type": "code",
   "execution_count": null,
   "metadata": {},
   "outputs": [],
   "source": [
    "A = \"Cool\"\n",
    "B = [2, 4, 6, 8, 10]\n",
    "\n",
    "for i, x in enumerate(A): # replaces the values in B with the values from A\n",
    "    B[i] = x\n",
    "print(B)"
   ]
  },
  {
   "cell_type": "markdown",
   "metadata": {},
   "source": [
    "### Conditions\n",
    "\n",
    "To check whether a while loop should continue, a condition (or tolerance) must be satisfied. Use `==` to ask if two values are exactly equal. Let's assign some values to variables and compare them:"
   ]
  },
  {
   "cell_type": "code",
   "execution_count": null,
   "metadata": {},
   "outputs": [],
   "source": [
    "a = 10\n",
    "b = 20\n",
    "c = 10*2\n",
    "d = 40.0//2\n",
    "d"
   ]
  },
  {
   "cell_type": "code",
   "execution_count": null,
   "metadata": {},
   "outputs": [],
   "source": [
    "print(1, b > a) \n",
    "print(2, b == d) # Is b exactly equal to c?\n",
    "print(3, a != b) # Is a not equal to b?\n",
    "print('')\n",
    "\n",
    "print(4, True and False) # Can anything be both true and false?\n",
    "print(5, True or False) # Is at least one of the conditions true?\n",
    "print(6, True and not False)\n",
    "print(7, (a > b) or (b >= c))\n",
    "print(8, (a > b) and (b >= c)) "
   ]
  },
  {
   "cell_type": "markdown",
   "metadata": {},
   "source": [
    "<span style=\"color:red\"> **Warning:** </span> Ill-conditioned while/for loops will get stuck in infinite loops; therefore, **never compare two floats for equality**.  Press the <kbd>◼</kbd> button (next to <kbd>▶︎ Run</kbd> in the toolbar) to interrupt the kernel."
   ]
  },
  {
   "cell_type": "code",
   "execution_count": null,
   "metadata": {},
   "outputs": [],
   "source": [
    "# x = 0.0 \n",
    "# while not x == 1.0: # Never compare two floats!!!!\n",
    "#     x = x + 0.1 \n",
    "#     print(x)"
   ]
  },
  {
   "cell_type": "markdown",
   "metadata": {},
   "source": [
    "Rather compare the absolute error, or rewrite it into a for loop:"
   ]
  },
  {
   "cell_type": "code",
   "execution_count": null,
   "metadata": {},
   "outputs": [],
   "source": [
    "x = 0.0 \n",
    "while abs(x - 0.5) > 1e-8: \n",
    "    x = x + 0.1 \n",
    "    print(round(x, 1))"
   ]
  },
  {
   "cell_type": "code",
   "execution_count": null,
   "metadata": {},
   "outputs": [],
   "source": [
    "for i in range(1, 6): \n",
    "    x = i*0.1 \n",
    "    print(round(x, 1))"
   ]
  },
  {
   "cell_type": "markdown",
   "metadata": {},
   "source": [
    " Before running the next cell, do you think that this loop will ever finish?\n",
    " \n",
    " Tip: Greek letters can also be typeset. Try writing \\gamma or \\Gamma and pressing <kbd>Tab</kbd> directly afterwards. "
   ]
  },
  {
   "cell_type": "code",
   "execution_count": null,
   "metadata": {},
   "outputs": [],
   "source": [
    "# ϵ = 0.5\n",
    "# while 1.0 + ϵ > 1.0: \n",
    "#     ϵ = ϵ / 2.0 \n",
    "#     print(ϵ)"
   ]
  },
  {
   "cell_type": "markdown",
   "metadata": {},
   "source": [
    "## Branching \n",
    "\n",
    "In cases where we used loop statements, _all_ the statements within the loops are repeated from top to bottom until a condition is no longer satisfied. A for loop terminates when there are no more items in a range, whereas a while loop terminates when a `False` is reported.\n",
    "\n",
    "However, if only certain commands are applicable to certain conditions (see above), branching can be used. \n",
    "\n",
    "The correct ordering is very important. To initialise a branch, ask `if`. If the first condition isn't satisfied and you have another condition to check, ask `elif` (pronounced 'else-if'). If you have a final output that depends on all the previous conditions being unmet, use `else`. An `else` has no explicit condition statement.\n",
    "\n",
    "The following will give __one or zero__ outputs: \n",
    " + `if`\n",
    " + `if, elif`\n",
    " \n",
    "The following will give __only one__ output:\n",
    " + `if, else`\n",
    " + `if, elif, else`\n",
    " + `if, elif, elif, ..., elif, else`\n",
    "\n",
    "However, this is invalid:\n",
    " + `elif, else`\n",
    " \n",
    "If you want every `True` condition to be executed, simply use several `if` statements below each other."
   ]
  },
  {
   "cell_type": "code",
   "execution_count": null,
   "metadata": {},
   "outputs": [],
   "source": [
    "# Remember that the Python modulo operator calculates the remainder of dividing two values.\n",
    "print(30 % 7)"
   ]
  },
  {
   "cell_type": "code",
   "execution_count": null,
   "metadata": {},
   "outputs": [],
   "source": [
    "a = 30 # try 30, 33, 35, 37\n",
    "\n",
    "# This program will only check if 2, 3, or 5 are factors of a. Once it finds ONE, it will stop.\n",
    "if (a % 2) == 0: \n",
    "    print(\"a is divisible by 2\")\n",
    "elif (a % 3) == 0: \n",
    "    print(\"a is divisible by 3\")\n",
    "elif (a % 5) == 0:\n",
    "    print(\"a is divisible by 5\")\n",
    "else: \n",
    "    print(\"Neither 2, 3 nor 5 are factors of a\")"
   ]
  },
  {
   "cell_type": "code",
   "execution_count": null,
   "metadata": {},
   "outputs": [],
   "source": [
    "a = 30\n",
    "\n",
    "# This program will check if a is divisible by 2, 3, and 5.\n",
    "if (a % 2 == 0): \n",
    "    print(\"a is divisible by 2\")\n",
    "if (a % 3 == 0): \n",
    "    print(\"a is divisible by 3\")\n",
    "if (a % 5 == 0):\n",
    "    print(\"a is divisible by 5\")\n",
    "if (a % 2 != 0) and (a % 3 != 0) and (a % 5 != 0): \n",
    "    print(\"Neither 2, 3 nor 5 are factors of a\")"
   ]
  },
  {
   "cell_type": "markdown",
   "metadata": {},
   "source": [
    "### Nested loops\n",
    "\n",
    "Loops can also be nested within other loops. Try visualising this program on [Python Tutor](https://pythontutor.com/visualize.html#mode=display)."
   ]
  },
  {
   "cell_type": "code",
   "execution_count": null,
   "metadata": {},
   "outputs": [],
   "source": [
    "counter = 0\n",
    "for i in range(4):\n",
    "    print('i is:', i)\n",
    "    for j in range(2):\n",
    "        print(j, counter)\n",
    "        counter += 1"
   ]
  },
  {
   "cell_type": "markdown",
   "metadata": {},
   "source": [
    "Certain [statements](https://docs.python.org/3/tutorial/controlflow.html#break-and-continue-statements-and-else-clauses-on-loops) are very useful in nested loops, such as:\n",
    "- `continue` (continues with the next iteration of the loop)\n",
    "- `break` (breaks out of the innermost enclosing loop)\n",
    "- `pass` (does nothing — used as a place-holder)"
   ]
  },
  {
   "cell_type": "code",
   "execution_count": null,
   "metadata": {},
   "outputs": [],
   "source": [
    "# pass and continue have the same effect, while break just stops it\n",
    "for i in range(3):\n",
    "    print(i)\n",
    "    pass #continue #break"
   ]
  },
  {
   "cell_type": "code",
   "execution_count": null,
   "metadata": {},
   "outputs": [],
   "source": [
    "for num in range(2, 10):\n",
    "    if num % 2 == 0:\n",
    "        print(\"Even number  :\", num)\n",
    "        continue \n",
    "    print(\"Uneven number:\", num)"
   ]
  },
  {
   "cell_type": "code",
   "execution_count": null,
   "metadata": {},
   "outputs": [],
   "source": [
    "for num in range(2, 10):\n",
    "    if num % 2 == 0:\n",
    "        print(\"Even number  :\", num)\n",
    "        break \n",
    "    print(\"Uneven number:\", num)"
   ]
  },
  {
   "cell_type": "code",
   "execution_count": null,
   "metadata": {},
   "outputs": [],
   "source": [
    "for num in range(2, 10):\n",
    "    if num % 2 == 0:\n",
    "        print(\"Even number  :\", num)\n",
    "        pass # Try removing this\n",
    "    print(\"Uneven number:\", num)"
   ]
  },
  {
   "cell_type": "markdown",
   "metadata": {},
   "source": [
    "Notice how an `else` may be used in this next example. There is no value in `range(2,2)`; thus, the for loop acts like an `if`. Since the first line returns `False`, the `else` statement is executed next."
   ]
  },
  {
   "cell_type": "code",
   "execution_count": null,
   "metadata": {},
   "outputs": [],
   "source": [
    "i in range(2,2)"
   ]
  },
  {
   "cell_type": "code",
   "execution_count": null,
   "metadata": {},
   "outputs": [],
   "source": [
    "for i in range(2,2):\n",
    "    print(i)\n",
    "else:\n",
    "    print('spam')"
   ]
  },
  {
   "cell_type": "code",
   "execution_count": null,
   "metadata": {},
   "outputs": [],
   "source": [
    "for i in range(2, 10):\n",
    "    for j in range(2, i): # if j is in this range, else print that it's a prime number\n",
    "        if i % j == 0:\n",
    "            print('{} = {}*{}'.format(i, j, i//j))\n",
    "            break \n",
    "    else:\n",
    "        # loop fell through without finding a factor\n",
    "        print(i, 'is a prime number')"
   ]
  },
  {
   "cell_type": "markdown",
   "metadata": {},
   "source": [
    "## Functions \n",
    "\n",
    "Functions allow us to group a number of statements into a logical block instead of copying it repeatedly. We communicate with a function through a clearly defined interface, providing certain parameters to the function, and receiving some information back. It therefore acts like a \"black box\". As seen in the previous unit, some functions are built-in, while others are imported from modules. \n",
    "\n",
    "Let's try to write our own functions!\n",
    "\n",
    "This first one is defined with 2 parameters that are required as inputs."
   ]
  },
  {
   "cell_type": "code",
   "execution_count": null,
   "metadata": {},
   "outputs": [],
   "source": [
    "def multiplier(a, b):\n",
    "    \"\"\"Return the product of a and b.\"\"\"\n",
    "    return a*b"
   ]
  },
  {
   "cell_type": "code",
   "execution_count": null,
   "metadata": {
    "scrolled": true
   },
   "outputs": [],
   "source": [
    "multiplier(5, 6)"
   ]
  },
  {
   "cell_type": "markdown",
   "metadata": {},
   "source": [
    "It's conventional to provide your functions with a **docstring**, especially if you are going to make your work public. For consistency, always use `\"\"\"triple double quotes\"\"\"` around docstrings.\n",
    "\n",
    "The first line should be a sentence offering a short description, written as a command (i.e. in the imperative mood). Other standards for one-liners and multi-line docstrings are available here:\n",
    "\n",
    "-  [Docstrings for Beginners](https://www.pythonforbeginners.com/basics/python-docstrings)\n",
    "-  [Docstring Conventions](https://www.python.org/dev/peps/pep-0257/)"
   ]
  },
  {
   "cell_type": "code",
   "execution_count": null,
   "metadata": {},
   "outputs": [],
   "source": [
    "multiplier.__doc__"
   ]
  },
  {
   "cell_type": "code",
   "execution_count": null,
   "metadata": {
    "scrolled": true
   },
   "outputs": [],
   "source": [
    "help(multiplier)"
   ]
  },
  {
   "cell_type": "markdown",
   "metadata": {},
   "source": [
    "Note, functions do not _require_ arguments, a docstring, or even a return statement. It will technically then return the `None` object."
   ]
  },
  {
   "cell_type": "code",
   "execution_count": null,
   "metadata": {},
   "outputs": [],
   "source": [
    "def greeting():\n",
    "    print(\"Hello, world!\")\n",
    "\n",
    "greeting()"
   ]
  },
  {
   "cell_type": "code",
   "execution_count": null,
   "metadata": {},
   "outputs": [],
   "source": [
    "type(greeting())"
   ]
  },
  {
   "cell_type": "markdown",
   "metadata": {},
   "source": [
    "### Scopes\n",
    "\n",
    "It's important to distinguish between _local_ and _global_ variables. Variable assignments inside a function (i.e. in a local scope) **do not override global variables**; they exist only inside the function. However, functions can access global variables! "
   ]
  },
  {
   "cell_type": "code",
   "execution_count": null,
   "metadata": {},
   "outputs": [],
   "source": [
    "# define a and b globally\n",
    "a = 1\n",
    "b = 2\n",
    "\n",
    "def my_function():\n",
    "    # redefine a locally\n",
    "    a = 100\n",
    "    baz = 19\n",
    "    return a, b, baz\n",
    "\n",
    "print(a, b)\n",
    "print(my_function())\n",
    "# print(baz)"
   ]
  },
  {
   "cell_type": "markdown",
   "metadata": {},
   "source": [
    "### Parameters\n",
    "\n",
    "Revisit the `multiplier(a, b)` example above. There is a [distinction between parameters and arguments](https://docs.python.org/3/faq/programming.html#what-is-the-difference-between-arguments-and-parameters) in functions. _Parameters_ are the names that appear in a function definition (in this example, that would be `a` and `b`), whereas _arguments_ are the values that are actually passed to a function when calling it (like 5 and 6).\n",
    "\n",
    "There are two kinds of [argument](https://docs.python.org/3/glossary.html#term-argument):\n",
    "- keyword argument: an argument preceded by an identifier (e.g. `name=`)\n",
    "- positional argument: an argument that is not a keyword argument. Positional arguments can appear at the beginning of an argument list and/or be passed as elements of an iterable preceded by \\*.\n",
    "\n",
    "Here, 3 and 5 are both keyword arguments in the following call to `multipler()`:"
   ]
  },
  {
   "cell_type": "code",
   "execution_count": null,
   "metadata": {},
   "outputs": [],
   "source": [
    "multiplier(a=3, b=5)"
   ]
  },
  {
   "cell_type": "markdown",
   "metadata": {},
   "source": [
    "In the next example 3 is passed as a positional argument and 5 is a keyword argument. **Keyword arguments always follow after positional arguments.**"
   ]
  },
  {
   "cell_type": "code",
   "execution_count": null,
   "metadata": {},
   "outputs": [],
   "source": [
    "print(multiplier(3, b=5))\n",
    "# print(multiplier(a=3, 5)) # SyntaxError"
   ]
  },
  {
   "cell_type": "markdown",
   "metadata": {},
   "source": [
    "There are 5 types of parameters that a function can accept. (The following is [copied directly from the docs](https://docs.python.org/3/glossary.html#term-parameter)):\n",
    "\n",
    "1. positional-or-keyword: specifies an argument that can be passed either positionally or as a keyword argument. This is the **default** kind of parameter, for example `foo` and `bar` in the following:\n",
    "- `def func(foo, bar=None): ...`\n",
    "\n",
    "2. positional-only: specifies an argument that can be supplied only by position. Positional-only parameters can be defined by including a `/` character in the parameter list of the function definition after them, for example `posonly1` and `posonly2` in the following:\n",
    "- `def func(posonly1, posonly2, /, positional_or_keyword): ...`\n",
    "\n",
    "3. keyword-only: specifies an argument that can be supplied only by keyword. Keyword-only parameters can be defined by including a single var-positional parameter or bare `*` in the parameter list of the function definition before them, for example `kw_only1` and `kw_only2` in the following:\n",
    "- `def func(arg, *, kw_only1, kw_only2): ...`\n",
    "\n",
    "4. var-positional: specifies that an arbitrary sequence of positional arguments can be provided (in addition to any positional arguments already accepted by other parameters). Such a parameter can be defined by prepending the parameter name with `*`, for example `args` in the following:\n",
    "- `def func(*args, **kwargs): ...`\n",
    "\n",
    "5. var-keyword: specifies that arbitrarily many keyword arguments can be provided (in addition to any keyword arguments already accepted by other parameters). Such a parameter can be defined by prepending the parameter name with `**`, for example `kwargs` in the example above.\n",
    "\n",
    "Parameters can specify both **optional** and **required** arguments, as well as *default values* for some optional arguments."
   ]
  },
  {
   "cell_type": "markdown",
   "metadata": {},
   "source": [
    "This next example uses the positional-or-keyword parameters. Default values for `m` and `c` are defined, but they can be overriden."
   ]
  },
  {
   "cell_type": "code",
   "execution_count": null,
   "metadata": {},
   "outputs": [],
   "source": [
    "def straight_line(x, m=1, c=0):\n",
    "    y = m*x + c\n",
    "    return y\n",
    "\n",
    "print(straight_line(5)) # the default values are used\n",
    "print(straight_line(5, 2, 3))\n",
    "print(straight_line(5, 2)) # this is assumed to be m\n",
    "print(straight_line(x=5, m=2, c=-3))\n",
    "print(straight_line(5, c=-3, m=2)) # note that you can swap the order of the keyword arguments"
   ]
  },
  {
   "cell_type": "code",
   "execution_count": null,
   "metadata": {},
   "outputs": [],
   "source": [
    "# Now the parameter before the / is a positional-only parameter\n",
    "def straight_line2(x, /, m=1, c=0):\n",
    "    y = m*x + c\n",
    "    return y\n",
    "\n",
    "print(straight_line2(5))\n",
    "print(straight_line2(5, 2, c=3))\n",
    "# print(straight_line2(x=5, m=2)) # won't work"
   ]
  },
  {
   "cell_type": "markdown",
   "metadata": {},
   "source": [
    "You can infer that your argument is any type of variable when defining it. Just make sure that the user is aware of it too. Below, I assume the argument `q` is a list/tuple."
   ]
  },
  {
   "cell_type": "code",
   "execution_count": null,
   "metadata": {},
   "outputs": [],
   "source": [
    "def straight_line3(q):\n",
    "    \"\"\"Calculate the ordinate for a straight line.\n",
    "    \n",
    "    Three parameters must be given in a list in this order:\n",
    "    x: absicca value\n",
    "    m: gradient\n",
    "    c: y-intercept\n",
    "    \"\"\"\n",
    "    x, m, c = q\n",
    "    y = m*x + c\n",
    "    return y\n",
    "\n",
    "print(straight_line3([5, 1, 1]))\n",
    "print(straight_line3((5, 1, 1)))"
   ]
  },
  {
   "cell_type": "markdown",
   "metadata": {},
   "source": [
    "Consider this function that calculates whichever unspecified variable (degree of freedom) in the ideal gas law is needed, assuming consistent units. What happens when you have too many/few arguments? What happens when you don't use the keywords or change their ordering?\n",
    "\n",
    "$$ PV = nRT $$"
   ]
  },
  {
   "cell_type": "code",
   "execution_count": null,
   "metadata": {},
   "outputs": [],
   "source": [
    "def ideal_gas_law(n=None, P=None, T=None, V=None):\n",
    "    \"\"\"Return a tuple of the missing degree of freedom for the IGL.\n",
    "    \n",
    "    Requires exactly 3 inputs.\n",
    "\n",
    "    Keyword arguments:\n",
    "    n -- moles of gas (kmol)\n",
    "    P -- absolute pressure (kPaa)\n",
    "    T -- absolute temperature (K)\n",
    "    V -- volume (m^3)\n",
    "    \n",
    "    Parameters:\n",
    "    R -- universal gas constant (kJ/kmol.K)\n",
    "    \"\"\"\n",
    "    R = 8.314 \n",
    "    \n",
    "    if n == None:\n",
    "        return 'n = ', P*V/(R*T), ' kmol'\n",
    "    elif P == None:\n",
    "        return 'P = ', n*R*T/V, ' kPaa'\n",
    "    elif T == None:\n",
    "        return 'T = ', P*V/(n*R), ' K'\n",
    "    elif V == None:\n",
    "        return 'V = ', n*R*T/P, ' m³'\n",
    "    else:\n",
    "        print('The system is overspecified. Remove 1 input.')"
   ]
  },
  {
   "cell_type": "code",
   "execution_count": null,
   "metadata": {},
   "outputs": [],
   "source": [
    "ideal_gas_law(T=273, n=1, P=101)"
   ]
  },
  {
   "cell_type": "code",
   "execution_count": null,
   "metadata": {},
   "outputs": [],
   "source": [
    "# ideal_gas_law(T=273, P=101)\n",
    "# ideal_gas_law(T=273, n=1, P=101, V=22.5)\n",
    "# ideal_gas_law(1, 101, 273)"
   ]
  },
  {
   "cell_type": "markdown",
   "metadata": {},
   "source": [
    "If you want to allow an _unknown_ number of arguments to a function, use the magic variables `*args` ('positional arguments') and `**kwargs` ('keyword arguments'). The difference between the two is that `*args` is a **tuple of positional arguments** (i.e. in position after the required arguments), whereas `**kwargs` is a **dictionary of keyword arguments** (written after the required keywords). Note you could have also written `*var` and `**vars`, but the convention improves understanding. "
   ]
  },
  {
   "cell_type": "code",
   "execution_count": null,
   "metadata": {},
   "outputs": [],
   "source": [
    "def func(required_arg1, required_arg2, *args, kw=0, **kwargs):\n",
    "    \n",
    "    # The only required arguments are the first 2 inputs.\n",
    "    print(required_arg1)\n",
    "    print(required_arg2)\n",
    "    \n",
    "    # *args means that any number of variables after the required inputs will be accepted too\n",
    "    if args: # If args is not empty.\n",
    "        print(args) # tuple\n",
    "    \n",
    "    # The keyword 'kw' has a default value, but can also be set by the user.\n",
    "    print('kw: ', kw)\n",
    "    \n",
    "    # *kwargs means that any number of variables after the required keyword inputs will be accepted too\n",
    "    if kwargs: # If kwargs is not empty.\n",
    "        print(kwargs) # dictionary"
   ]
  },
  {
   "cell_type": "code",
   "execution_count": null,
   "metadata": {},
   "outputs": [],
   "source": [
    "func(\"required argument\", \"also required\", \"not required\", 1, 2, 3, keyword1=4, keyword2=\"foo\")"
   ]
  },
  {
   "cell_type": "code",
   "execution_count": null,
   "metadata": {},
   "outputs": [],
   "source": [
    "a, b = 1, 2\n",
    "func(a, b)"
   ]
  },
  {
   "cell_type": "code",
   "execution_count": null,
   "metadata": {},
   "outputs": [],
   "source": [
    "func(1, 2, 3, 4, 5, kw=6)"
   ]
  },
  {
   "cell_type": "markdown",
   "metadata": {},
   "source": [
    "### Interactivity\n",
    "\n",
    "We can make functions interactive by using the `input()` statement to ask the user a question. Anything that the user types will be taken as a string. Alternatively, we can add a slider widget from the `ipywidgets` module."
   ]
  },
  {
   "cell_type": "code",
   "execution_count": null,
   "metadata": {},
   "outputs": [],
   "source": [
    "def square(num):\n",
    "    print(\"{} squared is {}\".format(num, num*num))"
   ]
  },
  {
   "cell_type": "code",
   "execution_count": null,
   "metadata": {},
   "outputs": [],
   "source": [
    "answer = input('What number would you like to square? ')\n",
    "square(float(answer))"
   ]
  },
  {
   "cell_type": "code",
   "execution_count": null,
   "metadata": {},
   "outputs": [],
   "source": [
    "from ipywidgets import interact\n",
    "interact(square, num=5)"
   ]
  },
  {
   "cell_type": "markdown",
   "metadata": {},
   "source": [
    "### Functional tools*\n",
    "\n",
    "\\***This section is for advanced programmers. You may skip it for now.**\n",
    "\n",
    "Instead of writing long functions, these tools enable you to write code that executes faster and is shorter (thus reduces the number of errors per line)."
   ]
  },
  {
   "cell_type": "markdown",
   "metadata": {},
   "source": [
    "In Python, the `lambda` keyword can create an anonymous function. This can be used if you need to define a function that is only used once, or if you want to create a function but don't need a name for it. My recommendation is to use `lambda` with caution. It is never _necessary_ to use lambda. It follows this syntax:\n",
    "\n",
    "```Python\n",
    "lambda arguments: expression\n",
    "```\n",
    "\n",
    "Consider that the radius of a point on the Cartesian plane is given by: $r = \\sqrt{x^2 + y^2} $"
   ]
  },
  {
   "cell_type": "code",
   "execution_count": null,
   "metadata": {},
   "outputs": [],
   "source": [
    "radius = lambda x, y: (x**2 + y**2)**0.5\n",
    "radius(3,4)"
   ]
  },
  {
   "cell_type": "code",
   "execution_count": null,
   "metadata": {},
   "outputs": [],
   "source": [
    "(lambda x, y: (x**2 + y**2)**0.5)(3,4)"
   ]
  },
  {
   "cell_type": "markdown",
   "metadata": {},
   "source": [
    "The `map()` function applies a function `f` to all elements in a sequence `s`. \n",
    "```Python \n",
    "new_list = map(f, s)\n",
    "```"
   ]
  },
  {
   "cell_type": "code",
   "execution_count": null,
   "metadata": {},
   "outputs": [],
   "source": [
    "def f(x): \n",
    "    return x**2 \n",
    "\n",
    "y = map(f, range(10)) # the same characteristic of the list not printing is observed as with the range function\n",
    "list(y)               # thus we force it into a list to display"
   ]
  },
  {
   "cell_type": "code",
   "execution_count": null,
   "metadata": {},
   "outputs": [],
   "source": [
    "map(lambda x: x**2, range(10))"
   ]
  },
  {
   "cell_type": "markdown",
   "metadata": {},
   "source": [
    "The `filter()` function works just like `map()`, but the function must only return booleans."
   ]
  },
  {
   "cell_type": "code",
   "execution_count": null,
   "metadata": {},
   "outputs": [],
   "source": [
    "list(filter(lambda x: x > 5, range(11))) "
   ]
  },
  {
   "cell_type": "markdown",
   "metadata": {},
   "source": [
    "List comprehensions provide a concise way to create and modify lists without resorting to use of `map()`, `filter()` nor `lambda`. Each list comprehension consists of an expression followed by a for clause, then zero or more for or if clauses. \n",
    "```Python\n",
    "[expression for i in list]\n",
    "```"
   ]
  },
  {
   "cell_type": "code",
   "execution_count": null,
   "metadata": {},
   "outputs": [],
   "source": [
    "vec = [2, 4, 6, 8] \n",
    "[x**2 for x in vec]"
   ]
  },
  {
   "cell_type": "code",
   "execution_count": null,
   "metadata": {},
   "outputs": [],
   "source": [
    "[[x, x**2] for x in vec if x < 8] "
   ]
  },
  {
   "cell_type": "markdown",
   "metadata": {},
   "source": [
    "The `zip` [function](https://docs.python.org/3/library/functions.html#zip) returns an iterator which groups its inputs into tuples, suitable for expansion in a for loop. The iterator stops when the shortest input iterable is exhausted. "
   ]
  },
  {
   "cell_type": "code",
   "execution_count": null,
   "metadata": {},
   "outputs": [],
   "source": [
    "x = [1, 2, 3]\n",
    "y = [4, 5, 6]\n",
    "list(zip(x, y))"
   ]
  },
  {
   "cell_type": "markdown",
   "metadata": {},
   "source": [
    "## Style guidelines\n",
    "\n",
    "At this point you may want to revisit the Python style guidelines. One of Guido van Rossum's key insights is that code is read much more often than it is written. The guidelines are intended to improve the readability of code and make it consistent across the wide spectrum of Python code. For instance, avoid using extraneous whitespace like `print( (1 + 2) )`. This is explicitly mentioned in [PEP 8](https://www.python.org/dev/peps/pep-0008/#pet-peeves), one of the many Python Enhancement Proposals.\n",
    "\n",
    "However, know when to be inconsistent—sometimes style guide recommendations just aren't applicable. When in doubt, use your best judgment. Look at other examples and decide what looks best. And don't hesitate to ask.\n",
    "\n",
    "Here's a little easter egg (PEP 20)."
   ]
  },
  {
   "cell_type": "code",
   "execution_count": null,
   "metadata": {},
   "outputs": [],
   "source": [
    "# import this"
   ]
  }
 ],
 "metadata": {
  "kernelspec": {
   "display_name": "Python 3",
   "language": "python",
   "name": "python3"
  },
  "language_info": {
   "codemirror_mode": {
    "name": "ipython",
    "version": 3
   },
   "file_extension": ".py",
   "mimetype": "text/x-python",
   "name": "python",
   "nbconvert_exporter": "python",
   "pygments_lexer": "ipython3",
   "version": "3.8.11"
  },
  "toc": {
   "base_numbering": 1,
   "nav_menu": {},
   "number_sections": true,
   "sideBar": false,
   "skip_h1_title": true,
   "title_cell": "Table of Contents",
   "title_sidebar": "Contents",
   "toc_cell": true,
   "toc_position": {},
   "toc_section_display": false,
   "toc_window_display": false
  },
  "varInspector": {
   "cols": {
    "lenName": 16,
    "lenType": 16,
    "lenVar": 40
   },
   "kernels_config": {
    "python": {
     "delete_cmd_postfix": "",
     "delete_cmd_prefix": "del ",
     "library": "var_list.py",
     "varRefreshCmd": "print(var_dic_list())"
    },
    "r": {
     "delete_cmd_postfix": ") ",
     "delete_cmd_prefix": "rm(",
     "library": "var_list.r",
     "varRefreshCmd": "cat(var_dic_list()) "
    }
   },
   "types_to_exclude": [
    "module",
    "function",
    "builtin_function_or_method",
    "instance",
    "_Feature"
   ],
   "window_display": false
  }
 },
 "nbformat": 4,
 "nbformat_minor": 2
}
