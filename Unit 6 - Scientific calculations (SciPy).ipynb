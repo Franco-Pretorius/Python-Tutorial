{
 "cells": [
  {
   "cell_type": "markdown",
   "metadata": {},
   "source": [
    "# The Appliance of Science\n",
    "\n",
    "SciPy (the Scientific Python library) is a collection of mathematical algorithms and convenience functions built on the NumPy extension of Python. This notebook will focus on applying numerical methods.\n",
    "\n",
    "The [docs](https://docs.scipy.org/doc/scipy/reference/index.html) should be consulted for extra info.\n",
    "\n",
    "It is organised into subpackages covering different themes, and are (by convention) individually imported. Below are a few examples:\n",
    "\n",
    "|Package          |Description                        |\n",
    "|:----------------|:----------------------------------|\n",
    "|scipy.constants  |Physical and mathematical constants|\n",
    "|scipy.fftpack    |Fourier transform                  |\n",
    "|scipy.integrate  |Integration routines               |\n",
    "|scipy.interpolate|Interpolation                      |\n",
    "|scipy.linalg     |Linear algebra routines            |\n",
    "|scipy.optimize   |Optimization                       |\n",
    "|scipy.signal     |Signal processing                  |\n",
    "|scipy.special    |Any special mathematical functions |\n",
    "|scipy.stats      |Statistics                         |"
   ]
  },
  {
   "cell_type": "markdown",
   "metadata": {
    "toc": true
   },
   "source": [
    "<h1>Table of Contents<span class=\"tocSkip\"></span></h1>\n",
    "<div class=\"toc\"><ul class=\"toc-item\"><li><span><a href=\"#Scientific-constants\" data-toc-modified-id=\"Scientific-constants-1\"><span class=\"toc-item-num\">1&nbsp;&nbsp;</span>Scientific constants</a></span></li><li><span><a href=\"#Special-functions\" data-toc-modified-id=\"Special-functions-2\"><span class=\"toc-item-num\">2&nbsp;&nbsp;</span>Special functions</a></span></li><li><span><a href=\"#Nonlinear-root-finding\" data-toc-modified-id=\"Nonlinear-root-finding-3\"><span class=\"toc-item-num\">3&nbsp;&nbsp;</span>Nonlinear root-finding</a></span></li><li><span><a href=\"#Nonpolynomial-curve-fitting\" data-toc-modified-id=\"Nonpolynomial-curve-fitting-4\"><span class=\"toc-item-num\">4&nbsp;&nbsp;</span>Nonpolynomial curve fitting</a></span></li><li><span><a href=\"#Interpolation\" data-toc-modified-id=\"Interpolation-5\"><span class=\"toc-item-num\">5&nbsp;&nbsp;</span>Interpolation</a></span></li><li><span><a href=\"#Numerical-integration\" data-toc-modified-id=\"Numerical-integration-6\"><span class=\"toc-item-num\">6&nbsp;&nbsp;</span>Numerical integration</a></span></li><li><span><a href=\"#Solving-ordinary-diﬀerential-equations\" data-toc-modified-id=\"Solving-ordinary-diﬀerential-equations-7\"><span class=\"toc-item-num\">7&nbsp;&nbsp;</span>Solving ordinary diﬀerential equations</a></span></li><li><span><a href=\"#Introduction-to-optimisation\" data-toc-modified-id=\"Introduction-to-optimisation-8\"><span class=\"toc-item-num\">8&nbsp;&nbsp;</span>Introduction to optimisation</a></span></li></ul></div>"
   ]
  },
  {
   "cell_type": "code",
   "execution_count": null,
   "metadata": {},
   "outputs": [],
   "source": [
    "import numpy as np\n",
    "import matplotlib.pyplot as plt\n",
    "import pandas as pd\n",
    "import scipy\n",
    "%matplotlib inline"
   ]
  },
  {
   "cell_type": "code",
   "execution_count": null,
   "metadata": {},
   "outputs": [],
   "source": [
    "# scipy?"
   ]
  },
  {
   "cell_type": "markdown",
   "metadata": {},
   "source": [
    "This notebook was written for SciPy version 1.1.0"
   ]
  },
  {
   "cell_type": "code",
   "execution_count": null,
   "metadata": {},
   "outputs": [],
   "source": [
    "# scipy.__version__"
   ]
  },
  {
   "cell_type": "markdown",
   "metadata": {},
   "source": [
    "## Scientific constants\n",
    "\n",
    "Physical constants and unit conversion factors can either be accessed by importing the subpackage and calling them as methods, or by passing a very specific keyword argument to the `physical_constants` dictionary. The latter will return the value, unit, and uncertainty. The methods and keywords can be found [here](https://docs.scipy.org/doc/scipy-1.2.0/reference/constants.html)."
   ]
  },
  {
   "cell_type": "code",
   "execution_count": null,
   "metadata": {},
   "outputs": [],
   "source": [
    "from scipy import constants as con"
   ]
  },
  {
   "cell_type": "code",
   "execution_count": null,
   "metadata": {},
   "outputs": [],
   "source": [
    "print(con.R)   # molar gas constant\n",
    "print(con.N_A) # Avogadro constant\n",
    "print(con.k)   # Boltzmann constant\n",
    "print(con.m_e) # electron mass"
   ]
  },
  {
   "cell_type": "code",
   "execution_count": null,
   "metadata": {},
   "outputs": [],
   "source": [
    "# Conversion factors\n",
    "print(con.kilogram_force)\n",
    "print(con.atm)\n",
    "print(con.degree_Fahrenheit)\n",
    "print(con.psi)"
   ]
  },
  {
   "cell_type": "code",
   "execution_count": null,
   "metadata": {},
   "outputs": [],
   "source": [
    "con.physical_constants['atomic unit of mass']"
   ]
  },
  {
   "cell_type": "code",
   "execution_count": null,
   "metadata": {},
   "outputs": [],
   "source": [
    "con.physical_constants['molar volume of ideal gas (273.15 K, 100 kPa)']"
   ]
  },
  {
   "cell_type": "markdown",
   "metadata": {},
   "source": [
    "## Special functions\n",
    "\n",
    "Sometimes very involved mathematics are needed to solve problems, for instance, the Bessel functions ($j_0$ & $j_1$) and error function in transient heat transfer problems. "
   ]
  },
  {
   "cell_type": "code",
   "execution_count": null,
   "metadata": {},
   "outputs": [],
   "source": [
    "# help(scipy.special)"
   ]
  },
  {
   "cell_type": "code",
   "execution_count": null,
   "metadata": {},
   "outputs": [],
   "source": [
    "from scipy.special import j0, j1, erf"
   ]
  },
  {
   "cell_type": "code",
   "execution_count": null,
   "metadata": {},
   "outputs": [],
   "source": [
    "# Let's evaluate them at 0.1\n",
    "print(j0(0.1))\n",
    "print(j1(0.1))"
   ]
  },
  {
   "cell_type": "code",
   "execution_count": null,
   "metadata": {},
   "outputs": [],
   "source": [
    "xspan = np.linspace(-3, 3, 100)\n",
    "plt.plot(xspan, erf(xspan))\n",
    "plt.show()"
   ]
  },
  {
   "cell_type": "markdown",
   "metadata": {},
   "source": [
    "## Nonlinear root-finding\n",
    "\n",
    "Sometimes we need to find an $ x $ such that $ f(x) = 0 $, especially for non-linear or implicit functions. There are 2 ways to do this: `fsolve()` which only needs one starting point close to the root (but is not guaranteed to converge); or `bisect()` which is more robust, but slower and requires an interval. Both of these methods also work for systems of equations. In any case, it's usually a good idea to plot the function to see where roots may be. \n",
    "\n",
    "Let's consider the Colebrook equation for the friction factor $f$. We'll choose the parameters as roughness (ϵ) 0.046 mm, diameter (D) 20 mm, and Reynolds number (Re) 200 000:\n",
    "\n",
    "$$ \\frac{1}{\\sqrt{f}} = -2\\log_{10} \\left( \\frac{\\epsilon/D}{3.7} + \\frac{2.51}{\\mathrm{Re} \\sqrt{f}}\\right)  $$\n",
    "\n",
    "<span style=\"color:red\"> **Warning:** </span> We must rewrite the function such that it equals zero. If a poor guess value for the root is given, it may not converge, or find the wrong root; therefore, always try to plot the function to see where the root may lie."
   ]
  },
  {
   "cell_type": "code",
   "execution_count": null,
   "metadata": {},
   "outputs": [],
   "source": [
    "from scipy.optimize import fsolve, bisect"
   ]
  },
  {
   "cell_type": "code",
   "execution_count": null,
   "metadata": {},
   "outputs": [],
   "source": [
    "def colebrook(f, const):\n",
    "    ϵ, D, Re = const\n",
    "    return 1/f**0.5 + 2*np.log10(ϵ/D/3.7 + 2.51/(Re*f**0.5))\n",
    "\n",
    "param = [0.046, 20, 200000]\n",
    "fspan = np.linspace(0.01, 0.08, 100)\n",
    "\n",
    "plt.plot(fspan, colebrook(fspan, param))\n",
    "plt.plot([fspan[0], fspan[-1]], [0, 0], '--')\n",
    "plt.show()"
   ]
  },
  {
   "cell_type": "markdown",
   "metadata": {},
   "source": [
    "From the graph we can see that the root of the Colebrook equation lies between 0.02 and 0.03."
   ]
  },
  {
   "cell_type": "code",
   "execution_count": null,
   "metadata": {},
   "outputs": [],
   "source": [
    "fsolve(colebrook, 0.03, param)"
   ]
  },
  {
   "cell_type": "code",
   "execution_count": null,
   "metadata": {},
   "outputs": [],
   "source": [
    "bisect(colebrook, 0.02, 0.03, param)"
   ]
  },
  {
   "cell_type": "markdown",
   "metadata": {},
   "source": [
    "## Nonpolynomial curve fitting\n",
    "\n",
    "Recall from Unit 3, that we can fit polynomials to data. However, for nonpolynomial fits we'll have to use `curve_fit`. To illustrate, let's use the permeability data of sample A3 in the Experimental data file."
   ]
  },
  {
   "cell_type": "code",
   "execution_count": null,
   "metadata": {},
   "outputs": [],
   "source": [
    "from scipy.optimize import curve_fit"
   ]
  },
  {
   "cell_type": "code",
   "execution_count": null,
   "metadata": {},
   "outputs": [],
   "source": [
    "# curve_fit?"
   ]
  },
  {
   "cell_type": "code",
   "execution_count": null,
   "metadata": {},
   "outputs": [],
   "source": [
    "df_perm = pd.read_excel('Assets/Experimental data.xlsx', sheet_name='Permeability')\n",
    "time = df_perm['t_cum']\n",
    "A3 = df_perm['A3']/30*100"
   ]
  },
  {
   "cell_type": "code",
   "execution_count": null,
   "metadata": {},
   "outputs": [],
   "source": [
    "plt.plot(time, A3, 'o', label='A3')\n",
    "plt.ylabel('Cummulative mass loss (%)')\n",
    "plt.xlabel('Time (h)')\n",
    "plt.legend()\n",
    "plt.show()"
   ]
  },
  {
   "cell_type": "markdown",
   "metadata": {},
   "source": [
    "You'll have to be creative to come up with a function that describes your data. Since we can see an exponential trend, let's try\n",
    "$$ m(t) = a + b(1-e^{-c t}) $$\n",
    "\n",
    "We'll guess values for the three parameters ($a, b,$ and $c$) and use the `*args` notation to pass them as positional arguments to the function (revise Unit 2 if needed). This is especially useful if you are continuously changing the number of parameters, as it enables passing an \"unknown\" number of arguments."
   ]
  },
  {
   "cell_type": "code",
   "execution_count": null,
   "metadata": {},
   "outputs": [],
   "source": [
    "def func(t, a, b, c):\n",
    "    return a + b*(1 - np.exp(-c*t))\n",
    "\n",
    "tvals = np.linspace(0, 400, 400)\n",
    "guess = [0.15, 0.05, 0.05]\n",
    "\n",
    "plt.plot(time, A3, 'o', label='A3')\n",
    "plt.plot(tvals, func(tvals, *guess))\n",
    "plt.ylabel('m (%)')\n",
    "plt.xlabel('t (h)')\n",
    "plt.show()"
   ]
  },
  {
   "cell_type": "markdown",
   "metadata": {},
   "source": [
    "We can see that the shape is more or less correct, but the parameter values are far off. Now we can find the optimal parameter values and the estimated covariance matrix (usually ignored)."
   ]
  },
  {
   "cell_type": "code",
   "execution_count": null,
   "metadata": {},
   "outputs": [],
   "source": [
    "popt, pcov = curve_fit(func, time, A3, guess)\n",
    "popt"
   ]
  },
  {
   "cell_type": "markdown",
   "metadata": {},
   "source": [
    "We can now plot the trend line. We can use the `format` attribute from Unit 1 to pass the parameter values to the legend label. Note that the exponent argument must be enclosed by double braces to differentiate $\\LaTeX$ syntax from the formatted printing (see Unit 8)."
   ]
  },
  {
   "cell_type": "code",
   "execution_count": null,
   "metadata": {},
   "outputs": [],
   "source": [
    "plt.plot(time, A3, 'o')\n",
    "plt.plot(tvals, func(tvals, *popt), label='$m = {:.3f}+{:.3f}(1-e^{{-{:.3f}t}})$'.format(*popt))\n",
    "plt.legend()\n",
    "plt.ylabel('m (%)')\n",
    "plt.xlabel('t (h)')\n",
    "plt.show()"
   ]
  },
  {
   "cell_type": "markdown",
   "metadata": {},
   "source": [
    "## Interpolation\n",
    "\n",
    "Sometimes instead of relying on a fitted equation, you want to interpolate between your data points. You can create functions based on your data that can interpolate linearly, quadratically, or otherwise. "
   ]
  },
  {
   "cell_type": "code",
   "execution_count": null,
   "metadata": {},
   "outputs": [],
   "source": [
    "from scipy.interpolate import interp1d"
   ]
  },
  {
   "cell_type": "code",
   "execution_count": null,
   "metadata": {},
   "outputs": [],
   "source": [
    "# interp1d?"
   ]
  },
  {
   "cell_type": "code",
   "execution_count": null,
   "metadata": {},
   "outputs": [],
   "source": [
    "x = time\n",
    "y = A3\n",
    "f_lin = interp1d(x, y)\n",
    "f_cub = interp1d(x, y, kind='quadratic')\n",
    "\n",
    "print(f_lin(25))\n",
    "print(f_cub(25))\n",
    "\n",
    "xnew = np.arange(0, 379, 5)\n",
    "\n",
    "plt.plot(x, y, 'o')\n",
    "plt.plot(xnew, f_lin(xnew), '-', label='linear')\n",
    "plt.plot(xnew, f_cub(xnew), '--', label='quadratic')\n",
    "plt.legend()\n",
    "plt.show()"
   ]
  },
  {
   "cell_type": "markdown",
   "metadata": {},
   "source": [
    "## Numerical integration\n",
    "\n",
    "Numerical integration (aka quadrature) is possible by several routines. Only the `quad` routines allow functions as input, whereas the others require data points:\n",
    "- `quad`: Compute a definite integral\n",
    "- `dblquad`: Compute a double integral.\n",
    "- `tplquad`: Compute a triple integral. \n",
    "- `trapz`: Integrate along the given axis using the composite trapezoidal rule.\n",
    "- `cumtrapz`: Cumulatively integrate y using the composite trapezoidal rule (i.e. outputs an array).\n",
    "- `simps`: Integrate along the given axis using Simpson's rule.\n",
    "\n",
    "Let's numerically evaluate $$ \\int^2_{-2} x^2 \\, \\mathrm{d}x = \\frac{16}{3} $$"
   ]
  },
  {
   "cell_type": "code",
   "execution_count": null,
   "metadata": {},
   "outputs": [],
   "source": [
    "from scipy.integrate import quad, trapz, simps "
   ]
  },
  {
   "cell_type": "code",
   "execution_count": null,
   "metadata": {},
   "outputs": [],
   "source": [
    "def f(x):\n",
    "    return x**2\n",
    "\n",
    "# It returns the value, and an estimate of the absolute error in the result.\n",
    "quad(f, -2, 2)"
   ]
  },
  {
   "cell_type": "code",
   "execution_count": null,
   "metadata": {},
   "outputs": [],
   "source": [
    "x = np.linspace(-2, 2, num=100)\n",
    "y = x**2\n",
    "\n",
    "print(trapz(y, x))\n",
    "print(simps(y, x))"
   ]
  },
  {
   "cell_type": "markdown",
   "metadata": {},
   "source": [
    "The error of the trapezoidal rule is proportional to $ h^2[f'(a) - f'(b)]$ where $h$ is the step size. For Simpson's rule it is proportional to $ h^4[f'''(a) - f'''(b)]$. Thus, for \"smooth\" functions it is generally better to use Simpson's rule; however, for periodic and peak functions, the trapezoidal rule may converge faster."
   ]
  },
  {
   "cell_type": "markdown",
   "metadata": {},
   "source": [
    "## Solving ordinary diﬀerential equations\n",
    "\n",
    "To solve a single ODE or a set of ODEs, use `solve_ivp()` to solve a differential equaton. Note that in older code, you may encounter `odeint` which has been deprecated."
   ]
  },
  {
   "cell_type": "code",
   "execution_count": null,
   "metadata": {},
   "outputs": [],
   "source": [
    "from scipy.integrate import solve_ivp"
   ]
  },
  {
   "cell_type": "markdown",
   "metadata": {},
   "source": [
    "Consider two tanks (10 L and 20 L respectively) connected in series. Pure water enters the first tank at Q = 10 L/min, and the exit flow rate of the second tank is the same. At t = 0 the first tank contains $m_1$ = 1.5 kg of salt, which is then continuously flushed into the second tank. Determine when the maximum concentration of salt will be reached in the second tank, as well as the amount.\n",
    "\n",
    "In other words, solve this system of ODEs with $ m_1(0)=1.5, \\,\\, m_2(0)=0 $:\n",
    "\n",
    "\\begin{align}\n",
    "\\frac{\\mathrm{d}m_1}{\\mathrm{d}t} &= -Q c_1 = -m_1 \\\\\n",
    "\\frac{\\mathrm{d}m_2}{\\mathrm{d}t} &= Q c_1 - Q c_2 = m_1 - 0.5 m_2\n",
    "\\end{align}"
   ]
  },
  {
   "cell_type": "code",
   "execution_count": null,
   "metadata": {},
   "outputs": [],
   "source": [
    "# solve_ivp?"
   ]
  },
  {
   "cell_type": "markdown",
   "metadata": {},
   "source": [
    "The help states:\n",
    "```Python\n",
    "solve_ivp(\n",
    "    ['fun', 't_span', 'y0', \"method='RK45'\", 't_eval=None', 'dense_output=False', 'events=None', 'vectorized=False', '**options'],\n",
    ")```\n",
    "\n",
    "For `solve_ivp()` you must define your system of differential equations as a function (`fun`) such that the first input is the one-dimensional independent variable, followed by the state variables as a vector. Secondly, pass the beginning and ending time values as a tuple, followed by the initial conditions. The time points to be evaluated are determined automatically, or can be specified (try it with `t_eval=None`). The solution is given as nested lists."
   ]
  },
  {
   "cell_type": "code",
   "execution_count": null,
   "metadata": {},
   "outputs": [],
   "source": [
    "def diffs(t, var):\n",
    "    m1, m2 = var\n",
    "    dm1dt = -m1\n",
    "    dm2dt = m1 - 0.5*m2\n",
    "    return dm1dt, dm2dt\n",
    "\n",
    "tspan = np.linspace(0, 10, 100)\n",
    "y0 = [1.5, 0]\n",
    "\n",
    "sol = solve_ivp(diffs, (0, 10), y0, t_eval=tspan)\n",
    "# print(sol)\n",
    "# print(sol.y)"
   ]
  },
  {
   "cell_type": "code",
   "execution_count": null,
   "metadata": {},
   "outputs": [],
   "source": [
    "m1 = sol.y[0]\n",
    "m2 = sol.y[1]\n",
    "i_max = np.argmax(m2)\n",
    "print(tspan[i_max], 'min')\n",
    "print(m2[i_max], 'kg')\n",
    "\n",
    "plt.plot(tspan, m1, label='$m_1$')\n",
    "plt.plot(tspan, m2, label='$m_2$')\n",
    "plt.plot(tspan[i_max], m2[i_max], '^')\n",
    "plt.ylabel('Salt (kg)')\n",
    "plt.xlabel('Time (min)')\n",
    "plt.legend()\n",
    "plt.show()"
   ]
  },
  {
   "cell_type": "markdown",
   "metadata": {},
   "source": [
    "## Introduction to optimisation\n",
    "\n",
    "Optimisation is a very complex mathematical science involving finding the best solution to a problem under certain constraints. The reader should consult the docs for more detailed examples and algorithms. \n",
    "\n",
    "Here, the [three-hump camel function](https://en.wikipedia.org/wiki/Test_functions_for_optimization) is tested; its global minimum is at (0,0). With a guess of (1,1) it only finds a local minimum."
   ]
  },
  {
   "cell_type": "code",
   "execution_count": null,
   "metadata": {},
   "outputs": [],
   "source": [
    "from scipy.optimize import fmin"
   ]
  },
  {
   "cell_type": "code",
   "execution_count": null,
   "metadata": {},
   "outputs": [],
   "source": [
    "# 2 parameter function to be minimised, with an initial guess\n",
    "\n",
    "def func(var):\n",
    "    X, Y = var\n",
    "    return 2*X**2 - 1.05*X**4 + X**6/6 + X*Y + Y**2\n",
    "\n",
    "fmin(func, [1,1])"
   ]
  },
  {
   "cell_type": "code",
   "execution_count": null,
   "metadata": {},
   "outputs": [],
   "source": [
    "from mpl_toolkits import mplot3d\n",
    "%matplotlib inline"
   ]
  },
  {
   "cell_type": "code",
   "execution_count": null,
   "metadata": {},
   "outputs": [],
   "source": [
    "x = np.linspace(-2, 2, 13)\n",
    "y = np.linspace(-2, 2, 13)\n",
    "X, Y = np.meshgrid(x, y)\n",
    "Z = 2*X**2 - 1.05*X**4 + X**6/6 + X*Y + Y**2"
   ]
  },
  {
   "cell_type": "code",
   "execution_count": null,
   "metadata": {},
   "outputs": [],
   "source": [
    "fig = plt.figure()\n",
    "ax = plt.axes(projection='3d')\n",
    "ax.plot_surface(X, Y, Z, rstride=1, cstride=1, cmap='plasma', edgecolor='none')\n",
    "ax.set_title('Three-hump camel')\n",
    "plt.show()"
   ]
  },
  {
   "cell_type": "markdown",
   "metadata": {},
   "source": [
    "# Citation\n",
    "\n",
    "Virtanen, P, Gommers, R, Oliphant, TE, Haberland, M, Reddy, T, Cournapeau, D, Burovski, E, Peterson, P, Weckesser, W, Bright, J, Van der Walt, SJ, Brett, M, Wilson, J, Millman, KJ, Mayorov, N, Nelson, ARJ, Jones, E, Kern, R, Larson, E, Carey, CJ, Polat, I, Feng, Y, Moore, EW, Van der Plas, J, Laxalde, D, Perktold, J, Cimrman, R, Henriksen, I, Quintero, EA, Harris, CR, Archibald, AM, Ribeiro, AH, Pedregosa, F, Van Mulbregt, P and SciPy 1.0 Contributors (2019) \"SciPy 1.0–Fundamental algorithms for scientific computing in Python\", preprint arXiv: 1907.10121.\n",
    "\n",
    "[(Publisher link)](https://arxiv.org/abs/1907.10121)"
   ]
  },
  {
   "cell_type": "code",
   "execution_count": null,
   "metadata": {},
   "outputs": [],
   "source": []
  }
 ],
 "metadata": {
  "kernelspec": {
   "display_name": "Python 3",
   "language": "python",
   "name": "python3"
  },
  "language_info": {
   "codemirror_mode": {
    "name": "ipython",
    "version": 3
   },
   "file_extension": ".py",
   "mimetype": "text/x-python",
   "name": "python",
   "nbconvert_exporter": "python",
   "pygments_lexer": "ipython3",
   "version": "3.8.5"
  },
  "toc": {
   "base_numbering": 1,
   "nav_menu": {},
   "number_sections": true,
   "sideBar": true,
   "skip_h1_title": true,
   "title_cell": "Table of Contents",
   "title_sidebar": "Contents",
   "toc_cell": true,
   "toc_position": {},
   "toc_section_display": true,
   "toc_window_display": false
  },
  "varInspector": {
   "cols": {
    "lenName": 16,
    "lenType": 16,
    "lenVar": 40
   },
   "kernels_config": {
    "python": {
     "delete_cmd_postfix": "",
     "delete_cmd_prefix": "del ",
     "library": "var_list.py",
     "varRefreshCmd": "print(var_dic_list())"
    },
    "r": {
     "delete_cmd_postfix": ") ",
     "delete_cmd_prefix": "rm(",
     "library": "var_list.r",
     "varRefreshCmd": "cat(var_dic_list()) "
    }
   },
   "types_to_exclude": [
    "module",
    "function",
    "builtin_function_or_method",
    "instance",
    "_Feature"
   ],
   "window_display": false
  }
 },
 "nbformat": 4,
 "nbformat_minor": 2
}
