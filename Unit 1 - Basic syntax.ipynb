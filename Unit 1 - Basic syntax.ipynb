{
 "cells": [
  {
   "cell_type": "markdown",
   "metadata": {},
   "source": [
    "# First Steps on Jupyter\n",
    "\n",
    "Welcome to Jupyter! The word itself is an amalgamation of Julia, Python and R and is a cell-based programming environment. Furthermore, it's very easy to learn, read and maintain. Previously, the Spyder editor was used, but with Jupyter notebooks blocks of code can be executed separately (which makes debugging much easier too)!"
   ]
  },
  {
   "cell_type": "markdown",
   "metadata": {
    "toc": true
   },
   "source": [
    "<h1>Table of Contents<span class=\"tocSkip\"></span></h1>\n",
    "<div class=\"toc\"><ul class=\"toc-item\"><li><span><a href=\"#Simple-math\" data-toc-modified-id=\"Simple-math-1\"><span class=\"toc-item-num\">1&nbsp;&nbsp;</span>Simple math</a></span><ul class=\"toc-item\"><li><span><a href=\"#Mathematical-operations\" data-toc-modified-id=\"Mathematical-operations-1.1\"><span class=\"toc-item-num\">1.1&nbsp;&nbsp;</span>Mathematical operations</a></span></li><li><span><a href=\"#Numerical-types\" data-toc-modified-id=\"Numerical-types-1.2\"><span class=\"toc-item-num\">1.2&nbsp;&nbsp;</span>Numerical types</a></span></li><li><span><a href=\"#Assignment-operators\" data-toc-modified-id=\"Assignment-operators-1.3\"><span class=\"toc-item-num\">1.3&nbsp;&nbsp;</span>Assignment operators</a></span></li></ul></li><li><span><a href=\"#Importing-a-module\" data-toc-modified-id=\"Importing-a-module-2\"><span class=\"toc-item-num\">2&nbsp;&nbsp;</span>Importing a module</a></span><ul class=\"toc-item\"><li><span><a href=\"#Help-functions\" data-toc-modified-id=\"Help-functions-2.1\"><span class=\"toc-item-num\">2.1&nbsp;&nbsp;</span>Help functions</a></span></li><li><span><a href=\"#Online-help\" data-toc-modified-id=\"Online-help-2.2\"><span class=\"toc-item-num\">2.2&nbsp;&nbsp;</span>Online help</a></span></li><li><span><a href=\"#Jupyter-help\" data-toc-modified-id=\"Jupyter-help-2.3\"><span class=\"toc-item-num\">2.3&nbsp;&nbsp;</span>Jupyter help</a></span></li></ul></li><li><span><a href=\"#Other-common-data-structures\" data-toc-modified-id=\"Other-common-data-structures-3\"><span class=\"toc-item-num\">3&nbsp;&nbsp;</span>Other common data structures</a></span><ul class=\"toc-item\"><li><span><a href=\"#Strings\" data-toc-modified-id=\"Strings-3.1\"><span class=\"toc-item-num\">3.1&nbsp;&nbsp;</span>Strings</a></span></li><li><span><a href=\"#Lists\" data-toc-modified-id=\"Lists-3.2\"><span class=\"toc-item-num\">3.2&nbsp;&nbsp;</span>Lists</a></span></li><li><span><a href=\"#Tuples\" data-toc-modified-id=\"Tuples-3.3\"><span class=\"toc-item-num\">3.3&nbsp;&nbsp;</span>Tuples</a></span></li><li><span><a href=\"#Dictionaries\" data-toc-modified-id=\"Dictionaries-3.4\"><span class=\"toc-item-num\">3.4&nbsp;&nbsp;</span>Dictionaries</a></span></li><li><span><a href=\"#Comparison-of-these-structures\" data-toc-modified-id=\"Comparison-of-these-structures-3.5\"><span class=\"toc-item-num\">3.5&nbsp;&nbsp;</span>Comparison of these structures</a></span></li><li><span><a href=\"#Appending-values\" data-toc-modified-id=\"Appending-values-3.6\"><span class=\"toc-item-num\">3.6&nbsp;&nbsp;</span>Appending values</a></span></li><li><span><a href=\"#Indexing\" data-toc-modified-id=\"Indexing-3.7\"><span class=\"toc-item-num\">3.7&nbsp;&nbsp;</span>Indexing</a></span></li><li><span><a href=\"#Slicing\" data-toc-modified-id=\"Slicing-3.8\"><span class=\"toc-item-num\">3.8&nbsp;&nbsp;</span>Slicing</a></span></li><li><span><a href=\"#Range-and-enumerate\" data-toc-modified-id=\"Range-and-enumerate-3.9\"><span class=\"toc-item-num\">3.9&nbsp;&nbsp;</span>Range and enumerate</a></span></li><li><span><a href=\"#Formatted-printing\" data-toc-modified-id=\"Formatted-printing-3.10\"><span class=\"toc-item-num\">3.10&nbsp;&nbsp;</span>Formatted printing</a></span></li><li><span><a href=\"#Copying-objects\" data-toc-modified-id=\"Copying-objects-3.11\"><span class=\"toc-item-num\">3.11&nbsp;&nbsp;</span>Copying objects</a></span></li></ul></li><li><span><a href=\"#Exercises\" data-toc-modified-id=\"Exercises-4\"><span class=\"toc-item-num\">4&nbsp;&nbsp;</span>Exercises</a></span></li></ul></div>"
   ]
  },
  {
   "cell_type": "markdown",
   "metadata": {},
   "source": [
    "Blocks of text, such as this one, offer explanations and help. These are written in [_Markdown_](https://help.github.com/articles/markdown-basics/). **Double-click** these cells to see the _hidden_ formatting syntax. \n",
    "\n",
    "Code is executed in cells such as the one below. Click in the cell and then press the <kbd>▶︎ Run</kbd> in the top toolbar or use the shortcut: <kbd>Shift</kbd>+<kbd>Enter</kbd>."
   ]
  },
  {
   "cell_type": "code",
   "execution_count": null,
   "metadata": {},
   "outputs": [],
   "source": [
    "print(\"Hello, World!\")"
   ]
  },
  {
   "cell_type": "markdown",
   "metadata": {},
   "source": [
    "## Simple math \n",
    "\n",
    "### Mathematical operations\n",
    "\n",
    "Now let's see how math works. Use `*` for multiplication. Use `**` for exponentiation (not `^`!)."
   ]
  },
  {
   "cell_type": "code",
   "execution_count": null,
   "metadata": {},
   "outputs": [],
   "source": [
    "2*3"
   ]
  },
  {
   "cell_type": "markdown",
   "metadata": {},
   "source": [
    "Only the very last output of cell will automatically be printed. To see other prior outputs, use the `print()` function. Run this next cell then change the first line to `print(4 - 3)`.  "
   ]
  },
  {
   "cell_type": "code",
   "execution_count": null,
   "metadata": {},
   "outputs": [],
   "source": [
    "4 - 3\n",
    "print(1 + 1)\n",
    "5**2"
   ]
  },
  {
   "cell_type": "markdown",
   "metadata": {},
   "source": [
    "Use the hash symbol (#) before comments. \n",
    "\n",
    "In Python 2, if you divided integers using the `/` operator, the result would be rounded down to the nearest integer. This is no longer the case:"
   ]
  },
  {
   "cell_type": "code",
   "execution_count": null,
   "metadata": {},
   "outputs": [],
   "source": [
    "# Integer division is no longer a problem in Python 3\n",
    "17/3"
   ]
  },
  {
   "cell_type": "code",
   "execution_count": null,
   "metadata": {},
   "outputs": [],
   "source": [
    "17//3  # But you can still force integer division"
   ]
  },
  {
   "cell_type": "markdown",
   "metadata": {},
   "source": [
    "The % symbol in Python is called the modulo operator. It returns the remainder of a division."
   ]
  },
  {
   "cell_type": "code",
   "execution_count": null,
   "metadata": {},
   "outputs": [],
   "source": [
    "17%3 "
   ]
  },
  {
   "cell_type": "markdown",
   "metadata": {},
   "source": [
    "Unhash the next line of code by deleting the hash and space before the 5. A nice shortcut is to click on the line and press <kbd>Ctrl</kbd>+<kbd>/</kbd> repeatedly to switch it between comment and code. "
   ]
  },
  {
   "cell_type": "code",
   "execution_count": null,
   "metadata": {},
   "outputs": [],
   "source": [
    "# This gives the ZeroDivisionError\n",
    "# 5/0"
   ]
  },
  {
   "cell_type": "markdown",
   "metadata": {},
   "source": [
    "### Numerical types\n",
    "\n",
    "There are three distinct [numeric types](https://docs.python.org/3/library/stdtypes.html#numeric-types-int-float-complex): \n",
    "1. integers, \n",
    "2. floating point numbers (which have a decimal point), \n",
    "3. and complex numbers. \n",
    "\n",
    "In addition, Booleans are a subtype of integers that can only have 2 possible values (i.e. `False = 0` and `True = 1`). Note that there is **no asterisk** needed for the complex number."
   ]
  },
  {
   "cell_type": "code",
   "execution_count": null,
   "metadata": {},
   "outputs": [],
   "source": [
    "# Each value is assigned to a variable name:\n",
    "a = -2 # integer\n",
    "b = 2.9 # float\n",
    "c = 3+4j # complex\n",
    "d = True # boolean\n",
    "\n",
    "print(a + b)\n",
    "print(b + c)\n",
    "print(d - 1)"
   ]
  },
  {
   "cell_type": "markdown",
   "metadata": {},
   "source": [
    "Scientific notation can be used to create very large or small floats by using an `E` or `e`."
   ]
  },
  {
   "cell_type": "code",
   "execution_count": null,
   "metadata": {},
   "outputs": [],
   "source": [
    "print(1.23E3, 4.56e3, 7.89E-3, 0.12e-3)\n",
    "print(1.2E3000)"
   ]
  },
  {
   "cell_type": "markdown",
   "metadata": {},
   "source": [
    "There are some [built-in functions](https://docs.python.org/3/library/functions.html) in Python that are always available. A few are demonstrated below and will automatically turn green after typing them.\n",
    "\n",
    "Important: The following cell will raise a NameError if you haven't run the previous cell where the values have been assigned to the symbols."
   ]
  },
  {
   "cell_type": "code",
   "execution_count": null,
   "metadata": {},
   "outputs": [],
   "source": [
    "print(type(a)) \n",
    "print(type(b)) \n",
    "print(type(c))\n",
    "print(type(d))"
   ]
  },
  {
   "cell_type": "code",
   "execution_count": null,
   "metadata": {},
   "outputs": [],
   "source": [
    "abs(a) # returns the absolute value"
   ]
  },
  {
   "cell_type": "code",
   "execution_count": null,
   "metadata": {},
   "outputs": [],
   "source": [
    "abs(c) # also known as the modulus for a complex number"
   ]
  },
  {
   "cell_type": "code",
   "execution_count": null,
   "metadata": {},
   "outputs": [],
   "source": [
    "float(a) # returns a floating point number"
   ]
  },
  {
   "cell_type": "code",
   "execution_count": null,
   "metadata": {},
   "outputs": [],
   "source": [
    "round(b) # regular rounding"
   ]
  },
  {
   "cell_type": "code",
   "execution_count": null,
   "metadata": {},
   "outputs": [],
   "source": [
    "int(b) # returns an integer; note this function rounds DOWN"
   ]
  },
  {
   "cell_type": "markdown",
   "metadata": {},
   "source": [
    "Some Python objects have special **attributes** specific to them, which can be accessed by dot notation. Since c is a complex number, we can use dot notation to print the real and imaginary parts or to display its conjugate."
   ]
  },
  {
   "cell_type": "code",
   "execution_count": null,
   "metadata": {},
   "outputs": [],
   "source": [
    "print(c.imag)\n",
    "print(c.real)\n",
    "c.conjugate # if the output is ever \"<function ...>\", you need to add parentheses at the end!"
   ]
  },
  {
   "cell_type": "code",
   "execution_count": null,
   "metadata": {},
   "outputs": [],
   "source": [
    "c.conjugate()"
   ]
  },
  {
   "cell_type": "markdown",
   "metadata": {},
   "source": [
    "To see the available attributes for an object, write out the object's name, then press <kbd>.</kbd>+<kbd>Tab</kbd>. If you've started typing a name of a variable or attribute, <kbd>Tab</kbd> also acts as an autocomplete.\n",
    "\n",
    "Try it below. Click after the full stop and press <kbd>Tab</kbd> to see a menu open up."
   ]
  },
  {
   "cell_type": "code",
   "execution_count": null,
   "metadata": {},
   "outputs": [],
   "source": [
    "# c."
   ]
  },
  {
   "cell_type": "code",
   "execution_count": null,
   "metadata": {},
   "outputs": [],
   "source": [
    "print(a, b, c, d) "
   ]
  },
  {
   "cell_type": "markdown",
   "metadata": {},
   "source": [
    "Even after running the previous cells, the variables remain the same as when we defined them, because we didn't reassign their values.  \n",
    "\n",
    "### Assignment operators\n",
    "The value of a variable can be updated as follows."
   ]
  },
  {
   "cell_type": "code",
   "execution_count": null,
   "metadata": {},
   "outputs": [],
   "source": [
    "val = 5\n",
    "val = val + 3\n",
    "val = val**2\n",
    "val"
   ]
  },
  {
   "cell_type": "markdown",
   "metadata": {},
   "source": [
    "Instead of writing the variable name again, you can use this shorthand notation (type the operator before the `=`). This works for all 5 mathematical operators. Neat!"
   ]
  },
  {
   "cell_type": "code",
   "execution_count": null,
   "metadata": {},
   "outputs": [],
   "source": [
    "Val = 5\n",
    "Val += 3\n",
    "Val **= 2\n",
    "Val"
   ]
  },
  {
   "cell_type": "markdown",
   "metadata": {},
   "source": [
    "Note that variable names as case-sensitive. Common variable names you may see on the internet include: foo, bar, baz, foobar, val and vec. "
   ]
  },
  {
   "cell_type": "code",
   "execution_count": null,
   "metadata": {},
   "outputs": [],
   "source": [
    "foo = 29\n",
    "Foo = 11\n",
    "foo + Foo"
   ]
  },
  {
   "cell_type": "markdown",
   "metadata": {},
   "source": [
    "It is very important to give your variables descriptive names. They are typically lowercase and separated by underscores (like_this). They may not start with numbers (but may include them later like `x1`, but not `1x`), neither may they contain spaces nor symbols. The PEP8 Style Guide for Python Code is available [here]( http://www.python.org/dev/peps/pep-0008/).\n",
    "\n",
    "If you unhash this next cell and run it, you'll raise a NameError, since the value of pi isn't defined yet."
   ]
  },
  {
   "cell_type": "code",
   "execution_count": null,
   "metadata": {},
   "outputs": [],
   "source": [
    "# pi"
   ]
  },
  {
   "cell_type": "markdown",
   "metadata": {},
   "source": [
    "## Importing a module\n",
    "\n",
    "We must import a module that has the value of pi defined. For scalar mathematics, we'll use `math` and for vector mathematics we'll switch to `numpy` (Unit 3)."
   ]
  },
  {
   "cell_type": "code",
   "execution_count": null,
   "metadata": {},
   "outputs": [],
   "source": [
    "import math"
   ]
  },
  {
   "cell_type": "code",
   "execution_count": null,
   "metadata": {},
   "outputs": [],
   "source": [
    "math.pi"
   ]
  },
  {
   "cell_type": "markdown",
   "metadata": {},
   "source": [
    "Let's calculate $ \\sin(1) + \\cos(2) $:"
   ]
  },
  {
   "cell_type": "code",
   "execution_count": null,
   "metadata": {},
   "outputs": [],
   "source": [
    "# Trigonometric functions use radians by default\n",
    "math.sin(1) + math.cos(2)"
   ]
  },
  {
   "cell_type": "markdown",
   "metadata": {},
   "source": [
    "If you don't want to keep typing the name of a module, you have 2 options:\n",
    "- rename it (as an abbreviation), \n",
    "- or only import the functions you require.\n",
    "\n",
    "Just remember to stay consistent. Note if you open a new notebook, you will have to import all the modules you would like to use again."
   ]
  },
  {
   "cell_type": "code",
   "execution_count": null,
   "metadata": {},
   "outputs": [],
   "source": [
    "import math as m\n",
    "m.sin(1) + m.cos(2)"
   ]
  },
  {
   "cell_type": "code",
   "execution_count": null,
   "metadata": {},
   "outputs": [],
   "source": [
    "# You can also make life difficult for yourself\n",
    "# import math as potato\n",
    "# potato.sin(1) + potato.cos(2)"
   ]
  },
  {
   "cell_type": "code",
   "execution_count": null,
   "metadata": {},
   "outputs": [],
   "source": [
    "from math import sin, cos, log10, log, e, pi\n",
    "sin(1) + cos(2)"
   ]
  },
  {
   "cell_type": "code",
   "execution_count": null,
   "metadata": {},
   "outputs": [],
   "source": [
    "print(log10(1000))\n",
    "print(log(e)) # This is the natural logarithm (ln)"
   ]
  },
  {
   "cell_type": "markdown",
   "metadata": {},
   "source": [
    "At this point, go back up to the coding cell just before the heading **Importing a module**. Rerun it and see that `pi` will now be printed. \n",
    "\n",
    "It is good style to import modules at the top of a file. Doing so makes it clear what other modules your code requires. In these notebooks, they are only imported where they're discussed for pedagogical reasons.\n",
    "\n",
    "<span style=\"color:red\"> **Warning:** </span> Avoid wildcard imports (`from module import *`), as they make it unclear which names are present in the namespace, and confuse both readers and many automated tools."
   ]
  },
  {
   "cell_type": "markdown",
   "metadata": {},
   "source": [
    "### Help functions\n",
    "\n",
    "How do we know which functions are available in a module? And how do we know what these functions do?\n",
    "\n",
    "Use the `dir()` (directory) function to return a list of functions within a module. When the output of a cell is very long, click on the left column to scroll the output, or double click to hide it."
   ]
  },
  {
   "cell_type": "code",
   "execution_count": null,
   "metadata": {},
   "outputs": [],
   "source": [
    "dir(math)\n",
    "# The special functions like __name__ are pronounced \"dunder name\". Dunder is short for \"double underscore\" \n",
    "# You may ignore them for now. These are used when you write your own classes/modules (excluded from this tutorial). "
   ]
  },
  {
   "cell_type": "markdown",
   "metadata": {},
   "source": [
    "Unhash the `help()` function below and run it. Then type something in the search box, like _math_ or _keywords_. The latter will return in the common Python programming keywords. \n",
    "\n",
    "<span style=\"color:red\"> **Warning:** </span> If there's still an asterisk (\\*) in the left status box after you're done, it means that the cell is still busy. To stop it, press the <kbd>◼</kbd> button next to <kbd>▶︎ Run</kbd> in the toolbar. Alternatively, you can type _quit_ in the bottom search box.\n",
    "\n",
    "If you ever want to clear the output of all the cells in a notebook and clear all variable assignments, go to the top notebook menubar, click <kbd>Kernel</kbd>, and then Restart & Clear Output."
   ]
  },
  {
   "cell_type": "code",
   "execution_count": null,
   "metadata": {},
   "outputs": [],
   "source": [
    "# help()"
   ]
  },
  {
   "cell_type": "code",
   "execution_count": null,
   "metadata": {},
   "outputs": [],
   "source": [
    "# help(sin)"
   ]
  },
  {
   "cell_type": "markdown",
   "metadata": {},
   "source": [
    "Try this neat shortcut! By running the name of a function with a `?`, it will open a tiny menu at the bottom of your screen with the docstring (a function's documentation). Press <kbd>×</kbd> in the top right corner to close it. "
   ]
  },
  {
   "cell_type": "code",
   "execution_count": null,
   "metadata": {},
   "outputs": [],
   "source": [
    "# sin?"
   ]
  },
  {
   "cell_type": "markdown",
   "metadata": {},
   "source": [
    "Remember that the way you import functions affects how you can access the help.\n",
    "\n",
    "|                 | Using the full name         | Creating an abbreviation | Importing only the needed functions |\n",
    "|-----------------|-----------------------------|--------------------------|-------------------------------------|\n",
    "| Import method   | `import math`               | `import math as m`       | `from math import sin, cos`         |\n",
    "| Using functions | `math.sin(1) + math.cos(2)` | `m.sin(1) + m.cos(2)`    | `sin(1) + cos(2)`                   |\n",
    "| Help function   | `help(math.sin)`            | `help(m.sin)`            | `help(sin)`                         |\n",
    "| Help shortcut   | `math.sin?`                 | `m.sin?`                 | `sin?`                              |"
   ]
  },
  {
   "cell_type": "markdown",
   "metadata": {},
   "source": [
    "### Online help\n",
    "\n",
    "Online help is also available, including books: \n",
    "-  The official [tutorial](https://docs.python.org/3.7/tutorial/) by Guido van Rossum\n",
    "-  [Non-Programmer's Tutorial for Python 3](https://en.wikibooks.org/wiki/Non-Programmer%27s_Tutorial_for_Python_3)\n",
    "-  By Carl Sandrock: [Python page on the wiki](http://chemeng.up.ac.za/wiki/index.php/Python), [ChemEng cookbook](https://github.com/alchemyst/chemengcookbook)\n",
    "-  Introduction to programming for engineers using Python by Logan Page, Daniel Wilke, and Schalk Kok\n",
    "-  Introduction to Python for Computational Science and Engineering by Hans Fanghor\n",
    "\n",
    "Be sure to follow Carl's advice to \"Read the docs!\" before using a new module. The documentation provides more information than `help(module)`, including examples. Simply Google the module's name, like \"math docs python\", for [example](https://docs.python.org/3/library/math.html). "
   ]
  },
  {
   "cell_type": "markdown",
   "metadata": {},
   "source": [
    "### Jupyter help\n",
    "\n",
    "Under Help in the notebook menubar, you'll find links including:\n",
    " + The user interface tour\n",
    " - Keyboard shortcuts\n",
    " * Common modules' documentation\n",
    " \n",
    "Under View you can Toggle Line Numbers too.\n",
    " \n",
    "Common keyboard shortcuts: \n",
    " + <kbd>Ctrl</kbd>+<kbd>C</kbd> & <kbd>Ctrl</kbd>+<kbd>V</kbd> to copy and paste lines of code (there is no button for this in the menubar)\n",
    " + <kbd>Ctrl</kbd>+<kbd>Z</kbd> & <kbd>Ctrl</kbd>+<kbd>Y</kbd> to undo and redo within a cell\n",
    " + <kbd>Ctrl</kbd>+<kbd>F</kbd> to find something on a page\n",
    " + <kbd>Alt</kbd>+<kbd>←</kbd> to move to the start of a line\n",
    " + <kbd>Ctrl</kbd>+<kbd>P</kbd> to print the notebook, or save it as a pdf\n",
    " \n",
    "Other cool tips include: 😎💻\n",
    " + <kbd>Ctrl</kbd>+<kbd>Shift</kbd>+<kbd>P</kbd> to see keyboard shortcuts on the command palette\n",
    " + Press the left column to change it from blue (command mode) to  green (edit mode)\n",
    " + (In command mode) <kbd>Shift</kbd>+<kbd>↑</kbd> to select multiple cells\n",
    " + (In edit mode) <kbd>Alt</kbd> then drag your mouse down for **multicursor** support (edit many lines at once)\n",
    " \n",
    "Further reading:\n",
    " + [Advanced jupyter tricks](https://www.dataquest.io/blog/jupyter-notebook-tips-tricks-shortcuts/)\n",
    " + [Markdown guide](https://www.markdownguide.org/basic-syntax/)\n",
    " + [Markdown table generator](https://www.tablesgenerator.com/markdown_tables#)"
   ]
  },
  {
   "cell_type": "markdown",
   "metadata": {},
   "source": [
    "## Other common data structures\n",
    "\n",
    "Now that you're comfortable with the numerical types, and accessing help, let's consider some other built-in types of sequences and maps. "
   ]
  },
  {
   "cell_type": "markdown",
   "metadata": {},
   "source": [
    "### Strings\n",
    "\n",
    "Strings are immutable sequences (i.e. they can't be permanently changed after creation—see **Comparison of these types** below). They are defined by text enclosed by quotation marks and there are 4 different ways to write them. The double quotation mark (\") is useful when writing sentences that contain apostrophes. Note the curly apostrophe (‘) copied directly from MS Word won't work. Triple quotes strings can include single or double quotation marks. You can concatenate them (add them together) with a plus. See **Formatted printing** below for more information on displaying strings."
   ]
  },
  {
   "cell_type": "code",
   "execution_count": null,
   "metadata": {},
   "outputs": [],
   "source": [
    "f = '123' \n",
    "g = \"Let's try making a short sentence\"\n",
    "h = '''4#[]()$'''\n",
    "i = \"\"\"He shouted:'Hello, world!'\"\"\""
   ]
  },
  {
   "cell_type": "code",
   "execution_count": null,
   "metadata": {},
   "outputs": [],
   "source": [
    "f + i"
   ]
  },
  {
   "cell_type": "markdown",
   "metadata": {},
   "source": [
    "Strings also have unique attributes that are accessible through dot notation."
   ]
  },
  {
   "cell_type": "code",
   "execution_count": null,
   "metadata": {},
   "outputs": [],
   "source": [
    "i.upper()"
   ]
  },
  {
   "cell_type": "markdown",
   "metadata": {},
   "source": [
    "Let's say I want to replace the letter e with the letter f in string `g`. What's wrong here? Try writing the letters as strings."
   ]
  },
  {
   "cell_type": "code",
   "execution_count": null,
   "metadata": {},
   "outputs": [],
   "source": [
    "# g.replace(e, f)"
   ]
  },
  {
   "cell_type": "code",
   "execution_count": null,
   "metadata": {},
   "outputs": [],
   "source": [
    "# Let's look at all the attributes available for string sequences:\n",
    "# dir(\"\")"
   ]
  },
  {
   "cell_type": "code",
   "execution_count": null,
   "metadata": {},
   "outputs": [],
   "source": [
    "# The method is glued to the object, even when asking for help!\n",
    "# g.replace?"
   ]
  },
  {
   "cell_type": "markdown",
   "metadata": {},
   "source": [
    "### Lists\n",
    "Lists are mutable sequences and are some of the most used Python objects, so study them well! Here's a link to the [tutorial](https://docs.python.org/3/tutorial/datastructures.html)."
   ]
  },
  {
   "cell_type": "code",
   "execution_count": null,
   "metadata": {},
   "outputs": [],
   "source": [
    "lst = [4, -6.3, 'dog', [7, 8, 9]] # they can contain various types of data\n",
    "lst2 = [50, 51, 52]\n",
    "lst + lst2"
   ]
  },
  {
   "cell_type": "code",
   "execution_count": null,
   "metadata": {},
   "outputs": [],
   "source": [
    "lst2.remove(50)\n",
    "print(min(lst2))\n",
    "print(max(lst2))\n",
    "lst2"
   ]
  },
  {
   "cell_type": "code",
   "execution_count": null,
   "metadata": {},
   "outputs": [],
   "source": [
    "# dir([])"
   ]
  },
  {
   "cell_type": "markdown",
   "metadata": {},
   "source": [
    "### Tuples\n",
    "\n",
    "Tuples (pronounced \"tuppels\") are immutable sequences (unlike lists). Note that it is actually the comma which makes a tuple, not the parentheses. The parentheses are optional, except in the empty tuple case, or when they are needed to avoid syntactic ambiguity. They enable tuple packing (multiple assignments to a single variable) and tuple unpacking."
   ]
  },
  {
   "cell_type": "code",
   "execution_count": null,
   "metadata": {},
   "outputs": [],
   "source": [
    "tup = 1, 2, 3\n",
    "tup"
   ]
  },
  {
   "cell_type": "code",
   "execution_count": null,
   "metadata": {},
   "outputs": [],
   "source": [
    "t = 1,\n",
    "print(t)\n",
    "type(t)"
   ]
  },
  {
   "cell_type": "code",
   "execution_count": null,
   "metadata": {},
   "outputs": [],
   "source": [
    "foo = (35, 36, 37, [38, 39], 'last') # they can also contain various types of data\n",
    "bar = 45, 46, 47, 48 # tuple packing\n",
    "foo + bar"
   ]
  },
  {
   "cell_type": "code",
   "execution_count": null,
   "metadata": {},
   "outputs": [],
   "source": [
    "B, I, E, R = bar # tuple unpacking\n",
    "B"
   ]
  },
  {
   "cell_type": "code",
   "execution_count": null,
   "metadata": {},
   "outputs": [],
   "source": [
    "# dir(()) # Not much to see here"
   ]
  },
  {
   "cell_type": "markdown",
   "metadata": {},
   "source": [
    "### Dictionaries\n",
    "Dictionaries are not actually sequences but rather maps (a.k.a. associative arrays or hash tables). It is best to think of it as a set of unordered _key:value_ pairs. The keys must be unique (within one dictionary), and of any immutable type (that means lists and dictionaries cannot be used as keys). These can be used for giving legends to plots, for instance."
   ]
  },
  {
   "cell_type": "code",
   "execution_count": null,
   "metadata": {},
   "outputs": [],
   "source": [
    "synonyms = {'start':'begin', 'quick':'fast', 'smart':'clever'}\n",
    "synonyms"
   ]
  },
  {
   "cell_type": "code",
   "execution_count": null,
   "metadata": {},
   "outputs": [],
   "source": [
    "# A dictionary can contain various types of variables\n",
    "crazy_dct = {0:0.5, '1':2, 3:[[4, 4, 4]], (5, 6):(6, 7), 8:{9:10}}\n",
    "crazy_dct.keys()"
   ]
  },
  {
   "cell_type": "code",
   "execution_count": null,
   "metadata": {},
   "outputs": [],
   "source": [
    "crazy_dct.values()"
   ]
  },
  {
   "cell_type": "code",
   "execution_count": null,
   "metadata": {},
   "outputs": [],
   "source": [
    "# dir({})"
   ]
  },
  {
   "cell_type": "markdown",
   "metadata": {},
   "source": [
    "### Comparison of these structures\n",
    "\n",
    "Let's summarise these data types in the [table](http://www.stephaniehicks.com/learnPython/pages/sldt.html) below. Objects which can be changed after creation are said to be mutable (like lists and dictionaries).\n",
    "\n",
    "|                       | String    | List     | Tuple     | Dictionary         |\n",
    "|-----------------------|-----------|----------|-----------|--------------------|\n",
    "| Example               | \"123\"     | [1,2,3]  | (1,2,3)   | {1:1, 2:4, 3:6}    |\n",
    "| Indexed by?           | integers  | integers | integers  | any immutable type |\n",
    "| Index starts at?      | 0         | 0        | 0         | unordered map      |\n",
    "| Immutable or mutable? | immutable | mutable  | immutable | mutable            |\n",
    "\n",
    "These data types share some [common](https://docs.python.org/3/library/stdtypes.html#sequence-types-list-tuple-range) [operations](https://pythonguide.readthedocs.io/en/latest/python/datatypes.html#sequences). For example, you can use `len()` to return the length of the sequence."
   ]
  },
  {
   "cell_type": "code",
   "execution_count": null,
   "metadata": {},
   "outputs": [],
   "source": [
    "A = [15, 16, 17, 18, 19, 20, 21]  # list\n",
    "B = 'abcdefgh'                    # string\n",
    "C = (35, 36, 37, 38, 39, 40)      # tuple\n",
    "D = {3:9, 4:16, 5:25, 6:36}       # dictionary\n",
    "\n",
    "print(B) # removes the quotation marks\n",
    "B"
   ]
  },
  {
   "cell_type": "code",
   "execution_count": null,
   "metadata": {},
   "outputs": [],
   "source": [
    "print(len(A))\n",
    "print(len(B))\n",
    "print(len(C))\n",
    "print(len(D)) # returns the number of key:value pairs"
   ]
  },
  {
   "cell_type": "markdown",
   "metadata": {},
   "source": [
    "As with the numeric types, you can also change the objects into other types by using built-in functions:"
   ]
  },
  {
   "cell_type": "code",
   "execution_count": null,
   "metadata": {},
   "outputs": [],
   "source": [
    "print(str(A))\n",
    "print(tuple(B))\n",
    "print(list(C))"
   ]
  },
  {
   "cell_type": "markdown",
   "metadata": {},
   "source": [
    "### Appending values\n",
    "\n",
    "Each of these types has a different way in which a new element can be appended to the end. Let's try adding 100 and then duplicating the sequence. Mutable types will remain changed."
   ]
  },
  {
   "cell_type": "code",
   "execution_count": null,
   "metadata": {},
   "outputs": [],
   "source": [
    "# Lists are mutable\n",
    "A.append(100)\n",
    "print(A)\n",
    "print(2*A)"
   ]
  },
  {
   "cell_type": "code",
   "execution_count": null,
   "metadata": {},
   "outputs": [],
   "source": [
    "# Strings are immutable\n",
    "print(B + '100')\n",
    "print(B)\n",
    "print(2*B)"
   ]
  },
  {
   "cell_type": "code",
   "execution_count": null,
   "metadata": {},
   "outputs": [],
   "source": [
    "# Tuples are immutable\n",
    "print(C + (100,))\n",
    "print(2*C)"
   ]
  },
  {
   "cell_type": "code",
   "execution_count": null,
   "metadata": {},
   "outputs": [],
   "source": [
    "# Dictionaries are mutable\n",
    "D[100] = 10000\n",
    "print(D)"
   ]
  },
  {
   "cell_type": "markdown",
   "metadata": {},
   "source": [
    "Note you can't concatenate two different types of sequences. If you ever raise a TypeError, print the variables involved and their `type`."
   ]
  },
  {
   "cell_type": "code",
   "execution_count": null,
   "metadata": {},
   "outputs": [],
   "source": [
    "# A + C"
   ]
  },
  {
   "cell_type": "markdown",
   "metadata": {},
   "source": [
    "### Indexing \n",
    "\n",
    "Each item in a sequence has an index. In Python, we start counting from 0, not 1! To find an element in each of these structures, type `[i]` next to its name, where the `i` specifies the position. Note that a dictionary is unordered, meaning that you need the specific _key_ for a _value_."
   ]
  },
  {
   "cell_type": "code",
   "execution_count": null,
   "metadata": {},
   "outputs": [],
   "source": [
    "print(A[0]) # the first element\n",
    "print(B[1]) # the second element\n",
    "print(C[2]) # the third element\n",
    "print(D[3]) # value associated with the key 3"
   ]
  },
  {
   "cell_type": "code",
   "execution_count": null,
   "metadata": {},
   "outputs": [],
   "source": [
    "# The last element can be indexed by -1\n",
    "print(A[-1])\n",
    "print(B[-1])\n",
    "print(C[-1])"
   ]
  },
  {
   "cell_type": "code",
   "execution_count": null,
   "metadata": {},
   "outputs": [],
   "source": [
    "# You can also do the reverse and find the index of an element\n",
    "print(A.index(15))\n",
    "print(B.index('b'))\n",
    "print(C.index(37))"
   ]
  },
  {
   "cell_type": "markdown",
   "metadata": {},
   "source": [
    "Here are nested lists. What value do you think will be returned by the next line of code?"
   ]
  },
  {
   "cell_type": "code",
   "execution_count": null,
   "metadata": {},
   "outputs": [],
   "source": [
    "nested_list = [[7, 8, 9], [\"spam\", \"eggs\", \"ham\"]]"
   ]
  },
  {
   "cell_type": "code",
   "execution_count": null,
   "metadata": {},
   "outputs": [],
   "source": [
    "nested_list[1][1]"
   ]
  },
  {
   "cell_type": "markdown",
   "metadata": {},
   "source": [
    "### Slicing\n",
    "\n",
    "Slicing is used to cut out a piece of a sequence between certain indices in the order `[start:end:step]`. All three slice components are not required; by default, start is 0, end is the last and step is 1. Consider the following roster from _Introduction to Python for Computational Science and Engineering_ by Hans Fangohr:\n",
    "\n",
    "![](Assets/Slicing_Roster.png)"
   ]
  },
  {
   "cell_type": "code",
   "execution_count": null,
   "metadata": {},
   "outputs": [],
   "source": [
    "A[0:9] # this returns a slice of A from slice position 0 to slice position 8"
   ]
  },
  {
   "cell_type": "code",
   "execution_count": null,
   "metadata": {},
   "outputs": [],
   "source": [
    "A[0:9:2] # slice in steps of 2\n",
    "# A[::2] # gives the same answer"
   ]
  },
  {
   "cell_type": "code",
   "execution_count": null,
   "metadata": {},
   "outputs": [],
   "source": [
    "A[1:-1]"
   ]
  },
  {
   "cell_type": "code",
   "execution_count": null,
   "metadata": {},
   "outputs": [],
   "source": [
    "A[3:]"
   ]
  },
  {
   "cell_type": "markdown",
   "metadata": {},
   "source": [
    "### Range and enumerate\n",
    "\n",
    "A very commonly used function is the `range()` function, but it only works for **integers**. Furthermore, since Python 3, it returns an iterable, not an iterator, to save memory and to enable slicing (see below). However, we can convert it to a list by the usual means. This same \"issue\" is seen with the `enumerate()` function used to index iterables (see the next Unit)."
   ]
  },
  {
   "cell_type": "code",
   "execution_count": null,
   "metadata": {},
   "outputs": [],
   "source": [
    "range(0, 10, 1) "
   ]
  },
  {
   "cell_type": "code",
   "execution_count": null,
   "metadata": {},
   "outputs": [],
   "source": [
    "list(range(0, 10, 1))"
   ]
  },
  {
   "cell_type": "code",
   "execution_count": null,
   "metadata": {},
   "outputs": [],
   "source": [
    "list(range(10)) # the start and interval are inferred"
   ]
  },
  {
   "cell_type": "code",
   "execution_count": null,
   "metadata": {},
   "outputs": [],
   "source": [
    "print(list(range(0, 10, 2)))\n",
    "list(range(10,0,-1))"
   ]
  },
  {
   "cell_type": "code",
   "execution_count": null,
   "metadata": {},
   "outputs": [],
   "source": [
    "list(enumerate([53, 12, 42, 97, 80])"
   ]
  },
  {
   "cell_type": "markdown",
   "metadata": {},
   "source": [
    "Other sequences that will be discussed in later Units include ndarrays (as part of the NumPy module which enable performing a calculation to all the elements in the sequence), as well as Series and DataFrames which are a part of the Pandas module."
   ]
  },
  {
   "cell_type": "markdown",
   "metadata": {},
   "source": [
    "### Formatted printing\n",
    "\n",
    "Triple quoted strings can span multiple lines. Strings can also include _escape characters_ which are preceded by a backslash. Examples include `\\n` for a newline character and `\\\\` for a backslash. _Raw strings_ turn off the processing of escape sequences and are preceded by an `r`."
   ]
  },
  {
   "cell_type": "code",
   "execution_count": null,
   "metadata": {},
   "outputs": [],
   "source": [
    "print('''This is a\n",
    "backslash: \\\\''')"
   ]
  },
  {
   "cell_type": "code",
   "execution_count": null,
   "metadata": {},
   "outputs": [],
   "source": [
    "print('This is a \\nbackslash: \\\\')"
   ]
  },
  {
   "cell_type": "code",
   "execution_count": null,
   "metadata": {},
   "outputs": [],
   "source": [
    "print(r'This is a \\nbackslash: \\\\')"
   ]
  },
  {
   "cell_type": "markdown",
   "metadata": {},
   "source": [
    "Variables from the code can be printed as part of a string. Two methods are demonstrated below:\n",
    "- The `string.format()` method\n",
    "- The formatted string literal, or f-string\n",
    "\n",
    "The number of digits and spacing can be specified using the `{I:W.DL}` syntax, where the optional inputs are\n",
    "+ I: the index of the value to be printed\n",
    "+ W: the total width of the value (including the full stop and whitespace),\n",
    "+ D: the number of decimal places, and\n",
    "+ L: a letter specifying the type of output (e.g. `f` for floats, or `e`/`E` for scientific notation)"
   ]
  },
  {
   "cell_type": "code",
   "execution_count": null,
   "metadata": {},
   "outputs": [],
   "source": [
    "# if you haven't imported pi above yet\n",
    "from math import pi\n",
    "print(pi)"
   ]
  },
  {
   "cell_type": "code",
   "execution_count": null,
   "metadata": {},
   "outputs": [],
   "source": [
    "print(\"Pi is approximately {:f}\".format(pi)) # only prints 6 decimal places by default\n",
    "print(\"Pi is approximately {:11f}\".format(pi)) # 11 spaces in total, including the . (thus adds 3 whitespaces at the front)\n",
    "print(\"Pi is approximately {:.10f}\".format(pi)) # 10 decimal places\n",
    "print(\"Pi is approximately {:15.10f}\".format(pi)) # 15 spaces in total of which 10 are decimal places"
   ]
  },
  {
   "cell_type": "code",
   "execution_count": null,
   "metadata": {},
   "outputs": [],
   "source": [
    "print(f\"Pi is approximately {pi:f}\")\n",
    "print(f\"Pi is approximately {pi:11f}\")\n",
    "print(f\"Pi is approximately {pi:.10f}\")\n",
    "print(f\"Pi is approximately {pi:15.10f}\")"
   ]
  },
  {
   "cell_type": "code",
   "execution_count": null,
   "metadata": {},
   "outputs": [],
   "source": [
    "x0 = 0.12345678E7\n",
    "x1 = 0.12345678E-7"
   ]
  },
  {
   "cell_type": "code",
   "execution_count": null,
   "metadata": {},
   "outputs": [],
   "source": [
    "print(\"This is a very small number:\", x1, \"and this is a very large number:\", x0)"
   ]
  },
  {
   "cell_type": "code",
   "execution_count": null,
   "metadata": {},
   "outputs": [],
   "source": [
    "# Note that the indeces before the : could've been left out if you swap the values, i.e. (x1, x0)\n",
    "print(\"This is a very small number: {1:15.5E} \\nand this is a very large number: {0:.5e}\".format(x0, x1))"
   ]
  },
  {
   "cell_type": "code",
   "execution_count": null,
   "metadata": {},
   "outputs": [],
   "source": [
    "# help('FORMATTING')"
   ]
  },
  {
   "cell_type": "markdown",
   "metadata": {},
   "source": [
    "Note that previously the `%` operator (modulo) was used for formatted printing. However, it [exhibits a variety of quirks](https://docs.python.org/3/library/stdtypes.html#old-string-formatting) that lead to a number of common errors (such as failing to display tuples and dictionaries correctly). More help can be obtained [here](https://stackabuse.com/formatting-strings-with-python/) or [here](https://docs.python.org/3/tutorial/inputoutput.html)."
   ]
  },
  {
   "cell_type": "markdown",
   "metadata": {},
   "source": [
    "### Copying objects\n",
    "\n",
    "<span style=\"color:red\"> **Warning:** </span> Be very careful when trying to make changes to a variable when you also want to keep an original copy!!"
   ]
  },
  {
   "cell_type": "code",
   "execution_count": null,
   "metadata": {},
   "outputs": [],
   "source": [
    "old_list = [1, 2, 3]\n",
    "new_list = old_list\n",
    "\n",
    "# add element to list\n",
    "new_list.append('a')\n",
    "\n",
    "print('New List:', new_list)\n",
    "print('Old List:', old_list)"
   ]
  },
  {
   "cell_type": "markdown",
   "metadata": {},
   "source": [
    "With `new_list = old_list`, you're not making a copy, you're just adding another name that points at that original list in memory.\n",
    "\n",
    "To actually copy the list, you have various possibilities. The first 4 below create _shallow_ copies. (Answer from [StackOverflow](https://stackoverflow.com/questions/2612802/how-to-clone-or-copy-a-list))."
   ]
  },
  {
   "cell_type": "code",
   "execution_count": null,
   "metadata": {},
   "outputs": [],
   "source": [
    "import copy"
   ]
  },
  {
   "cell_type": "code",
   "execution_count": null,
   "metadata": {},
   "outputs": [],
   "source": [
    "old = [1, 2, 3, 4]\n",
    "\n",
    "a = old.copy()\n",
    "b = old[:]\n",
    "c = list(old)\n",
    "d = copy.copy(old)\n",
    "e = copy.deepcopy(old)"
   ]
  },
  {
   "cell_type": "code",
   "execution_count": null,
   "metadata": {},
   "outputs": [],
   "source": [
    "# edit last entry in original list  \n",
    "old[-1] = 'baz'\n",
    "\n",
    "print(\"original: {}\\n list.copy(): {}\\n slice: {}\\n list(): {}\\n copy: {}\\n deepcopy: {}\"\n",
    "      .format(old, a, b, c, d, e))"
   ]
  },
  {
   "cell_type": "markdown",
   "metadata": {},
   "source": [
    "Note if the object is nested (i.e. it contains lists within a list), only `deepcopy` creates a new object and recursively adds the copies of nested objects present in the original. This why this function takes the most time."
   ]
  },
  {
   "cell_type": "code",
   "execution_count": null,
   "metadata": {},
   "outputs": [],
   "source": [
    "old = [[1, 2, 3], [4, 5, 6]]\n",
    "\n",
    "a = old.copy()\n",
    "b = old[:]\n",
    "c = list(old)\n",
    "d = copy.copy(old)\n",
    "e = copy.deepcopy(old)\n",
    "\n",
    "old[0][0] = 'foo'\n",
    "\n",
    "print(\"original: {}\\n list.copy(): {}\\n slice: {}\\n list(): {}\\n copy: {}\\n deepcopy: {}\"\n",
    "      .format(old, a, b, c, d, e))"
   ]
  },
  {
   "cell_type": "markdown",
   "metadata": {},
   "source": [
    "## Exercises\n",
    "\n",
    "\n",
    "Go to the Tutorial exercises folder and give Tut 1 a try before continuing with the next unit."
   ]
  },
  {
   "cell_type": "code",
   "execution_count": null,
   "metadata": {},
   "outputs": [],
   "source": []
  }
 ],
 "metadata": {
  "kernelspec": {
   "display_name": "Python 3",
   "language": "python",
   "name": "python3"
  },
  "language_info": {
   "codemirror_mode": {
    "name": "ipython",
    "version": 3
   },
   "file_extension": ".py",
   "mimetype": "text/x-python",
   "name": "python",
   "nbconvert_exporter": "python",
   "pygments_lexer": "ipython3",
   "version": "3.8.11"
  },
  "toc": {
   "base_numbering": 1,
   "nav_menu": {},
   "number_sections": true,
   "sideBar": true,
   "skip_h1_title": true,
   "title_cell": "Table of Contents",
   "title_sidebar": "Contents",
   "toc_cell": true,
   "toc_position": {},
   "toc_section_display": true,
   "toc_window_display": false
  },
  "varInspector": {
   "cols": {
    "lenName": 16,
    "lenType": 16,
    "lenVar": 40
   },
   "kernels_config": {
    "python": {
     "delete_cmd_postfix": "",
     "delete_cmd_prefix": "del ",
     "library": "var_list.py",
     "varRefreshCmd": "print(var_dic_list())"
    },
    "r": {
     "delete_cmd_postfix": ") ",
     "delete_cmd_prefix": "rm(",
     "library": "var_list.r",
     "varRefreshCmd": "cat(var_dic_list()) "
    }
   },
   "types_to_exclude": [
    "module",
    "function",
    "builtin_function_or_method",
    "instance",
    "_Feature"
   ],
   "window_display": false
  }
 },
 "nbformat": 4,
 "nbformat_minor": 2
}
