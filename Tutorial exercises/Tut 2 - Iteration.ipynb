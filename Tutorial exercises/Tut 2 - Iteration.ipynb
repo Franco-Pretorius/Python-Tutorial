{
 "cells": [
  {
   "cell_type": "markdown",
   "id": "b504f995",
   "metadata": {},
   "source": [
    "# Exercises\n",
    "\n",
    "It is good style to import any modules you may need at the top of the notebook."
   ]
  },
  {
   "cell_type": "markdown",
   "id": "b6cae889",
   "metadata": {},
   "source": [
    "## Compound interest\n",
    "\n",
    "The future value of an investment can be calculated by \n",
    "$ F = P(1+i)^n$\n",
    "\n",
    "Suppose that R 100 000 ($P$) is invested at an interest rate of 5 % ($i$) over 8 years ($n$). For every year, print the year and the accumulated interest accrued on the initial investment ($F - P$). Keep $P$ as the original value. Round to the nearest cent."
   ]
  },
  {
   "cell_type": "markdown",
   "id": "fed2fdf5",
   "metadata": {},
   "source": [
    "## Ideal gas (list)\n",
    "\n",
    "a) There is 1 mol of an ideal gas in a piston (expandable container) at 101.3 kPa. Calculate a list of volume values (in L) as the temperature increases from 25 to 100 °C in steps of 1 °C. Round each volume to 2 decimal places. R is 8.314 $\\frac{kJ}{kmol K}$ or $\\frac{kPa L}{mol K}$. Remember 0 °C = 273 K.\n",
    "\n",
    "Answer: [24.46, 24.54, ..., 30.53, 30.61] L\n",
    "\n",
    "**Note:** It is not preferred to keep appending values to a list for calculations like this. In the next Unit, you'll redo this question by using an array.\n",
    "\n",
    "b) Write a function `ideal_gas_volume` that accepts $n$, $P$, and a sequence of temperatures as parameters then returns a sequence of corresponding volume values. "
   ]
  },
  {
   "cell_type": "code",
   "execution_count": null,
   "id": "ce09e6ba",
   "metadata": {},
   "outputs": [],
   "source": [
    "R = 8.314 #kJ/kmol.K or kPa.L/mol.K"
   ]
  },
  {
   "cell_type": "markdown",
   "id": "fd1063ef",
   "metadata": {},
   "source": [
    "## Maclaurin series:\n",
    "\n",
    "A Maclaurin series is a Taylor series centred around zero. The Maclaurin series expansion for cosine is given below and can be used to approximate `cos(x)` for x-values close to zero.  \n",
    "\n",
    "$$ \\cos(x) = \\sum^{\\infty}_{n=0} \\frac{(-1)^n}{(2n)!} x^{2n} = 1 - \\frac{x^2}{2!} + \\frac{x^4}{4!} - \\frac{x^6}{6!} ... $$\n",
    "\n",
    "a) Use `math` to evaluate `cos(2)`.\n",
    "\n",
    "b) Use a while loop to approximate `cos(2)` by adding together terms in the Maclaurin series. How many terms need to be added together before the next term's value is smaller than $1.0 \\times 10^{-12}$? Answer: 11 terms\n",
    "\n",
    "c) Now use a for loop to approximate `cos(2)`.\n",
    "\n",
    "d) Rewrite your while loop routine as a function named `maclaurin_cos(x)`. Keep the same tolerance as in b). Evaluate `cos(2)` with both `math` and your function.\n",
    "\n",
    "e) Notice that when you evaluate `maclaurin_cos(50)`, you'll get -35363! Determine for which positive integer values of $x$, the difference between `cos()` and `maclaurin_cos()` is smaller than $1.0 \\times 10^{-10}$. Hint: remember to use the absolute value. Answer: $ x \\in [0, 14]$"
   ]
  },
  {
   "cell_type": "markdown",
   "id": "42d11728",
   "metadata": {},
   "source": [
    "## Heat capacities\n",
    "\n",
    "According to Perry _et al_ (2008: 2-170), the heat capacities of inorganic or organic liquids can be computed by the following polynomial, with $ C_{pL} $ in J/(kmol K) and $T$ in K:\n",
    "\n",
    "$$ C_{pL} = C_1 + C_2T + C_3T^2 + C_4T^3 + C_5T^4 $$\n",
    "\n",
    "There are between 1 and 5 constants tabulated in the handbook for each of the 345 different compounds, with upper and lower temperatures for acceptable use. Write a function that can compute the heat capacity (in kJ/(kmol K), rounded to 2 decimal places) for the following compounds at a certain temperature. However, it must display a warning if the given temperature is out of the acceptable range. \n",
    "\n",
    "Do not:\n",
    " - Change the given lists below (e.g. by adding zeros); use them as the input\n",
    " - Truncate the polynomial\n",
    " \n",
    "Answer: \n",
    "- For water at 400 K, $C_{pL}$ = 76.78 kJ/(kmol K)\n",
    "- For toluene at 400 K, $C_{pL}$ = 190.42 kJ/(kmol K)"
   ]
  },
  {
   "cell_type": "markdown",
   "id": "4d5ff335",
   "metadata": {},
   "source": [
    "|    Species   |   $C_1$    |   $C_2$     |   $C_3$   |   $C_4$    |   $C_5$  |  Tmin (K) | Tmax (K)|\n",
    "|--------------|------------|-------------|-----------|------------|----------|-----------|---------|\n",
    "|    Toluene   |    140140  |    -152.3   |    0.695  |    -       |    -     |   178.18  | 500     |\n",
    "|    Water     |    276370  |    -2090.1  |    8.125  |  -0.014116 |9.3701E-6 |    273.16 |533.15   |"
   ]
  },
  {
   "cell_type": "code",
   "execution_count": null,
   "id": "60738870",
   "metadata": {},
   "outputs": [],
   "source": [
    "const_t = [140140, -152.3, 0.695]\n",
    "temps_t = [178.18, 500]\n",
    "const_w = [276370, -2090.1, 8.125, -0.014116, 9.3701E-6]\n",
    "temps_w = [273.16, 533.15]"
   ]
  },
  {
   "cell_type": "code",
   "execution_count": null,
   "id": "4dc5bca4",
   "metadata": {},
   "outputs": [],
   "source": []
  }
 ],
 "metadata": {
  "kernelspec": {
   "display_name": "Python 3",
   "language": "python",
   "name": "python3"
  },
  "language_info": {
   "codemirror_mode": {
    "name": "ipython",
    "version": 3
   },
   "file_extension": ".py",
   "mimetype": "text/x-python",
   "name": "python",
   "nbconvert_exporter": "python",
   "pygments_lexer": "ipython3",
   "version": "3.8.11"
  },
  "toc": {
   "base_numbering": 1,
   "nav_menu": {},
   "number_sections": true,
   "sideBar": true,
   "skip_h1_title": false,
   "title_cell": "Table of Contents",
   "title_sidebar": "Contents",
   "toc_cell": false,
   "toc_position": {},
   "toc_section_display": true,
   "toc_window_display": false
  },
  "varInspector": {
   "cols": {
    "lenName": 16,
    "lenType": 16,
    "lenVar": 40
   },
   "kernels_config": {
    "python": {
     "delete_cmd_postfix": "",
     "delete_cmd_prefix": "del ",
     "library": "var_list.py",
     "varRefreshCmd": "print(var_dic_list())"
    },
    "r": {
     "delete_cmd_postfix": ") ",
     "delete_cmd_prefix": "rm(",
     "library": "var_list.r",
     "varRefreshCmd": "cat(var_dic_list()) "
    }
   },
   "types_to_exclude": [
    "module",
    "function",
    "builtin_function_or_method",
    "instance",
    "_Feature"
   ],
   "window_display": false
  }
 },
 "nbformat": 4,
 "nbformat_minor": 5
}
