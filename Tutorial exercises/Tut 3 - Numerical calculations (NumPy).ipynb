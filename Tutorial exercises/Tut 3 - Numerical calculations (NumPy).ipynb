{
 "cells": [
  {
   "cell_type": "markdown",
   "id": "b504f995",
   "metadata": {},
   "source": [
    "# Exercises\n",
    "\n",
    "It is good style to import any modules you may need at the top of the notebook."
   ]
  },
  {
   "cell_type": "markdown",
   "id": "b6cae889",
   "metadata": {},
   "source": [
    "## Ideal gas (array)\n",
    "\n",
    "Redo the ideal gas problem from Tut 2 but with arrays. How much shorter is your code now?"
   ]
  },
  {
   "cell_type": "markdown",
   "id": "e2750d3c",
   "metadata": {},
   "source": [
    "## Even vector:\n",
    "\n",
    "Write a function that accepts a vector $u$ and checks whether each element is divisible by 2. If it is divisible by 2, it must store a 1 in the position of the even component. Otherwise it must store a zero. Zero is an even number. For example:\n",
    "\n",
    "\\begin{array}{lcl}\n",
    "u = \n",
    "\\begin{bmatrix}\n",
    "2 & 0 & -6 & 7 & 10 & -4 & -11\\\\\n",
    "\\end{bmatrix}\n",
    "\\end{array}\n",
    "\n",
    "\\begin{array}{lcl} \n",
    "u_{even} = \n",
    "\\begin{bmatrix}\n",
    "1 & 1 & 1 & 0 & 1 & 1 & 0\\\\\n",
    "\\end{bmatrix}\n",
    "\\end{array}"
   ]
  },
  {
   "cell_type": "markdown",
   "id": "194419d5",
   "metadata": {},
   "source": [
    "## Mass balances\n",
    "\n",
    "Consider the following separation train to separate a mixture of components A, B and C.\n",
    "\n",
    "<div>\n",
    "<img src=\"../Assets/Mass_balance_columns.png\" width=\"400\"/>\n",
    "</div>\n",
    "\n",
    "A total mass flow balance for the unknown streams labeled $F$, and component balances for A and B (in terms of mass fractions $x$) can be written as:\n",
    "\n",
    "$$\\begin{align}\n",
    "F_1 + F_2 + F_3 &= F_i \\\\\n",
    "x_{A1}F_1 + x_{A2}F_2 + x_{A3}F_3 &= x_{Ai}F_i \\\\\n",
    "x_{B1}F_1 + x_{B2}F_2 + x_{B3}F_3 &= x_{Bi}F_i \\\\\n",
    "\\end{align}$$\n",
    "\n",
    "a) If the input flow rate is 100 kg/h, determine $F_1$, $F_2$ and $F_3$. \n",
    "\n",
    "Answer: $F_1$ = 16 kg/h; $F_2$ = 67 kg/h; $F_3$ = 17 kg/h\n",
    "\n",
    "b) What are the flow rates if the input flow rate is 150 kg/h?\n",
    "\n",
    "Answer: $F_1$ = 24 kg/h; $F_2$ = 100 kg/h; $F_3$ = 26 kg/h\n",
    "\n",
    "c) What are the flow rates if the input flow rate is 150 kg/h, $x_{B2}$ = 0.98 and $x_{C2}$ = 0.01?\n",
    "\n",
    "Answer: $F_1$ = 24 kg/h; $F_2$ = 91 kg/h; $F_3$ = 34 kg/h"
   ]
  },
  {
   "cell_type": "markdown",
   "id": "06e2c515",
   "metadata": {},
   "source": [
    "## Antisymmetric matrix\n",
    "\n",
    "Matrix A is antisymmetric (skew-symmetric) if it is square and the following holds for all $i$ = 0, 1, 2,..., n and $j$ = 0, 1, 2,..., n:\n",
    "\n",
    "$$ A(i,j) = -A(j,i) $$\n",
    "\n",
    "For example:\n",
    "\\begin{bmatrix}\n",
    "0 & 1 & -2 & 3 \\\\\n",
    "-1 & 0 & 4 & -5 \\\\\n",
    "2 & -4 & 0 & 6 \\\\\n",
    "-3 & 5 & -6 & 0\n",
    "\\end{bmatrix}\n",
    "\n",
    "Write a function that accepts a matrix and determines whether it is skew-symmetric or not. Hint: the sum of A and its transpose matrix will give a zero matrix, if it is antisymmetric."
   ]
  },
  {
   "cell_type": "code",
   "execution_count": null,
   "id": "098e0475",
   "metadata": {},
   "outputs": [],
   "source": []
  }
 ],
 "metadata": {
  "kernelspec": {
   "display_name": "Python 3",
   "language": "python",
   "name": "python3"
  },
  "language_info": {
   "codemirror_mode": {
    "name": "ipython",
    "version": 3
   },
   "file_extension": ".py",
   "mimetype": "text/x-python",
   "name": "python",
   "nbconvert_exporter": "python",
   "pygments_lexer": "ipython3",
   "version": "3.8.11"
  },
  "toc": {
   "base_numbering": 1,
   "nav_menu": {},
   "number_sections": true,
   "sideBar": true,
   "skip_h1_title": false,
   "title_cell": "Table of Contents",
   "title_sidebar": "Contents",
   "toc_cell": false,
   "toc_position": {},
   "toc_section_display": true,
   "toc_window_display": false
  },
  "varInspector": {
   "cols": {
    "lenName": 16,
    "lenType": 16,
    "lenVar": 40
   },
   "kernels_config": {
    "python": {
     "delete_cmd_postfix": "",
     "delete_cmd_prefix": "del ",
     "library": "var_list.py",
     "varRefreshCmd": "print(var_dic_list())"
    },
    "r": {
     "delete_cmd_postfix": ") ",
     "delete_cmd_prefix": "rm(",
     "library": "var_list.r",
     "varRefreshCmd": "cat(var_dic_list()) "
    }
   },
   "types_to_exclude": [
    "module",
    "function",
    "builtin_function_or_method",
    "instance",
    "_Feature"
   ],
   "window_display": false
  }
 },
 "nbformat": 4,
 "nbformat_minor": 5
}
