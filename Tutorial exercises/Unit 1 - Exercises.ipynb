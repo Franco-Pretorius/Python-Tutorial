{
 "cells": [
  {
   "cell_type": "markdown",
   "id": "6fc01e8b",
   "metadata": {},
   "source": [
    "# Exercises\n",
    "\n",
    "I would recommend using a new (blank) notebook outside of the local repository to practise these questions, otherwise they may be be overwritten. To do this, ensure that you are \"above\" the Python-Tutorial folder in the Jupyter Dashboard (it is the tab with the icon of two orange curls, and it lists the files you have available). Then click the New button on the right and select Python 3. After opening the new notebook, you can rename it by clicking on the name Untitled at the top menu bar. "
   ]
  },
  {
   "cell_type": "markdown",
   "id": "1d46ae6d",
   "metadata": {},
   "source": [
    "## Generating random numbers\n",
    "\n",
    "Write a program that adds a random float $ x_1 \\in$ [3, 8) with a random integer $ x_2 \\in$ [1, 15]. The answer should then be divided by a random float $ x_3 \\in$ [0, 1). Print each number to test if your answer seems reasonable.\n",
    "\n",
    "Hint: Import the `random` module. Use any of the the help functions to read up on how to use the `randint`, `random` and `uniform` functions. "
   ]
  },
  {
   "cell_type": "markdown",
   "id": "1778bcb3",
   "metadata": {},
   "source": [
    "## Slicing and indexing\n",
    "\n",
    "a) Create and change a list of integers step-by-step as shown below.\n",
    " + [0, 3, ..., 27, 30]\n",
    " + [0, 3, ..., 27, 30, 44, 55]\n",
    " + [27, 30, 44, 55, 0, 3, 6, 9]\n",
    " + [27, 30, 44, 55, 0, 3, 9]\n",
    " + [27, 30, 44, 55, 0, 3, 9, 27, 30, 44, 55, 0, 3, 9]\n",
    " + [0, 0, 3, 3, 9, 9, 27, 27, 30, 30, 44, 44, 55, 55]\n",
    " \n",
    "Hint: You may use slicing, as well as built-in functions (like `range` and `list`) and list attributes (like `append`, `pop` and `sort`) \n",
    "\n",
    "b) While testing your code, you may see that the output of the previous cells keep changing when you rerun them. After your first successful run, rewrite your code so that this does not happen.\n"
   ]
  },
  {
   "cell_type": "markdown",
   "id": "66b125b8",
   "metadata": {},
   "source": [
    "## Scalar mathematics\n",
    "\n",
    "Compute the following and display the answer to 4 decimal places:\n",
    "\n",
    "$$ \\frac{\\big(\\sqrt{333} - \\ln(7)\\big)^2}{5! \\times \\log(40) + 2e^{-5}} $$\n",
    "\n",
    "Answer: 1.3823"
   ]
  },
  {
   "cell_type": "code",
   "execution_count": null,
   "id": "ee33af5d",
   "metadata": {},
   "outputs": [],
   "source": []
  }
 ],
 "metadata": {
  "kernelspec": {
   "display_name": "Python 3",
   "language": "python",
   "name": "python3"
  },
  "language_info": {
   "codemirror_mode": {
    "name": "ipython",
    "version": 3
   },
   "file_extension": ".py",
   "mimetype": "text/x-python",
   "name": "python",
   "nbconvert_exporter": "python",
   "pygments_lexer": "ipython3",
   "version": "3.8.11"
  },
  "toc": {
   "base_numbering": 1,
   "nav_menu": {},
   "number_sections": true,
   "sideBar": true,
   "skip_h1_title": false,
   "title_cell": "Table of Contents",
   "title_sidebar": "Contents",
   "toc_cell": false,
   "toc_position": {},
   "toc_section_display": true,
   "toc_window_display": false
  },
  "varInspector": {
   "cols": {
    "lenName": 16,
    "lenType": 16,
    "lenVar": 40
   },
   "kernels_config": {
    "python": {
     "delete_cmd_postfix": "",
     "delete_cmd_prefix": "del ",
     "library": "var_list.py",
     "varRefreshCmd": "print(var_dic_list())"
    },
    "r": {
     "delete_cmd_postfix": ") ",
     "delete_cmd_prefix": "rm(",
     "library": "var_list.r",
     "varRefreshCmd": "cat(var_dic_list()) "
    }
   },
   "types_to_exclude": [
    "module",
    "function",
    "builtin_function_or_method",
    "instance",
    "_Feature"
   ],
   "window_display": false
  }
 },
 "nbformat": 4,
 "nbformat_minor": 5
}
