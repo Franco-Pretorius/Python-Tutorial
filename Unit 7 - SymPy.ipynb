{
 "cells": [
  {
   "cell_type": "markdown",
   "metadata": {},
   "source": [
    "# Clanging Symbols\n",
    "\n",
    "Sometimes we wish to obtain analytical solutions to scientific problems. Although there are many computer algebra systems (CASs) available like Wolfram Alpha, SymPy (Symbolic Python) is open source, uses Python syntax, and can be automated (looped). Be aware that symbolic calculations can take a while.\n",
    "\n",
    "The docs are available [here](https://docs.sympy.org/latest/index.html).\n"
   ]
  },
  {
   "cell_type": "markdown",
   "metadata": {
    "toc": true
   },
   "source": [
    "<h1>Table of Contents<span class=\"tocSkip\"></span></h1>\n",
    "<div class=\"toc\"><ul class=\"toc-item\"><li><span><a href=\"#Basic-calculations\" data-toc-modified-id=\"Basic-calculations-1\"><span class=\"toc-item-num\">1&nbsp;&nbsp;</span>Basic calculations</a></span></li><li><span><a href=\"#Algebraic-manipulation\" data-toc-modified-id=\"Algebraic-manipulation-2\"><span class=\"toc-item-num\">2&nbsp;&nbsp;</span>Algebraic manipulation</a></span><ul class=\"toc-item\"><li><span><a href=\"#Symbols\" data-toc-modified-id=\"Symbols-2.1\"><span class=\"toc-item-num\">2.1&nbsp;&nbsp;</span>Symbols</a></span></li><li><span><a href=\"#Substitution\" data-toc-modified-id=\"Substitution-2.2\"><span class=\"toc-item-num\">2.2&nbsp;&nbsp;</span>Substitution</a></span></li><li><span><a href=\"#Simplification\" data-toc-modified-id=\"Simplification-2.3\"><span class=\"toc-item-num\">2.3&nbsp;&nbsp;</span>Simplification</a></span></li><li><span><a href=\"#Polynomials\" data-toc-modified-id=\"Polynomials-2.4\"><span class=\"toc-item-num\">2.4&nbsp;&nbsp;</span>Polynomials</a></span></li><li><span><a href=\"#Matrices\" data-toc-modified-id=\"Matrices-2.5\"><span class=\"toc-item-num\">2.5&nbsp;&nbsp;</span>Matrices</a></span></li></ul></li><li><span><a href=\"#Calculus\" data-toc-modified-id=\"Calculus-3\"><span class=\"toc-item-num\">3&nbsp;&nbsp;</span>Calculus</a></span><ul class=\"toc-item\"><li><span><a href=\"#Limits\" data-toc-modified-id=\"Limits-3.1\"><span class=\"toc-item-num\">3.1&nbsp;&nbsp;</span>Limits</a></span></li><li><span><a href=\"#Differentiation\" data-toc-modified-id=\"Differentiation-3.2\"><span class=\"toc-item-num\">3.2&nbsp;&nbsp;</span>Differentiation</a></span></li><li><span><a href=\"#Integration\" data-toc-modified-id=\"Integration-3.3\"><span class=\"toc-item-num\">3.3&nbsp;&nbsp;</span>Integration</a></span></li><li><span><a href=\"#Taylor-series-expansion\" data-toc-modified-id=\"Taylor-series-expansion-3.4\"><span class=\"toc-item-num\">3.4&nbsp;&nbsp;</span>Taylor series expansion</a></span></li></ul></li><li><span><a href=\"#Solving-algebraic-equations\" data-toc-modified-id=\"Solving-algebraic-equations-4\"><span class=\"toc-item-num\">4&nbsp;&nbsp;</span>Solving algebraic equations</a></span><ul class=\"toc-item\"><li><span><a href=\"#Single-equations\" data-toc-modified-id=\"Single-equations-4.1\"><span class=\"toc-item-num\">4.1&nbsp;&nbsp;</span>Single equations</a></span></li><li><span><a href=\"#Systems-of-equations\" data-toc-modified-id=\"Systems-of-equations-4.2\"><span class=\"toc-item-num\">4.2&nbsp;&nbsp;</span>Systems of equations</a></span></li></ul></li><li><span><a href=\"#Differential-equations\" data-toc-modified-id=\"Differential-equations-5\"><span class=\"toc-item-num\">5&nbsp;&nbsp;</span>Differential equations</a></span><ul class=\"toc-item\"><li><span><a href=\"#Ordinary-differential-equations\" data-toc-modified-id=\"Ordinary-differential-equations-5.1\"><span class=\"toc-item-num\">5.1&nbsp;&nbsp;</span>Ordinary differential equations</a></span></li><li><span><a href=\"#Laplace-transforms\" data-toc-modified-id=\"Laplace-transforms-5.2\"><span class=\"toc-item-num\">5.2&nbsp;&nbsp;</span>Laplace transforms</a></span></li><li><span><a href=\"#Partial-differential-equations\" data-toc-modified-id=\"Partial-differential-equations-5.3\"><span class=\"toc-item-num\">5.3&nbsp;&nbsp;</span>Partial differential equations</a></span></li></ul></li><li><span><a href=\"#Further-reading\" data-toc-modified-id=\"Further-reading-6\"><span class=\"toc-item-num\">6&nbsp;&nbsp;</span>Further reading</a></span></li></ul></div>"
   ]
  },
  {
   "cell_type": "code",
   "execution_count": null,
   "metadata": {},
   "outputs": [],
   "source": [
    "import numpy as np\n",
    "import sympy as sp\n",
    "sp.init_printing() # pretty printing"
   ]
  },
  {
   "cell_type": "markdown",
   "metadata": {},
   "source": [
    "This notebook was written for SymPy version 1.3"
   ]
  },
  {
   "cell_type": "code",
   "execution_count": null,
   "metadata": {},
   "outputs": [],
   "source": [
    "# sp.__version__"
   ]
  },
  {
   "cell_type": "markdown",
   "metadata": {},
   "source": [
    "## Basic calculations\n",
    "\n",
    "Numeric outputs can be displayed as radicals or fractions. Note that \"pretty printing\" is disabled by the `print()` function."
   ]
  },
  {
   "cell_type": "code",
   "execution_count": null,
   "metadata": {},
   "outputs": [],
   "source": [
    "print(np.sqrt(8))\n",
    "sp.sqrt(8)"
   ]
  },
  {
   "cell_type": "markdown",
   "metadata": {},
   "source": [
    "To force numeric output, use the `evalf()` attribute. You can specify the number of digits, or leave it blank."
   ]
  },
  {
   "cell_type": "code",
   "execution_count": null,
   "metadata": {},
   "outputs": [],
   "source": [
    "(sp.pi + sp.cos(1)).evalf(12) "
   ]
  },
  {
   "cell_type": "markdown",
   "metadata": {},
   "source": [
    "There are different `sympy.core.numbers`. Infinity is also included, and represented by two os. You can use the `sympify` function to convert Python objects such as int(1) into SymPy objects such as Integer(1)."
   ]
  },
  {
   "cell_type": "code",
   "execution_count": null,
   "metadata": {},
   "outputs": [],
   "source": [
    "# Numerical types\n",
    "a = sp.Rational(1, 3)\n",
    "b = sp.Integer(3.8) # rounds DOWN\n",
    "a + b"
   ]
  },
  {
   "cell_type": "code",
   "execution_count": null,
   "metadata": {},
   "outputs": [],
   "source": [
    "type(a)"
   ]
  },
  {
   "cell_type": "code",
   "execution_count": null,
   "metadata": {},
   "outputs": [],
   "source": [
    "sp.oo"
   ]
  },
  {
   "cell_type": "code",
   "execution_count": null,
   "metadata": {},
   "outputs": [],
   "source": [
    "print(2**2/3 + 5)\n",
    "sp.sympify('2**2/3 + 5')"
   ]
  },
  {
   "cell_type": "markdown",
   "metadata": {},
   "source": [
    "Integers can be factorised into their primes, with the output given as a dictionary, e.g. 180 = 2(2) + 3(2) + 5(1)."
   ]
  },
  {
   "cell_type": "code",
   "execution_count": null,
   "metadata": {},
   "outputs": [],
   "source": [
    "sp.factorint(180)"
   ]
  },
  {
   "cell_type": "markdown",
   "metadata": {},
   "source": [
    "## Algebraic manipulation\n",
    "\n",
    "### Symbols\n",
    "\n",
    "Before we can do algebra, we must transform our strings into symbols."
   ]
  },
  {
   "cell_type": "code",
   "execution_count": null,
   "metadata": {},
   "outputs": [],
   "source": [
    "x, y, z = sp.symbols('x, y, z')\n",
    "x, y, z"
   ]
  },
  {
   "cell_type": "code",
   "execution_count": null,
   "metadata": {},
   "outputs": [],
   "source": [
    "(x0,x1,x2,x3,x4,x5,x6,x7,x8,x9) = sp.symbols('x:10')\n",
    "sp.symbols('x:10')"
   ]
  },
  {
   "cell_type": "code",
   "execution_count": null,
   "metadata": {},
   "outputs": [],
   "source": [
    "(𝑎,𝑏,𝑐,𝑑,𝑒,𝑓,𝑔,ℎ) = sp.symbols('a:h')\n",
    "a, b, c"
   ]
  },
  {
   "cell_type": "markdown",
   "metadata": {},
   "source": [
    "For convenience, you can use `sympy.abc` to define symbols. This module exports all Latin and Greek letters as Symbols, so you can conveniently do\n",
    "```Python\n",
    "from sympy.abc import x, y\n",
    "```\n",
    "<span style=\"color:red\"> **Warning:** </span> As of the time of writing this, the capital letters ``C``, ``O``, ``S``, ``I``, ``N``,``E``, and ``Q`` collide with names defined in SymPy. Thus, do not use them:\n",
    "+ sp.C: Deprecated namespace for SymPy classes.\n",
    "+ sp.O: Big O notation which is the order of a function (all terms of powers greater than the one specified).\n",
    "+ sp.S: Firstly, it's a registry for the singleton classes. Secondly, it's a shortcut for `sympify`.\n",
    "+ sp.I: The imaginary unit.\n",
    "+ sp.N: Equivalent to `.evalf()`.\n",
    "+ sp.E: Euler's number.\n",
    "+ sp.Q: The assumptions object that holds a list of supported ask keys"
   ]
  },
  {
   "cell_type": "code",
   "execution_count": null,
   "metadata": {},
   "outputs": [],
   "source": [
    "from sympy.abc import q, epsilon\n",
    "q + epsilon"
   ]
  },
  {
   "cell_type": "markdown",
   "metadata": {},
   "source": [
    "### Substitution\n",
    "\n",
    "The `subs()` method is used to substitute numerical values by returning a new expression. Since SymPy expressions are immutable, all functions will return new expressions."
   ]
  },
  {
   "cell_type": "code",
   "execution_count": null,
   "metadata": {},
   "outputs": [],
   "source": [
    "expr = x0 + 1\n",
    "x0 = 2 \n",
    "expr # Note x0 is still a variable here, but what happens when you run the cell twice?"
   ]
  },
  {
   "cell_type": "code",
   "execution_count": null,
   "metadata": {},
   "outputs": [],
   "source": [
    "expr = x**2 - y*z + sp.cos(y)\n",
    "expr.subs({x:4, y:1, z:2})"
   ]
  },
  {
   "cell_type": "code",
   "execution_count": null,
   "metadata": {},
   "outputs": [],
   "source": [
    "expr.evalf(subs={x:4, y:1, z:2})"
   ]
  },
  {
   "cell_type": "markdown",
   "metadata": {},
   "source": [
    "### Simplification\n",
    "\n",
    "SymPy has dozens of functions to perform various kinds of simplification. There is also one general function called `simplify()` that attempts to apply all of these functions in an intelligent way to arrive at the simplest form of an expression. But “simplest” is not a well-defined term, and it also takes a long time. Therefore, rather use the [specific function](https://docs.sympy.org/latest/tutorial/simplification.html) you require: \n",
    "\n",
    "+ sp.apart (Compute partial fraction decomposition of a rational function.)\n",
    "+ sp.collect (Collect additive terms of an expression.)\n",
    "+ sp.expand (Expand an expression using methods given as hints.)\n",
    "+ sp.factor (Compute the factorisation of expression into irreducibles.)\n",
    "+ sp.logcombine (Combine logarithms.)\n",
    "+ sp.powsimp (Reduce expression by combining powers with similar bases and exponents.)\n",
    "+ sp.radsimp (Rationalise the denominator by removing square roots.)\n",
    "+ sp.together (Denest and combine rational expressions using symbolic methods.)\n",
    "\n",
    "Note these can be used as attributes on the expressions too."
   ]
  },
  {
   "cell_type": "code",
   "execution_count": null,
   "metadata": {},
   "outputs": [],
   "source": [
    "expr = sp.sin(x)**2 + sp.cos(x)**2\n",
    "sp.simplify(expr)"
   ]
  },
  {
   "cell_type": "code",
   "execution_count": null,
   "metadata": {},
   "outputs": [],
   "source": [
    "# Press Tab to see the available methods\n",
    "expr.simplify()"
   ]
  },
  {
   "cell_type": "code",
   "execution_count": null,
   "metadata": {},
   "outputs": [],
   "source": [
    "sp.factor(x**2*z + 4*x*y*z + 4*y**2*z)"
   ]
  },
  {
   "cell_type": "code",
   "execution_count": null,
   "metadata": {},
   "outputs": [],
   "source": [
    "sp.cancel(1/x + (3*x/2 - 2)/(x - 4))"
   ]
  },
  {
   "cell_type": "code",
   "execution_count": null,
   "metadata": {},
   "outputs": [],
   "source": [
    "sp.together(1/x + 1/y + 1/z)"
   ]
  },
  {
   "cell_type": "code",
   "execution_count": null,
   "metadata": {},
   "outputs": [],
   "source": [
    "sp.expand((x + y)**3)"
   ]
  },
  {
   "cell_type": "code",
   "execution_count": null,
   "metadata": {},
   "outputs": [],
   "source": [
    "sp.expand(sp.cos(x + y), trig=True)"
   ]
  },
  {
   "cell_type": "code",
   "execution_count": null,
   "metadata": {
    "scrolled": true
   },
   "outputs": [],
   "source": [
    "expr = (4*x**3 + 21*x**2 + 10*x + 12)/(x**4 + 5*x**3 + 5*x**2 + 4*x)\n",
    "sp.apart(expr)"
   ]
  },
  {
   "cell_type": "markdown",
   "metadata": {},
   "source": [
    "### Polynomials\n",
    "\n",
    "Let's say I want the polynomial coefficients of the numerator & denominator of a very complex fraction. You will notice that SymPy doesn't consider expressions to be polynomials by default. "
   ]
  },
  {
   "cell_type": "code",
   "execution_count": null,
   "metadata": {},
   "outputs": [],
   "source": [
    "f = (x - a)/(x - b)\n",
    "g = c/(x**2 + d*x - e)\n",
    "h = f*g + 1\n",
    "h"
   ]
  },
  {
   "cell_type": "code",
   "execution_count": null,
   "metadata": {},
   "outputs": [],
   "source": [
    "H = h.cancel().collect(x)\n",
    "H"
   ]
  },
  {
   "cell_type": "code",
   "execution_count": null,
   "metadata": {},
   "outputs": [],
   "source": [
    "sp.numer(H), sp.denom(H)"
   ]
  },
  {
   "cell_type": "code",
   "execution_count": null,
   "metadata": {},
   "outputs": [],
   "source": [
    "# turn the numerator into a polynomial of x\n",
    "num = sp.poly(sp.numer(H), x)\n",
    "num"
   ]
  },
  {
   "cell_type": "code",
   "execution_count": null,
   "metadata": {},
   "outputs": [],
   "source": [
    "num.all_coeffs()"
   ]
  },
  {
   "cell_type": "code",
   "execution_count": null,
   "metadata": {},
   "outputs": [],
   "source": [
    "den = sp.poly(sp.denom(H), x)\n",
    "den.all_coeffs()"
   ]
  },
  {
   "cell_type": "markdown",
   "metadata": {},
   "source": [
    "We can also perform polynomial long division. Using the numerator and denominator as polynomials we see the answer is 1, with a remainder of $ cx - ac $."
   ]
  },
  {
   "cell_type": "code",
   "execution_count": null,
   "metadata": {},
   "outputs": [],
   "source": [
    "sp.div(num, den)"
   ]
  },
  {
   "cell_type": "markdown",
   "metadata": {},
   "source": [
    "### Matrices\n",
    "\n",
    "Matrix operations are possible too."
   ]
  },
  {
   "cell_type": "code",
   "execution_count": null,
   "metadata": {},
   "outputs": [],
   "source": [
    "M = sp.Matrix([[1, 2], [3, 4]])\n",
    "N = sp.Matrix([[a, b], [c, d]])\n",
    "M*N"
   ]
  },
  {
   "cell_type": "markdown",
   "metadata": {},
   "source": [
    "## Calculus\n",
    "\n",
    "### Limits\n",
    "\n",
    "It follows the syntax `limit(function, variable, point)`, and can even use l'Hospital's rule. Let's calculate:\n",
    "\n",
    "$$ \\lim_{x \\to 0} \\frac{2 \\sin x- \\sin 2x}{x-\\sin x} $$"
   ]
  },
  {
   "cell_type": "code",
   "execution_count": null,
   "metadata": {},
   "outputs": [],
   "source": [
    "expr = (2*sp.sin(x) - sp.sin(2*x))/(x - sp.sin(x))\n",
    "sp.limit(expr, x, 0)"
   ]
  },
  {
   "cell_type": "code",
   "execution_count": null,
   "metadata": {},
   "outputs": [],
   "source": [
    "# Don't substitute at singularities\n",
    "expr.subs({x:0})"
   ]
  },
  {
   "cell_type": "code",
   "execution_count": null,
   "metadata": {},
   "outputs": [],
   "source": [
    "sp.plot(expr, (x, -10, 10))"
   ]
  },
  {
   "cell_type": "markdown",
   "metadata": {},
   "source": [
    "### Differentiation\n",
    "\n",
    "It follows the syntax `diff(function, variable, order)`. You can input the order of differentiation as a number, or by repeating the variable. Let's calculate:\n",
    "\n",
    "$$ \\frac{\\partial^7}{\\partial z^4 \\partial y^2 \\partial x} e^{xyz} $$"
   ]
  },
  {
   "cell_type": "code",
   "execution_count": null,
   "metadata": {},
   "outputs": [],
   "source": [
    "expr = sp.exp(x*y*z)\n",
    "sp.diff(expr, x, 1, y, 2, z, 4)"
   ]
  },
  {
   "cell_type": "code",
   "execution_count": null,
   "metadata": {},
   "outputs": [],
   "source": [
    "sp.diff(expr, x, y, y, z, z, z, z)"
   ]
  },
  {
   "cell_type": "markdown",
   "metadata": {},
   "source": [
    "### Integration\n",
    "\n",
    "You can calculate integrals between numerical and algebraic limits. Calculate:\n",
    "$$ \\int^{\\infty}_{-\\infty} \\int^{\\infty}_{-\\infty} e^{-x^2 -y^2} \\mathrm{d}x \\mathrm{d}y $$"
   ]
  },
  {
   "cell_type": "code",
   "execution_count": null,
   "metadata": {},
   "outputs": [],
   "source": [
    "sp.integrate(sp.exp(-x**2 - y**2), (x, -sp.oo, sp.oo), (y, -sp.oo, sp.oo))"
   ]
  },
  {
   "cell_type": "code",
   "execution_count": null,
   "metadata": {},
   "outputs": [],
   "source": [
    "sp.integrate(sp.exp(-x**2 - y**2), (x, y))"
   ]
  },
  {
   "cell_type": "code",
   "execution_count": null,
   "metadata": {},
   "outputs": [],
   "source": [
    "sp.integrate(sp.exp(-x**2 - y**2), (x, -a, b), (y, -c, d))"
   ]
  },
  {
   "cell_type": "markdown",
   "metadata": {},
   "source": [
    "### Taylor series expansion\n",
    "\n",
    "A Taylor series is an infinite series that represents a mathematical function. Let's calculate the 6th order Taylor series expansion for $ \\cos(x) $ around $ 0 $.\n",
    "\n",
    "Note, the term at the end represents the [Landau order](https://en.wikipedia.org/wiki/Big_O_notation) term at $ x=0 $. It means that terms with power greater than or equal to $ x^6 $ are omitted. However, it can be removed."
   ]
  },
  {
   "cell_type": "code",
   "execution_count": null,
   "metadata": {},
   "outputs": [],
   "source": [
    "expr = sp.cos(x)\n",
    "expr.series(x, 0, 6)"
   ]
  },
  {
   "cell_type": "code",
   "execution_count": null,
   "metadata": {},
   "outputs": [],
   "source": [
    "expr.series(x, 0, 6).removeO()"
   ]
  },
  {
   "cell_type": "code",
   "execution_count": null,
   "metadata": {},
   "outputs": [],
   "source": [
    "sp.plot(sp.cos(x), sp.cos(x).series(x, 0, 6).removeO(), (x, -3, 3))"
   ]
  },
  {
   "cell_type": "markdown",
   "metadata": {},
   "source": [
    "## Solving algebraic equations\n",
    "\n",
    "### Single equations\n",
    "\n",
    "Again there is a general `solve()` function; however, it does not give the full solution set for transcendental equations, nor does it indicate multiplicity of roots. Here some of the more specific functions will be illustrated:\n",
    "\n",
    "+ solve (Algebraically solves equations and systems of equations.)\n",
    "+ solveset (Solves a given inequality or equation with a set as output.)\n",
    "+ roots (Computes symbolic roots of a univariate polynomial.)\n",
    "+ linsolve (Solves a system of linear equations with both under- and overdetermined systems supported.)\n",
    "+ nonlinsolve (Solves a system of nonlinear equations with both under- and overdetermined systems supported.)\n",
    "\n",
    "As a first example, solve:\n",
    "$$ x^4 = 1 $$\n",
    "\n",
    "We can rewrite the equation so that the one side equals zero, or use the `Eq` attribute with the LHS and RHS as the arguments:"
   ]
  },
  {
   "cell_type": "code",
   "execution_count": null,
   "metadata": {},
   "outputs": [],
   "source": [
    "sp.solve(x**4 - 1, x)"
   ]
  },
  {
   "cell_type": "code",
   "execution_count": null,
   "metadata": {},
   "outputs": [],
   "source": [
    "# note that the output here is a set\n",
    "sp.solveset(x**4 - 1, x)"
   ]
  },
  {
   "cell_type": "code",
   "execution_count": null,
   "metadata": {},
   "outputs": [],
   "source": [
    "sp.solveset(sp.Eq(x**4, 1), x)"
   ]
  },
  {
   "cell_type": "markdown",
   "metadata": {},
   "source": [
    "Now let's try a transcendental equation. (Do you remember Euler's formula?):\n",
    "$$ e^x + 1 = 0 $$"
   ]
  },
  {
   "cell_type": "code",
   "execution_count": null,
   "metadata": {},
   "outputs": [],
   "source": [
    "# solution set for transcendental equation\n",
    "sp.solveset(sp.exp(x) + 1, x)"
   ]
  },
  {
   "cell_type": "code",
   "execution_count": null,
   "metadata": {},
   "outputs": [],
   "source": [
    "sp.solve(sp.exp(x) + 1, x)"
   ]
  },
  {
   "cell_type": "markdown",
   "metadata": {},
   "source": [
    "Consider the exponential function which doesn't cross the x-axis:\n",
    "$$ e^x = 0 $$"
   ]
  },
  {
   "cell_type": "code",
   "execution_count": null,
   "metadata": {},
   "outputs": [],
   "source": [
    "sp.solveset(sp.exp(x), x)"
   ]
  },
  {
   "cell_type": "markdown",
   "metadata": {},
   "source": [
    "The following function has multiple roots at 3.\n",
    "$$ f(x) = x^3 - 6x^2 + 9x $$"
   ]
  },
  {
   "cell_type": "code",
   "execution_count": null,
   "metadata": {},
   "outputs": [],
   "source": [
    "sp.factor(x**3 - 6*x**2 + 9*x)"
   ]
  },
  {
   "cell_type": "code",
   "execution_count": null,
   "metadata": {},
   "outputs": [],
   "source": [
    "# roots are: one 0 and two 3s\n",
    "sp.roots(x**3 - 6*x**2 + 9*x, x)"
   ]
  },
  {
   "cell_type": "code",
   "execution_count": null,
   "metadata": {},
   "outputs": [],
   "source": [
    "sp.plot(x**3 - 6*x**2 + 9*x, (x, -1, 4))"
   ]
  },
  {
   "cell_type": "code",
   "execution_count": null,
   "metadata": {},
   "outputs": [],
   "source": [
    "# only the values of the roots are given here\n",
    "sp.solve(x**3 - 6*x**2 + 9*x, x)"
   ]
  },
  {
   "cell_type": "markdown",
   "metadata": {},
   "source": [
    "### Systems of equations\n"
   ]
  },
  {
   "cell_type": "code",
   "execution_count": null,
   "metadata": {},
   "outputs": [],
   "source": [
    "sp.linsolve((x + 5*y - 2, -3*x + 6*y - 15), (x, y))"
   ]
  },
  {
   "cell_type": "code",
   "execution_count": null,
   "metadata": {},
   "outputs": [],
   "source": [
    "sp.linsolve([x + y + z - 1, x + y + 2*z - 3], (x, y, z))"
   ]
  },
  {
   "cell_type": "code",
   "execution_count": null,
   "metadata": {},
   "outputs": [],
   "source": [
    "sp.nonlinsolve([x**2 - 2*y**2 -2, x*y - 2], (x, y))"
   ]
  },
  {
   "cell_type": "markdown",
   "metadata": {},
   "source": [
    "## Differential equations\n",
    "\n",
    "### Ordinary differential equations\n",
    "\n",
    "SymPy can solve certain ODEs (here I will write them such that they equal zero), but first we must define general \"function symbols\". We typically use `f(x)` to denote a function that we're trying to find, and `f(x).diff()` as mentioned in the Differentiation section.\n",
    "\n",
    "You can read more [here](https://docs.sympy.org/latest/modules/solvers/ode.html)."
   ]
  },
  {
   "cell_type": "code",
   "execution_count": null,
   "metadata": {},
   "outputs": [],
   "source": [
    "f, g = sp.symbols('f g', cls=sp.Function)\n",
    "f(x)"
   ]
  },
  {
   "cell_type": "markdown",
   "metadata": {},
   "source": [
    "Let's find the solution of $$ y^\" + y' + y = 0$$"
   ]
  },
  {
   "cell_type": "code",
   "execution_count": null,
   "metadata": {},
   "outputs": [],
   "source": [
    "de = f(x).diff(x, x) + f(x).diff(x) + f(x)\n",
    "de"
   ]
  },
  {
   "cell_type": "code",
   "execution_count": null,
   "metadata": {},
   "outputs": [],
   "source": [
    "sp.dsolve(de, f(x))"
   ]
  },
  {
   "cell_type": "markdown",
   "metadata": {},
   "source": [
    "Use hints specifying the type of ODE to help `dsolve`. We can obtain a list of ODE classifications with the `classify_ode` function (the earliest answers give the simplest solutions). Also we can save on typing within a line by using the Derivative class for the `f(x).diff(x, 1)`. Finally, we can check the solution of the solver. Let's try all of this on this separable DE:\n",
    "\n",
    "$$ y' = 2xy^2 + 3x^2y^2 $$"
   ]
  },
  {
   "cell_type": "code",
   "execution_count": null,
   "metadata": {},
   "outputs": [],
   "source": [
    "# sp.ode.allhints"
   ]
  },
  {
   "cell_type": "code",
   "execution_count": null,
   "metadata": {},
   "outputs": [],
   "source": [
    "y_ = sp.Derivative(f(x), x) \n",
    "de = 2*x*f(x)**2 + 3*x**2*f(x)**2 - y_\n",
    "sp.classify_ode(de, f(x))"
   ]
  },
  {
   "cell_type": "code",
   "execution_count": null,
   "metadata": {},
   "outputs": [],
   "source": [
    "sol = sp.dsolve(de, f(x), hint='separable')\n",
    "sol"
   ]
  },
  {
   "cell_type": "code",
   "execution_count": null,
   "metadata": {},
   "outputs": [],
   "source": [
    "sp.checkodesol(de, sol)"
   ]
  },
  {
   "cell_type": "markdown",
   "metadata": {},
   "source": [
    "We can also substitute initial conditions (`ics`). Notice how changing the hint from separable to Bernoulli changes the appearance of the output, although the expression is the same:\n",
    "\n",
    "$$ x y' + y = y^2, \\,\\, y(1) = 4$$"
   ]
  },
  {
   "cell_type": "code",
   "execution_count": null,
   "metadata": {},
   "outputs": [],
   "source": [
    "de = x*y_ + f(x) - f(x)**2\n",
    "print(sp.classify_ode(de, f(x)))\n",
    "sol = sp.dsolve(de, f(x), ics={f(1): 4}, hint='separable')\n",
    "sol"
   ]
  },
  {
   "cell_type": "markdown",
   "metadata": {},
   "source": [
    "Lastly, here is a higher order linear homogeneous differential equation with constant coefficients and initial conditions:\n",
    "\n",
    "$$ y^\" + y' - 2y = 8x + 10e^{-2x}, \\,\\, y(0)=1, \\, y'(0)=2$$"
   ]
  },
  {
   "cell_type": "code",
   "execution_count": null,
   "metadata": {},
   "outputs": [],
   "source": [
    "de = f(x).diff(x, 2) + f(x).diff(x, 1) - 2*f(x) - 8*x + 10*sp.exp(-2*x)\n",
    "sp.dsolve(de, f(x)) "
   ]
  },
  {
   "cell_type": "code",
   "execution_count": null,
   "metadata": {},
   "outputs": [],
   "source": [
    "sp.dsolve(de, f(x), ics={f(0): 1, f(x).diff(x, 1).subs(x, 0): 2})"
   ]
  },
  {
   "cell_type": "markdown",
   "metadata": {},
   "source": [
    "### Laplace transforms\n",
    "\n",
    "The idea behind this integral transformation is to take a differential equation and turn it into an algebraic equation to solve it more easily.\n",
    "You can read more [here](https://docs.sympy.org/latest/modules/integrals/integrals.html)\n",
    "\n",
    "$$ \\mathcal{L}\\{f(t)\\} = F(s) = \\int_{0}^{\\infty} f(t)e^{-st} \\mathrm{d}t $$\n",
    "\n",
    "Let's calculate:\n",
    "$$ \\mathcal{L}\\{e^{at}\\} $$"
   ]
  },
  {
   "cell_type": "code",
   "execution_count": null,
   "metadata": {},
   "outputs": [],
   "source": [
    "t, s = sp.symbols('t s')\n",
    "\n",
    "f1 = sp.exp(a*t)\n",
    "sp.laplace_transform(f1, t, s)"
   ]
  },
  {
   "cell_type": "code",
   "execution_count": null,
   "metadata": {},
   "outputs": [],
   "source": [
    "# if you would rather avoid seeing the conditions, use this 'wrapper'\n",
    "def L(f):\n",
    "    return sp.laplace_transform(f, t, s, noconds=True)\n",
    "L(f1)"
   ]
  },
  {
   "cell_type": "code",
   "execution_count": null,
   "metadata": {},
   "outputs": [],
   "source": [
    "F1 = 1/(s-a)\n",
    "sp.inverse_laplace_transform(F1, s, t)"
   ]
  },
  {
   "cell_type": "markdown",
   "metadata": {},
   "source": [
    "### Partial differential equations\n",
    "\n",
    "In contrast with *ordinary* differential equations, PDEs are defined with respect to more than one independent variable. At this time only 3 types of first order linear PDEs are supported. Let's calculate the general solution of the linear wave equation:\n",
    "\n",
    "$$ u_t + c u_x = 0 $$"
   ]
  },
  {
   "cell_type": "code",
   "execution_count": null,
   "metadata": {},
   "outputs": [],
   "source": [
    "# sp.pde?"
   ]
  },
  {
   "cell_type": "code",
   "execution_count": null,
   "metadata": {},
   "outputs": [],
   "source": [
    "x, t, c = sp.symbols('x t c')\n",
    "f = sp.Function('f')\n",
    "\n",
    "u = f(x, t)\n",
    "ut = u.diff(t)\n",
    "ux = u.diff(x)\n",
    "pde = ut + c*ux\n",
    "sp.classify_pde(pde)"
   ]
  },
  {
   "cell_type": "code",
   "execution_count": null,
   "metadata": {},
   "outputs": [],
   "source": [
    "sp.pdsolve(pde)"
   ]
  },
  {
   "cell_type": "markdown",
   "metadata": {},
   "source": [
    "## Further reading\n",
    "\n",
    "There are many more capabilities within the SymPy module (see the .pdf version of the docs). Examples include: number theory, cryptography, geometry, tensors and  finite difference approximations to derivatives. \n",
    "\n",
    "<span style=\"color:red\"> **Warning:** </span> consider reading the [Gotchas and Pitfalls](https://docs.sympy.org/latest/gotchas.html)."
   ]
  },
  {
   "cell_type": "code",
   "execution_count": null,
   "metadata": {},
   "outputs": [],
   "source": [
    "# dir(sp)"
   ]
  },
  {
   "cell_type": "markdown",
   "metadata": {},
   "source": [
    "# Citation\n",
    "\n",
    "Meurer, A, Smith, CP, Paprocki, M, Čertík, O, Kirpichev, SB, Rocklin, M, Kumar, A, Ivanov, S, Moore, JK, Singh, S, Rathnayake, T, Vig, S, Granger, BE, Muller, RP, Bonazzi, F, Gupta, H, Vats, S, Johansson, F, Pedregosa, F, Curry, MJ, Terrel, AR, Roučka, Š, Saboo, A, Fernando, I, Kulal, S, Cimrman, R, Scopatz, A (2017) \"SymPy: Symbolic computing in Python\", _PeerJ Computer Science_, 3:e103, DOI: 10.7717/peerj-cs.103."
   ]
  },
  {
   "cell_type": "code",
   "execution_count": null,
   "metadata": {},
   "outputs": [],
   "source": []
  }
 ],
 "metadata": {
  "kernelspec": {
   "display_name": "Python 3",
   "language": "python",
   "name": "python3"
  },
  "language_info": {
   "codemirror_mode": {
    "name": "ipython",
    "version": 3
   },
   "file_extension": ".py",
   "mimetype": "text/x-python",
   "name": "python",
   "nbconvert_exporter": "python",
   "pygments_lexer": "ipython3",
   "version": "3.8.5"
  },
  "toc": {
   "base_numbering": 1,
   "nav_menu": {},
   "number_sections": true,
   "sideBar": true,
   "skip_h1_title": true,
   "title_cell": "Table of Contents",
   "title_sidebar": "Contents",
   "toc_cell": true,
   "toc_position": {
    "height": "calc(100% - 180px)",
    "left": "10px",
    "top": "150px",
    "width": "165px"
   },
   "toc_section_display": true,
   "toc_window_display": false
  },
  "varInspector": {
   "cols": {
    "lenName": 16,
    "lenType": 16,
    "lenVar": 40
   },
   "kernels_config": {
    "python": {
     "delete_cmd_postfix": "",
     "delete_cmd_prefix": "del ",
     "library": "var_list.py",
     "varRefreshCmd": "print(var_dic_list())"
    },
    "r": {
     "delete_cmd_postfix": ") ",
     "delete_cmd_prefix": "rm(",
     "library": "var_list.r",
     "varRefreshCmd": "cat(var_dic_list()) "
    }
   },
   "types_to_exclude": [
    "module",
    "function",
    "builtin_function_or_method",
    "instance",
    "_Feature"
   ],
   "window_display": false
  }
 },
 "nbformat": 4,
 "nbformat_minor": 2
}
