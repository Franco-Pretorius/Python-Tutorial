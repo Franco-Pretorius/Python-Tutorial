{
 "cells": [
  {
   "cell_type": "markdown",
   "metadata": {},
   "source": [
    "# Number Crunching\n",
    "\n",
    "Although `lambda` is much faster than the conventional for loop, there is something even faster: NumPy arrays! The NumPy package (numerical Python) provides access to a new data structure called arrays which allow efficient linear algebra (vector and matrix) operations. "
   ]
  },
  {
   "cell_type": "markdown",
   "metadata": {
    "toc": true
   },
   "source": [
    "<h1>Table of Contents<span class=\"tocSkip\"></span></h1>\n",
    "<div class=\"toc\"><ul class=\"toc-item\"><li><span><a href=\"#Vectors-(1D)\" data-toc-modified-id=\"Vectors-(1D)-1\"><span class=\"toc-item-num\">1&nbsp;&nbsp;</span>Vectors (1D)</a></span><ul class=\"toc-item\"><li><span><a href=\"#Array-characteristics\" data-toc-modified-id=\"Array-characteristics-1.1\"><span class=\"toc-item-num\">1.1&nbsp;&nbsp;</span>Array characteristics</a></span></li><li><span><a href=\"#Creating-and-using-arrays\" data-toc-modified-id=\"Creating-and-using-arrays-1.2\"><span class=\"toc-item-num\">1.2&nbsp;&nbsp;</span>Creating and using arrays</a></span></li><li><span><a href=\"#Growing-arrays\" data-toc-modified-id=\"Growing-arrays-1.3\"><span class=\"toc-item-num\">1.3&nbsp;&nbsp;</span>Growing arrays</a></span></li></ul></li><li><span><a href=\"#Matrices-(2D)\" data-toc-modified-id=\"Matrices-(2D)-2\"><span class=\"toc-item-num\">2&nbsp;&nbsp;</span>Matrices (2D)</a></span><ul class=\"toc-item\"><li><span><a href=\"#Indexing-matrices\" data-toc-modified-id=\"Indexing-matrices-2.1\"><span class=\"toc-item-num\">2.1&nbsp;&nbsp;</span>Indexing matrices</a></span></li><li><span><a href=\"#Basic-matrix-operations\" data-toc-modified-id=\"Basic-matrix-operations-2.2\"><span class=\"toc-item-num\">2.2&nbsp;&nbsp;</span>Basic matrix operations</a></span></li></ul></li><li><span><a href=\"#Linear-algebra\" data-toc-modified-id=\"Linear-algebra-3\"><span class=\"toc-item-num\">3&nbsp;&nbsp;</span>Linear algebra</a></span></li><li><span><a href=\"#Polynomials\" data-toc-modified-id=\"Polynomials-4\"><span class=\"toc-item-num\">4&nbsp;&nbsp;</span>Polynomials</a></span></li><li><span><a href=\"#Other-abilities\" data-toc-modified-id=\"Other-abilities-5\"><span class=\"toc-item-num\">5&nbsp;&nbsp;</span>Other abilities</a></span></li></ul></div>"
   ]
  },
  {
   "cell_type": "code",
   "execution_count": null,
   "metadata": {},
   "outputs": [],
   "source": [
    "import numpy as np"
   ]
  },
  {
   "cell_type": "markdown",
   "metadata": {},
   "source": [
    "This notebook was written for NumPy version 1.15.4"
   ]
  },
  {
   "cell_type": "code",
   "execution_count": null,
   "metadata": {},
   "outputs": [],
   "source": [
    "np.__version__"
   ]
  },
  {
   "cell_type": "markdown",
   "metadata": {},
   "source": [
    "## Vectors (1D)  \n",
    "\n",
    "### Array characteristics\n",
    "\n",
    "An array appears to be very similar to a list, but an array can keep only elements of the same type (whereas a list can mix different kinds of objects). This means arrays are more efficient to store (because we don't need to store the type for every element). It also makes arrays the data structure of choice for numerical calculations."
   ]
  },
  {
   "cell_type": "code",
   "execution_count": null,
   "metadata": {},
   "outputs": [],
   "source": [
    "x1 = np.array([1, 2, 3])\n",
    "x1"
   ]
  },
  {
   "cell_type": "code",
   "execution_count": null,
   "metadata": {},
   "outputs": [],
   "source": [
    "type(x1)\n",
    "# The nd refers to n-dimensional"
   ]
  },
  {
   "cell_type": "code",
   "execution_count": null,
   "metadata": {},
   "outputs": [],
   "source": [
    "# Indexing and slicing is still the same\n",
    "x1[1:3]"
   ]
  },
  {
   "cell_type": "markdown",
   "metadata": {},
   "source": [
    "If you use help on the array, you'll see this for the data type keyword argument:\n",
    "> If not given, then the type will\n",
    "  be determined as the minimum type required to hold the objects in the\n",
    "  sequence: "
   ]
  },
  {
   "cell_type": "code",
   "execution_count": null,
   "metadata": {},
   "outputs": [],
   "source": [
    "# If you include 1 float, all integers will become floats\n",
    "x2 = np.array([4, 5, 6.0])\n",
    "x2"
   ]
  },
  {
   "cell_type": "code",
   "execution_count": null,
   "metadata": {},
   "outputs": [],
   "source": [
    "# Likewise, all objects here become strings\n",
    "x3 = np.array([1, 1.5, '2'])\n",
    "x3"
   ]
  },
  {
   "cell_type": "code",
   "execution_count": null,
   "metadata": {},
   "outputs": [],
   "source": [
    "# You can still convert between lists and arrays\n",
    "list(x3)"
   ]
  },
  {
   "cell_type": "markdown",
   "metadata": {},
   "source": [
    "Unlike scalars, arrays have a _shape_. The elements of the shape tuple give the lengths of the corresponding array dimensions."
   ]
  },
  {
   "cell_type": "code",
   "execution_count": null,
   "metadata": {},
   "outputs": [],
   "source": [
    "np.shape(x3)\n",
    "# This vector contains 3 elements"
   ]
  },
  {
   "cell_type": "markdown",
   "metadata": {},
   "source": [
    "The biggest (and most useful) difference between arrays and lists are that you can apply a calculation to every number in the sequence with one statement (i.e. _broadcasting_)!\n",
    "\n",
    "Consider this next example. Instead of duplicating the object (as with lists), every element in the array is multiplied. Two dimensions are compatible when they have exactly the same shape, or one of them has a shape of 1."
   ]
  },
  {
   "cell_type": "code",
   "execution_count": null,
   "metadata": {},
   "outputs": [],
   "source": [
    "x1*2"
   ]
  },
  {
   "cell_type": "code",
   "execution_count": null,
   "metadata": {},
   "outputs": [],
   "source": [
    "x1*np.array([2, 3, 5])"
   ]
  },
  {
   "cell_type": "markdown",
   "metadata": {},
   "source": [
    "We use `math` if to do simple comutations with only scalars, but `numpy` for lists, arrays, matrices,  or large datasets. It also contains the same functions (and more)."
   ]
  },
  {
   "cell_type": "code",
   "execution_count": null,
   "metadata": {},
   "outputs": [],
   "source": [
    "np.sin(x1) + np.cos(x2)"
   ]
  },
  {
   "cell_type": "code",
   "execution_count": null,
   "metadata": {},
   "outputs": [],
   "source": [
    "# Mathematical constants\n",
    "print(np.pi)\n",
    "print(np.e)\n",
    "print(np.inf) # infinity\n",
    "print(np.nan) # not a number, e.g. np.log(-1)"
   ]
  },
  {
   "cell_type": "markdown",
   "metadata": {},
   "source": [
    "### Creating and using arrays\n",
    "\n",
    "There are other ways to create arrays. Instead of using `range()`, we'll use `numpy.arange()`. You can also specify the number of values and their spacing, or use the built-in random subpackage for random values."
   ]
  },
  {
   "cell_type": "code",
   "execution_count": null,
   "metadata": {
    "scrolled": true
   },
   "outputs": [],
   "source": [
    "a1 = np.arange(0, 10, 2)   # creates values from 0 to 10 in steps of 2 \n",
    "a2 = np.linspace(0, 10, 5) # creates 5 values linearly spaced from 0 to 10 \n",
    "a3 = np.logspace(0, 10, 5) # creates 5 values logarithmically spaced from 0 to 10\n",
    "\n",
    "print(\"{}, \\n{}, \\n{}\".format(a1, a2, a3))"
   ]
  },
  {
   "cell_type": "code",
   "execution_count": null,
   "metadata": {},
   "outputs": [],
   "source": [
    "a4 = np.random.rand(5)                # floats from 0 to 1 and shape 5\n",
    "a5 = np.random.randn(5)               # Gaussian floats around zero and shape 5\n",
    "a6 = np.random.randint(1, 7, size=10) # 10 integers between 1 and 7\n",
    "\n",
    "print(\"{}, \\n{}, \\n{}\".format(a4, a5, a6))"
   ]
  },
  {
   "cell_type": "markdown",
   "metadata": {},
   "source": [
    "Here are some array attributes. Some are very useful for statistics:"
   ]
  },
  {
   "cell_type": "code",
   "execution_count": null,
   "metadata": {},
   "outputs": [],
   "source": [
    "vec = np.arange(2, 11.0) # If any value is a float, the array will only contain floats\n",
    "vec"
   ]
  },
  {
   "cell_type": "code",
   "execution_count": null,
   "metadata": {},
   "outputs": [],
   "source": [
    "vec.mean()"
   ]
  },
  {
   "cell_type": "code",
   "execution_count": null,
   "metadata": {},
   "outputs": [],
   "source": [
    "# Standard deviation\n",
    "vec.std()"
   ]
  },
  {
   "cell_type": "code",
   "execution_count": null,
   "metadata": {},
   "outputs": [],
   "source": [
    "print(vec.max())\n",
    "print(max(vec)) # This also works"
   ]
  },
  {
   "cell_type": "code",
   "execution_count": null,
   "metadata": {},
   "outputs": [],
   "source": [
    "# Return indices of the maximum values along the given axis.\n",
    "vec.argmax()"
   ]
  },
  {
   "cell_type": "markdown",
   "metadata": {},
   "source": [
    "<span style=\"color:red\"> **Warning:** </span> A shallow copy of an array can't be created by slicing."
   ]
  },
  {
   "cell_type": "code",
   "execution_count": null,
   "metadata": {},
   "outputs": [],
   "source": [
    "import copy"
   ]
  },
  {
   "cell_type": "code",
   "execution_count": null,
   "metadata": {},
   "outputs": [],
   "source": [
    "old = np.array([1, 2, 3, 4])\n",
    "\n",
    "a = old.copy()\n",
    "b = old[:]\n",
    "c = list(old)\n",
    "d = copy.copy(old)\n",
    "e = copy.deepcopy(old)\n",
    "\n",
    "old[-1] = 100\n",
    "\n",
    "print(\"original: {}\\n list.copy(): {}\\n slice: {}\\n list(): {}\\n copy: {}\\n deepcopy: {}\"\n",
    "      .format(old, a, b, c, d, e))"
   ]
  },
  {
   "cell_type": "markdown",
   "metadata": {},
   "source": [
    "### Growing arrays\n",
    "\n",
    "<span style=\"color:red\"> **Warning:** </span> When appending only once, using `np.append` on your array should be fine. The drawback of this approach is that memory is allocated for a *completely new array* every time it is called. When growing an array for a significant amount of samples it would be better to either:\n",
    " + append to a list and convert to an array afterwards, or\n",
    " + make an array of only ones or zeros (if you know how long it should be) and then replace the values.\n",
    " \n",
    "(Answer from [StackOverflow](https://stackoverflow.com/questions/7332841/add-single-element-to-array-in-numpy))."
   ]
  },
  {
   "cell_type": "code",
   "execution_count": null,
   "metadata": {},
   "outputs": [],
   "source": [
    "# Try to avoid doing this repeatedly:\n",
    "x = np.array([10, 20, 30])\n",
    "x = np.append(x, [40, 50, 60])\n",
    "x"
   ]
  },
  {
   "cell_type": "code",
   "execution_count": null,
   "metadata": {},
   "outputs": [],
   "source": [
    "# Also try to avoid stacking repeatedly:\n",
    "print(np.hstack([x, x])) \n",
    "print(np.vstack([x, x]))"
   ]
  },
  {
   "cell_type": "code",
   "execution_count": null,
   "metadata": {},
   "outputs": [],
   "source": []
  },
  {
   "cell_type": "markdown",
   "metadata": {},
   "source": [
    "See how the `zeros_like` attribute creates an array of zeros with the same length and data types as the input."
   ]
  },
  {
   "cell_type": "code",
   "execution_count": null,
   "metadata": {},
   "outputs": [],
   "source": [
    "print(np.zeros(5))\n",
    "print(np.ones(5))\n",
    "print(np.full(5, 23)) # shape of 5, value of 23\n",
    "print('')\n",
    "\n",
    "x = np.array([10, 20, 30, 40, 50, 60])\n",
    "print(x)\n",
    "print(np.zeros_like(x))\n",
    "print(np.ones_like(x))\n",
    "print(np.full_like(x, 43))"
   ]
  },
  {
   "cell_type": "code",
   "execution_count": null,
   "metadata": {},
   "outputs": [],
   "source": [
    "lys = []\n",
    "for i in range(10000):\n",
    "    lys.append(i)\n",
    "arr = np.array(lys) # convert the list to an array\n",
    "arr"
   ]
  },
  {
   "cell_type": "code",
   "execution_count": null,
   "metadata": {},
   "outputs": [],
   "source": [
    "# Make an array of the correct length, consisting only of zeros, then change every value in the loop\n",
    "n = 10000\n",
    "arr = np.zeros(n)\n",
    "\n",
    "for i in range(n):\n",
    "    arr[i] = i\n",
    "arr"
   ]
  },
  {
   "cell_type": "markdown",
   "metadata": {},
   "source": [
    "## Matrices (2D) \n",
    "\n",
    "Matrices are essentially 2-dimensional arrays. Here are 5 ways to create them:\n",
    " + Turning nested lists into an array (where each list is a row)\n",
    " + Creating a matrix of zeros, ones, or other values (as above)\n",
    " + Creating a diagonal matrix\n",
    " + Reshaping a 1-D array\n",
    " + Making a meshgrid (useful for plotting; see next unit)\n",
    " \n",
    "Note: It is no longer recommended to use np.matrix, even for linear algebra. Instead use regular arrays. [The class may be removed in the future.](https://numpy.org/doc/stable/reference/generated/numpy.matrix.html)"
   ]
  },
  {
   "cell_type": "code",
   "execution_count": null,
   "metadata": {},
   "outputs": [],
   "source": [
    "A = np.array([[1,2,3], [4,5,6]]) \n",
    "A"
   ]
  },
  {
   "cell_type": "code",
   "execution_count": null,
   "metadata": {},
   "outputs": [],
   "source": [
    "B = np.zeros((5, 4))\n",
    "print(B)\n",
    "print(np.shape(B))"
   ]
  },
  {
   "cell_type": "code",
   "execution_count": null,
   "metadata": {},
   "outputs": [],
   "source": [
    "np.full((3,4), 7)"
   ]
  },
  {
   "cell_type": "code",
   "execution_count": null,
   "metadata": {},
   "outputs": [],
   "source": [
    "C = np.diag(np.array([1, 2, 3, 4]))\n",
    "C"
   ]
  },
  {
   "cell_type": "code",
   "execution_count": null,
   "metadata": {},
   "outputs": [],
   "source": [
    "D = np.arange(12).reshape(2, 6)\n",
    "D"
   ]
  },
  {
   "cell_type": "markdown",
   "metadata": {},
   "source": [
    "To turn a matrix back to a vector:"
   ]
  },
  {
   "cell_type": "code",
   "execution_count": null,
   "metadata": {},
   "outputs": [],
   "source": [
    "D.flatten()"
   ]
  },
  {
   "cell_type": "markdown",
   "metadata": {},
   "source": [
    "Meshgrid forms 2 matrices, as illustrated below. Essentially, if you were to make a 3-D plot, you require a grid of points on the XY-plane. The XX matrix therefore represents the x-coordinates over that grid. \n",
    "\n",
    "![](Assets/Meshgrid.png)\n",
    "\n",
    "(Answer from [StackOverflow](https://stackoverflow.com/questions/36013063/what-is-the-purpose-of-meshgrid-in-python-numpy))"
   ]
  },
  {
   "cell_type": "code",
   "execution_count": null,
   "metadata": {},
   "outputs": [],
   "source": [
    "x = [1, 2, 3, 4]\n",
    "y = [7, 5, 6]\n",
    "XX, YY = np.meshgrid(x, y)\n",
    "print(XX)\n",
    "print('')\n",
    "print(YY)"
   ]
  },
  {
   "cell_type": "markdown",
   "metadata": {},
   "source": [
    "### Indexing matrices\n",
    "\n",
    "Remember how we indexed nested lists in Unit 1? The same principle applies here."
   ]
  },
  {
   "cell_type": "code",
   "execution_count": null,
   "metadata": {},
   "outputs": [],
   "source": [
    "A = np.array([[ 7, 4,  5, 12],\n",
    "              [-5, 8,  1,  0],\n",
    "              [-6, 7,  9, 10]])\n",
    "\n",
    "print(A[0]) # 1st row\n",
    "print(A[0][0]) # 1st row, 1st column\n",
    "print(A[0, 0]) # also acceptable\n",
    "print(A[-1][1:3]) # last row, slice from 1st to 3rd comma\n",
    "print(A[:][0]) # 1st row"
   ]
  },
  {
   "cell_type": "markdown",
   "metadata": {},
   "source": [
    "To access columns, use this notation:"
   ]
  },
  {
   "cell_type": "code",
   "execution_count": null,
   "metadata": {},
   "outputs": [],
   "source": [
    "print(A[:, 0]) # 1st column\n",
    "print(A[::, 0]) # also acceptable\n",
    "print('----')\n",
    "print(A[0:4, 0:4]) # entire matrix\n",
    "print(A[:2, :3]) # first 2 rows; first 3 columns "
   ]
  },
  {
   "cell_type": "markdown",
   "metadata": {},
   "source": [
    "### Basic matrix operations\n",
    "\n",
    "Let's consider the addition, multiplication and transposition of matrices.\n",
    "\n",
    "Remember multiplication is only possible if the number of columns in the first matrix equals the number of rows in the second matrix. "
   ]
  },
  {
   "cell_type": "code",
   "execution_count": null,
   "metadata": {},
   "outputs": [],
   "source": [
    "A = np.array([[2, 4], [1, -3]])\n",
    "B = np.array([[0, -1], [2, 1]])\n",
    "print(A)\n",
    "print('')\n",
    "print(B)"
   ]
  },
  {
   "cell_type": "code",
   "execution_count": null,
   "metadata": {},
   "outputs": [],
   "source": [
    "print(A + B) # element-wise addition"
   ]
  },
  {
   "cell_type": "code",
   "execution_count": null,
   "metadata": {},
   "outputs": [],
   "source": [
    "print(A @ B) # preferred\n",
    "\n",
    "print(A.dot(B)) # Note that this notation is preferred for the dot product of arrays"
   ]
  },
  {
   "cell_type": "code",
   "execution_count": null,
   "metadata": {},
   "outputs": [],
   "source": [
    "# both accepted\n",
    "print(A.transpose())\n",
    "print(A.T)"
   ]
  },
  {
   "cell_type": "markdown",
   "metadata": {},
   "source": [
    "The identity matrix, $I$, had to be named as a pun to prevent confusion 😜"
   ]
  },
  {
   "cell_type": "code",
   "execution_count": null,
   "metadata": {},
   "outputs": [],
   "source": [
    "np.eye(5)"
   ]
  },
  {
   "cell_type": "markdown",
   "metadata": {},
   "source": [
    "## Linear algebra \n",
    "\n",
    "Lastly let's illustrate the computational capabilities of the `linalg` submodule. Consider the system of linear equations given by \n",
    "\n",
    "$ Ax = b $\n",
    "\n",
    "If the system is well-determined, use `LA.solve()` to solve it. If the system is under-, over-determined use the `LA.lstsq()` function to return the least-squares solution to a linear matrix equation. We will also calculate the determinant, inverse, eigenvalue, eigenvector and first order norm of the matrix $A$.\n",
    "\n",
    "Try changing just 1 element in the system and see how it affects the results!"
   ]
  },
  {
   "cell_type": "code",
   "execution_count": null,
   "metadata": {},
   "outputs": [],
   "source": [
    "import numpy.linalg as LA"
   ]
  },
  {
   "cell_type": "code",
   "execution_count": null,
   "metadata": {},
   "outputs": [],
   "source": [
    "A = np.array([[2, 3, 4, 1], \n",
    "              [1, 1, 2, 1], \n",
    "              [2, 4, 5, 2], \n",
    "              [1, 2, 3, 4]])\n",
    "b = np.array([[10], [5], [13], [10]])"
   ]
  },
  {
   "cell_type": "code",
   "execution_count": null,
   "metadata": {},
   "outputs": [],
   "source": [
    "LA.solve(A, b)"
   ]
  },
  {
   "cell_type": "code",
   "execution_count": null,
   "metadata": {},
   "outputs": [],
   "source": [
    "LA.det(A)"
   ]
  },
  {
   "cell_type": "code",
   "execution_count": null,
   "metadata": {},
   "outputs": [],
   "source": [
    "LA.inv(A)"
   ]
  },
  {
   "cell_type": "code",
   "execution_count": null,
   "metadata": {},
   "outputs": [],
   "source": [
    "evalues, evectors = LA.eig(A) \n",
    "print(evalues)\n",
    "print(evectors)"
   ]
  },
  {
   "cell_type": "code",
   "execution_count": null,
   "metadata": {},
   "outputs": [],
   "source": [
    "LA.norm(A, ord=1)"
   ]
  },
  {
   "cell_type": "markdown",
   "metadata": {},
   "source": [
    "## Polynomials \n",
    "\n",
    "For numerical evaluations of polynomials, NumPy provides \"convenience classes\" for quick calculations, including root-finding and curve-fitting. See the [docs](https://docs.scipy.org/doc/numpy/reference/routines.polynomials.classes.html).\n",
    "\n",
    "For information on *plotting, symbolic calculations and nonlinear curve-fitting* see the next Units.\n",
    "\n",
    "First, let's define $ p(x) = 1 + 2x + 4x^3 $"
   ]
  },
  {
   "cell_type": "code",
   "execution_count": null,
   "metadata": {},
   "outputs": [],
   "source": [
    "from numpy.polynomial import Polynomial as P"
   ]
  },
  {
   "cell_type": "code",
   "execution_count": null,
   "metadata": {},
   "outputs": [],
   "source": [
    "p = P([1,2,0,4])\n",
    "p"
   ]
  },
  {
   "cell_type": "code",
   "execution_count": null,
   "metadata": {},
   "outputs": [],
   "source": [
    "p.roots()"
   ]
  },
  {
   "cell_type": "markdown",
   "metadata": {},
   "source": [
    "To fit a polynomial to data with `np.polyfit`, specify the x- and y-data, as well as the order of the polynomial. The output will be the coefficients with the highest power first."
   ]
  },
  {
   "cell_type": "code",
   "execution_count": null,
   "metadata": {},
   "outputs": [],
   "source": [
    "xdata = np.array([0.0, 1.0, 2.0, 3.0, 4.0, 5.0]) \n",
    "ydata = np.array([0.0, 0.8, 0.9, 0.1, -0.8, -1.0])\n",
    "z = np.polyfit(xdata , ydata , 3)\n",
    "z"
   ]
  },
  {
   "cell_type": "markdown",
   "metadata": {},
   "source": [
    "To see other subpackages in NumPy like `random`, `fft` and `polynomial`, use help."
   ]
  },
  {
   "cell_type": "code",
   "execution_count": null,
   "metadata": {},
   "outputs": [],
   "source": [
    "# np?"
   ]
  },
  {
   "cell_type": "markdown",
   "metadata": {},
   "source": [
    "## Other abilities\n",
    "\n",
    "There are many more functions in the `numpy` library that can't be discussed here. Although Python is currently at version 3.7, the modules have their own version numbers:\n",
    "\n",
    " + [Mathematical (\"universal\") functions like arcsin](https://docs.scipy.org/doc/numpy/reference/routines.math.html)\n",
    " + [Financial functions like NPV](https://docs.scipy.org/doc/numpy/reference/routines.financial.html)\n",
    " + [More statistics](https://docs.scipy.org/doc/numpy/reference/routines.statistics.html)\n",
    " + [More linear algebra](https://docs.scipy.org/doc/numpy/reference/routines.linalg.html)\n",
    " + [More polynomials](https://docs.scipy.org/doc/numpy/reference/routines.polynomials.html)\n",
    " + [Dates and time](https://docs.scipy.org/doc/numpy/reference/arrays.datetime.html)\n",
    " + [Discrete (fast) Fourier transform](https://docs.scipy.org/doc/numpy/reference/routines.fft.html)\n",
    " + [Sorting, searching, and counting in arrays](https://docs.scipy.org/doc/numpy/reference/routines.sort.html)"
   ]
  },
  {
   "cell_type": "markdown",
   "metadata": {},
   "source": [
    "# Citation\n",
    "\n",
    "If NumPy contributes to a scientific publication, you may cite it as follows:\n",
    "\n",
    "Oliphant, TE (2006) _A guide to NumPy_, Trelgol Publishing, USA.\n",
    "\n",
    "Van der Walt, S, Colbert, SC and Varoquaux, G (2011) \"The NumPy array: A structure for efficient numerical computation\", _Computing in Science & Engineering_, 13(2), 22–30, DOI: 10.1109/MCSE.2011.37.\n",
    "\n",
    "[(Publisher link)](https://aip.scitation.org/doi/abs/10.1109/MCSE.2011.37)"
   ]
  },
  {
   "cell_type": "code",
   "execution_count": null,
   "metadata": {},
   "outputs": [],
   "source": []
  }
 ],
 "metadata": {
  "kernelspec": {
   "display_name": "Python 3",
   "language": "python",
   "name": "python3"
  },
  "language_info": {
   "codemirror_mode": {
    "name": "ipython",
    "version": 3
   },
   "file_extension": ".py",
   "mimetype": "text/x-python",
   "name": "python",
   "nbconvert_exporter": "python",
   "pygments_lexer": "ipython3",
   "version": "3.8.11"
  },
  "toc": {
   "base_numbering": 1,
   "nav_menu": {},
   "number_sections": true,
   "sideBar": false,
   "skip_h1_title": true,
   "title_cell": "Table of Contents",
   "title_sidebar": "Contents",
   "toc_cell": true,
   "toc_position": {},
   "toc_section_display": false,
   "toc_window_display": false
  },
  "varInspector": {
   "cols": {
    "lenName": 16,
    "lenType": 16,
    "lenVar": 40
   },
   "kernels_config": {
    "python": {
     "delete_cmd_postfix": "",
     "delete_cmd_prefix": "del ",
     "library": "var_list.py",
     "varRefreshCmd": "print(var_dic_list())"
    },
    "r": {
     "delete_cmd_postfix": ") ",
     "delete_cmd_prefix": "rm(",
     "library": "var_list.r",
     "varRefreshCmd": "cat(var_dic_list()) "
    }
   },
   "types_to_exclude": [
    "module",
    "function",
    "builtin_function_or_method",
    "instance",
    "_Feature"
   ],
   "window_display": false
  }
 },
 "nbformat": 4,
 "nbformat_minor": 2
}
